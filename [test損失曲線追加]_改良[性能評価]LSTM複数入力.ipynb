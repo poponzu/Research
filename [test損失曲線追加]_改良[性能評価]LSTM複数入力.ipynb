{
  "nbformat": 4,
  "nbformat_minor": 0,
  "metadata": {
    "colab": {
      "provenance": [],
      "collapsed_sections": [],
      "authorship_tag": "ABX9TyNCY6oDVH35XJfp3KUay+1F",
      "include_colab_link": true
    },
    "kernelspec": {
      "name": "python3",
      "display_name": "Python 3"
    },
    "language_info": {
      "name": "python"
    }
  },
  "cells": [
    {
      "cell_type": "markdown",
      "metadata": {
        "id": "view-in-github",
        "colab_type": "text"
      },
      "source": [
        "<a href=\"https://colab.research.google.com/github/poponzu/Research/blob/master/%5Btest%E6%90%8D%E5%A4%B1%E6%9B%B2%E7%B7%9A%E8%BF%BD%E5%8A%A0%5D_%E6%94%B9%E8%89%AF%5B%E6%80%A7%E8%83%BD%E8%A9%95%E4%BE%A1%5DLSTM%E8%A4%87%E6%95%B0%E5%85%A5%E5%8A%9B.ipynb\" target=\"_parent\"><img src=\"https://colab.research.google.com/assets/colab-badge.svg\" alt=\"Open In Colab\"/></a>"
      ]
    },
    {
      "cell_type": "markdown",
      "source": [
        "#  <span style=\"color: red\">実行前にデバッグモードであるかどうか、train_start, test_start, data_endの値, 学習回数epochsを確認！</span>"
      ],
      "metadata": {
        "id": "jYTnKPsNDy3n"
      }
    },
    {
      "cell_type": "code",
      "source": [
        "# debug = 1はデバック（動作確認用)\n",
        "debug = 0"
      ],
      "metadata": {
        "id": "9mPK9YdWHwpv"
      },
      "execution_count": 394,
      "outputs": []
    },
    {
      "cell_type": "code",
      "source": [
        "# データの範囲指定\n",
        "if debug:\n",
        "  train_start = 2000\n",
        "  test_start = 2490\n",
        "  data_end = 2500\n",
        "else: \n",
        "  train_start = 2000\n",
        "  test_start = 6500\n",
        "  data_end = 7000\n",
        "\n",
        "# 学習回数\n",
        "if debug:\n",
        "  epochs = 2\n",
        "else:\n",
        "  epochs = 10"
      ],
      "metadata": {
        "id": "-KnqDKQVDwZn"
      },
      "execution_count": 395,
      "outputs": []
    },
    {
      "cell_type": "markdown",
      "source": [
        "## このノートブックのLSTMモデルは[これ](https://qiita.com/tsubauaaa/items/8411a22465811ec2ee11#%E5%AD%A6%E7%BF%92%E3%83%87%E3%83%BC%E3%82%BF%E3%81%AE%E3%82%B7%E3%83%BC%E3%82%B1%E3%83%B3%E3%82%B9%E3%83%87%E3%83%BC%E3%82%BF%E3%82%92%E5%8F%96%E5%BE%97)を参考に作成した！"
      ],
      "metadata": {
        "id": "_rJYzFRMBtz6"
      }
    },
    {
      "cell_type": "code",
      "source": [
        "!pip install torchmetrics"
      ],
      "metadata": {
        "colab": {
          "base_uri": "https://localhost:8080/"
        },
        "id": "EzVAje5jN9rL",
        "outputId": "58d1bc74-f0b7-4b97-b5b4-356cfc9430f3"
      },
      "execution_count": 396,
      "outputs": [
        {
          "output_type": "stream",
          "name": "stdout",
          "text": [
            "Looking in indexes: https://pypi.org/simple, https://us-python.pkg.dev/colab-wheels/public/simple/\n",
            "Requirement already satisfied: torchmetrics in /usr/local/lib/python3.7/dist-packages (0.10.0)\n",
            "Requirement already satisfied: typing-extensions in /usr/local/lib/python3.7/dist-packages (from torchmetrics) (4.1.1)\n",
            "Requirement already satisfied: torch>=1.3.1 in /usr/local/lib/python3.7/dist-packages (from torchmetrics) (1.12.1+cu113)\n",
            "Requirement already satisfied: numpy>=1.17.2 in /usr/local/lib/python3.7/dist-packages (from torchmetrics) (1.21.6)\n",
            "Requirement already satisfied: packaging in /usr/local/lib/python3.7/dist-packages (from torchmetrics) (21.3)\n",
            "Requirement already satisfied: pyparsing!=3.0.5,>=2.0.2 in /usr/local/lib/python3.7/dist-packages (from packaging->torchmetrics) (3.0.9)\n"
          ]
        }
      ]
    },
    {
      "cell_type": "code",
      "execution_count": 397,
      "metadata": {
        "id": "dTSKdjD64564"
      },
      "outputs": [],
      "source": [
        "import torch\n",
        "import torch.nn as nn\n",
        "import torch.optim as optim\n",
        "import matplotlib.pyplot as plt\n",
        "import pandas as pd\n",
        "import numpy as np\n",
        "from torchmetrics.functional import mean_absolute_error\n",
        "import random\n",
        "import os\n",
        "%matplotlib inline"
      ]
    },
    {
      "cell_type": "code",
      "source": [
        "# deviceの作成\n",
        "# device = 'cuda' if torch.cuda.is_available else 'cpu'\n",
        "device = 'cpu'"
      ],
      "metadata": {
        "id": "tM0qBpfR5A-q"
      },
      "execution_count": 398,
      "outputs": []
    },
    {
      "cell_type": "code",
      "source": [
        "device"
      ],
      "metadata": {
        "colab": {
          "base_uri": "https://localhost:8080/",
          "height": 35
        },
        "id": "pA-ydPLu5Ez_",
        "outputId": "9d472c01-1fdb-4393-b51d-fc8950e8a88a"
      },
      "execution_count": 399,
      "outputs": [
        {
          "output_type": "execute_result",
          "data": {
            "text/plain": [
              "'cpu'"
            ],
            "application/vnd.google.colaboratory.intrinsic+json": {
              "type": "string"
            }
          },
          "metadata": {},
          "execution_count": 399
        }
      ]
    },
    {
      "cell_type": "code",
      "source": [
        "# Google Driveをマウントする\n",
        "from google.colab import drive\n",
        "drive.mount('/content/drive')"
      ],
      "metadata": {
        "colab": {
          "base_uri": "https://localhost:8080/"
        },
        "id": "jimRcnEy5IbA",
        "outputId": "b689c1a7-7a8c-45df-f7f7-035913f845c1"
      },
      "execution_count": 400,
      "outputs": [
        {
          "output_type": "stream",
          "name": "stdout",
          "text": [
            "Drive already mounted at /content/drive; to attempt to forcibly remount, call drive.mount(\"/content/drive\", force_remount=True).\n"
          ]
        }
      ]
    },
    {
      "cell_type": "code",
      "source": [
        "def seed_everything(seed=42):\n",
        "    print('Setting Random Seed')\n",
        "    random.seed(seed)\n",
        "    os.environ['PYTHONHASHSEED'] = str(seed)\n",
        "    np.random.seed(seed)\n",
        "    torch.manual_seed(seed)\n",
        "    torch.cuda.manual_seed(seed)\n",
        "    torch.backends.cudnn.deterministic = True\n",
        "\n",
        "seed_everything(42)"
      ],
      "metadata": {
        "colab": {
          "base_uri": "https://localhost:8080/"
        },
        "id": "_2-73HKTOZ0A",
        "outputId": "350cdd81-b51a-4ab4-c95d-e3ace5e34a0e"
      },
      "execution_count": 401,
      "outputs": [
        {
          "output_type": "stream",
          "name": "stdout",
          "text": [
            "Setting Random Seed\n"
          ]
        }
      ]
    },
    {
      "cell_type": "code",
      "source": [
        "data = pd.read_csv(\"/content/drive/MyDrive/Colab Notebooks/LSTM-AE/Bike_sharing_predict/Bike-Sharing-Dataset/hour.csv\")"
      ],
      "metadata": {
        "id": "wybsq_ic5MdX"
      },
      "execution_count": 402,
      "outputs": []
    },
    {
      "cell_type": "code",
      "source": [
        "data.head()"
      ],
      "metadata": {
        "colab": {
          "base_uri": "https://localhost:8080/",
          "height": 206
        },
        "id": "DBNaR-nq5lko",
        "outputId": "ed693d8d-cb5e-4cf1-d6f1-76b50d0d7be6"
      },
      "execution_count": 403,
      "outputs": [
        {
          "output_type": "execute_result",
          "data": {
            "text/plain": [
              "   instant      dteday  season  yr  mnth  hr  holiday  weekday  workingday  \\\n",
              "0        1  2011-01-01       1   0     1   0        0        6           0   \n",
              "1        2  2011-01-01       1   0     1   1        0        6           0   \n",
              "2        3  2011-01-01       1   0     1   2        0        6           0   \n",
              "3        4  2011-01-01       1   0     1   3        0        6           0   \n",
              "4        5  2011-01-01       1   0     1   4        0        6           0   \n",
              "\n",
              "   weathersit  temp   atemp   hum  windspeed  casual  registered  cnt  \n",
              "0           1  0.24  0.2879  0.81        0.0       3          13   16  \n",
              "1           1  0.22  0.2727  0.80        0.0       8          32   40  \n",
              "2           1  0.22  0.2727  0.80        0.0       5          27   32  \n",
              "3           1  0.24  0.2879  0.75        0.0       3          10   13  \n",
              "4           1  0.24  0.2879  0.75        0.0       0           1    1  "
            ],
            "text/html": [
              "\n",
              "  <div id=\"df-927e62ce-ae57-4d33-992c-e996acf574d2\">\n",
              "    <div class=\"colab-df-container\">\n",
              "      <div>\n",
              "<style scoped>\n",
              "    .dataframe tbody tr th:only-of-type {\n",
              "        vertical-align: middle;\n",
              "    }\n",
              "\n",
              "    .dataframe tbody tr th {\n",
              "        vertical-align: top;\n",
              "    }\n",
              "\n",
              "    .dataframe thead th {\n",
              "        text-align: right;\n",
              "    }\n",
              "</style>\n",
              "<table border=\"1\" class=\"dataframe\">\n",
              "  <thead>\n",
              "    <tr style=\"text-align: right;\">\n",
              "      <th></th>\n",
              "      <th>instant</th>\n",
              "      <th>dteday</th>\n",
              "      <th>season</th>\n",
              "      <th>yr</th>\n",
              "      <th>mnth</th>\n",
              "      <th>hr</th>\n",
              "      <th>holiday</th>\n",
              "      <th>weekday</th>\n",
              "      <th>workingday</th>\n",
              "      <th>weathersit</th>\n",
              "      <th>temp</th>\n",
              "      <th>atemp</th>\n",
              "      <th>hum</th>\n",
              "      <th>windspeed</th>\n",
              "      <th>casual</th>\n",
              "      <th>registered</th>\n",
              "      <th>cnt</th>\n",
              "    </tr>\n",
              "  </thead>\n",
              "  <tbody>\n",
              "    <tr>\n",
              "      <th>0</th>\n",
              "      <td>1</td>\n",
              "      <td>2011-01-01</td>\n",
              "      <td>1</td>\n",
              "      <td>0</td>\n",
              "      <td>1</td>\n",
              "      <td>0</td>\n",
              "      <td>0</td>\n",
              "      <td>6</td>\n",
              "      <td>0</td>\n",
              "      <td>1</td>\n",
              "      <td>0.24</td>\n",
              "      <td>0.2879</td>\n",
              "      <td>0.81</td>\n",
              "      <td>0.0</td>\n",
              "      <td>3</td>\n",
              "      <td>13</td>\n",
              "      <td>16</td>\n",
              "    </tr>\n",
              "    <tr>\n",
              "      <th>1</th>\n",
              "      <td>2</td>\n",
              "      <td>2011-01-01</td>\n",
              "      <td>1</td>\n",
              "      <td>0</td>\n",
              "      <td>1</td>\n",
              "      <td>1</td>\n",
              "      <td>0</td>\n",
              "      <td>6</td>\n",
              "      <td>0</td>\n",
              "      <td>1</td>\n",
              "      <td>0.22</td>\n",
              "      <td>0.2727</td>\n",
              "      <td>0.80</td>\n",
              "      <td>0.0</td>\n",
              "      <td>8</td>\n",
              "      <td>32</td>\n",
              "      <td>40</td>\n",
              "    </tr>\n",
              "    <tr>\n",
              "      <th>2</th>\n",
              "      <td>3</td>\n",
              "      <td>2011-01-01</td>\n",
              "      <td>1</td>\n",
              "      <td>0</td>\n",
              "      <td>1</td>\n",
              "      <td>2</td>\n",
              "      <td>0</td>\n",
              "      <td>6</td>\n",
              "      <td>0</td>\n",
              "      <td>1</td>\n",
              "      <td>0.22</td>\n",
              "      <td>0.2727</td>\n",
              "      <td>0.80</td>\n",
              "      <td>0.0</td>\n",
              "      <td>5</td>\n",
              "      <td>27</td>\n",
              "      <td>32</td>\n",
              "    </tr>\n",
              "    <tr>\n",
              "      <th>3</th>\n",
              "      <td>4</td>\n",
              "      <td>2011-01-01</td>\n",
              "      <td>1</td>\n",
              "      <td>0</td>\n",
              "      <td>1</td>\n",
              "      <td>3</td>\n",
              "      <td>0</td>\n",
              "      <td>6</td>\n",
              "      <td>0</td>\n",
              "      <td>1</td>\n",
              "      <td>0.24</td>\n",
              "      <td>0.2879</td>\n",
              "      <td>0.75</td>\n",
              "      <td>0.0</td>\n",
              "      <td>3</td>\n",
              "      <td>10</td>\n",
              "      <td>13</td>\n",
              "    </tr>\n",
              "    <tr>\n",
              "      <th>4</th>\n",
              "      <td>5</td>\n",
              "      <td>2011-01-01</td>\n",
              "      <td>1</td>\n",
              "      <td>0</td>\n",
              "      <td>1</td>\n",
              "      <td>4</td>\n",
              "      <td>0</td>\n",
              "      <td>6</td>\n",
              "      <td>0</td>\n",
              "      <td>1</td>\n",
              "      <td>0.24</td>\n",
              "      <td>0.2879</td>\n",
              "      <td>0.75</td>\n",
              "      <td>0.0</td>\n",
              "      <td>0</td>\n",
              "      <td>1</td>\n",
              "      <td>1</td>\n",
              "    </tr>\n",
              "  </tbody>\n",
              "</table>\n",
              "</div>\n",
              "      <button class=\"colab-df-convert\" onclick=\"convertToInteractive('df-927e62ce-ae57-4d33-992c-e996acf574d2')\"\n",
              "              title=\"Convert this dataframe to an interactive table.\"\n",
              "              style=\"display:none;\">\n",
              "        \n",
              "  <svg xmlns=\"http://www.w3.org/2000/svg\" height=\"24px\"viewBox=\"0 0 24 24\"\n",
              "       width=\"24px\">\n",
              "    <path d=\"M0 0h24v24H0V0z\" fill=\"none\"/>\n",
              "    <path d=\"M18.56 5.44l.94 2.06.94-2.06 2.06-.94-2.06-.94-.94-2.06-.94 2.06-2.06.94zm-11 1L8.5 8.5l.94-2.06 2.06-.94-2.06-.94L8.5 2.5l-.94 2.06-2.06.94zm10 10l.94 2.06.94-2.06 2.06-.94-2.06-.94-.94-2.06-.94 2.06-2.06.94z\"/><path d=\"M17.41 7.96l-1.37-1.37c-.4-.4-.92-.59-1.43-.59-.52 0-1.04.2-1.43.59L10.3 9.45l-7.72 7.72c-.78.78-.78 2.05 0 2.83L4 21.41c.39.39.9.59 1.41.59.51 0 1.02-.2 1.41-.59l7.78-7.78 2.81-2.81c.8-.78.8-2.07 0-2.86zM5.41 20L4 18.59l7.72-7.72 1.47 1.35L5.41 20z\"/>\n",
              "  </svg>\n",
              "      </button>\n",
              "      \n",
              "  <style>\n",
              "    .colab-df-container {\n",
              "      display:flex;\n",
              "      flex-wrap:wrap;\n",
              "      gap: 12px;\n",
              "    }\n",
              "\n",
              "    .colab-df-convert {\n",
              "      background-color: #E8F0FE;\n",
              "      border: none;\n",
              "      border-radius: 50%;\n",
              "      cursor: pointer;\n",
              "      display: none;\n",
              "      fill: #1967D2;\n",
              "      height: 32px;\n",
              "      padding: 0 0 0 0;\n",
              "      width: 32px;\n",
              "    }\n",
              "\n",
              "    .colab-df-convert:hover {\n",
              "      background-color: #E2EBFA;\n",
              "      box-shadow: 0px 1px 2px rgba(60, 64, 67, 0.3), 0px 1px 3px 1px rgba(60, 64, 67, 0.15);\n",
              "      fill: #174EA6;\n",
              "    }\n",
              "\n",
              "    [theme=dark] .colab-df-convert {\n",
              "      background-color: #3B4455;\n",
              "      fill: #D2E3FC;\n",
              "    }\n",
              "\n",
              "    [theme=dark] .colab-df-convert:hover {\n",
              "      background-color: #434B5C;\n",
              "      box-shadow: 0px 1px 3px 1px rgba(0, 0, 0, 0.15);\n",
              "      filter: drop-shadow(0px 1px 2px rgba(0, 0, 0, 0.3));\n",
              "      fill: #FFFFFF;\n",
              "    }\n",
              "  </style>\n",
              "\n",
              "      <script>\n",
              "        const buttonEl =\n",
              "          document.querySelector('#df-927e62ce-ae57-4d33-992c-e996acf574d2 button.colab-df-convert');\n",
              "        buttonEl.style.display =\n",
              "          google.colab.kernel.accessAllowed ? 'block' : 'none';\n",
              "\n",
              "        async function convertToInteractive(key) {\n",
              "          const element = document.querySelector('#df-927e62ce-ae57-4d33-992c-e996acf574d2');\n",
              "          const dataTable =\n",
              "            await google.colab.kernel.invokeFunction('convertToInteractive',\n",
              "                                                     [key], {});\n",
              "          if (!dataTable) return;\n",
              "\n",
              "          const docLinkHtml = 'Like what you see? Visit the ' +\n",
              "            '<a target=\"_blank\" href=https://colab.research.google.com/notebooks/data_table.ipynb>data table notebook</a>'\n",
              "            + ' to learn more about interactive tables.';\n",
              "          element.innerHTML = '';\n",
              "          dataTable['output_type'] = 'display_data';\n",
              "          await google.colab.output.renderOutput(dataTable, element);\n",
              "          const docLink = document.createElement('div');\n",
              "          docLink.innerHTML = docLinkHtml;\n",
              "          element.appendChild(docLink);\n",
              "        }\n",
              "      </script>\n",
              "    </div>\n",
              "  </div>\n",
              "  "
            ]
          },
          "metadata": {},
          "execution_count": 403
        }
      ]
    },
    {
      "cell_type": "code",
      "source": [
        "len_data = data.shape[0]"
      ],
      "metadata": {
        "id": "X-6o4tTD5yDO"
      },
      "execution_count": 404,
      "outputs": []
    },
    {
      "cell_type": "markdown",
      "source": [
        "# 使用する特徴量を指定する"
      ],
      "metadata": {
        "id": "bkqR9EpBERsC"
      }
    },
    {
      "cell_type": "code",
      "source": [
        "Bike_data = data[['cnt', 'temp', 'registered']]"
      ],
      "metadata": {
        "id": "rbYM1GMb6HbD"
      },
      "execution_count": 405,
      "outputs": []
    },
    {
      "cell_type": "markdown",
      "source": [
        "# 特徴量を時系列にグラフ表示"
      ],
      "metadata": {
        "id": "3akVeEFW7cmh"
      }
    },
    {
      "cell_type": "code",
      "source": [
        "# fig, (axL, axM, axR) = plt.subplots(ncols=3, figsize=(20,5))\n",
        "\n",
        "# axL.plot(Bike_data['cnt'], linewidth=2)\n",
        "# axL.set_title('Number of Bike sharing cnt')\n",
        "# axL.set_xlabel('2012/1/1-2013/12/31')\n",
        "# axL.set_ylabel('cnt')\n",
        "# axL.grid(True)\n",
        "# axL.vlines(x=2000, ymin=0, ymax=1000, colors='red', linestyles='dotted')\n",
        "# axL.vlines(x=6500, ymin=0, ymax=1000, colors='black', linestyles='dotted')\n",
        "# axL.vlines(x=7000, ymin=0, ymax=1000, colors='red', linestyles='dotted')\n",
        "\n",
        "\n",
        "# axM.plot(Bike_data['temp'], linewidth=2)\n",
        "# axM.set_title('tempeture')\n",
        "# axM.set_xlabel('2012/1/1-2013/12/31')\n",
        "# axM.set_ylabel('temp')\n",
        "# axM.grid(True)\n",
        "# axM.vlines(x=2000, ymin=0, ymax=1, colors='red', linestyles='dotted')\n",
        "# axM.vlines(x=6500, ymin=0, ymax=1, colors='black', linestyles='dotted')\n",
        "# axM.vlines(x=7000, ymin=0, ymax=1, colors='red', linestyles='dotted')\n",
        "\n",
        "# axR.plot(Bike_data['registered'], linewidth=2)\n",
        "# axR.set_title('Number of registered')\n",
        "# axR.set_xlabel('2012/1/1-2013/12/31')\n",
        "# axR.set_ylabel('registered')\n",
        "# axR.grid(True)\n",
        "# axR.vlines(x=2000, ymin=0, ymax=800, colors='red', linestyles='dotted')\n",
        "# axR.vlines(x=6500, ymin=0, ymax=800, colors='black', linestyles='dotted')\n",
        "# axR.vlines(x=7000, ymin=0, ymax=800, colors='red', linestyles='dotted')\n",
        "\n",
        "# fig.show()"
      ],
      "metadata": {
        "id": "8Qsgqrcg6XSZ"
      },
      "execution_count": 406,
      "outputs": []
    },
    {
      "cell_type": "markdown",
      "source": [
        "# 軽量化のためデータ量を調節"
      ],
      "metadata": {
        "id": "f5lx9ki7ErF4"
      }
    },
    {
      "cell_type": "code",
      "source": [
        "Bike_data = Bike_data[train_start:data_end]"
      ],
      "metadata": {
        "id": "8qx3Wis2c4cK"
      },
      "execution_count": 407,
      "outputs": []
    },
    {
      "cell_type": "code",
      "source": [
        "Bike_data = Bike_data.values.astype(float)\n",
        "Bike_data.shape"
      ],
      "metadata": {
        "colab": {
          "base_uri": "https://localhost:8080/"
        },
        "id": "i_-EJw6K63Nz",
        "outputId": "f369495b-edb1-4433-fe43-824857d5c89c"
      },
      "execution_count": 408,
      "outputs": [
        {
          "output_type": "execute_result",
          "data": {
            "text/plain": [
              "(5000, 3)"
            ]
          },
          "metadata": {},
          "execution_count": 408
        }
      ]
    },
    {
      "cell_type": "markdown",
      "source": [
        "# 学習データとテストデータに分割する"
      ],
      "metadata": {
        "id": "V2Ma2T9p8Gp3"
      }
    },
    {
      "cell_type": "code",
      "source": [
        "test_data_size = data_end - test_start\n",
        "\n",
        "train_data = Bike_data[:-test_data_size]\n",
        "test_data = Bike_data[-test_data_size:]"
      ],
      "metadata": {
        "id": "CmjnSWXi8qw3"
      },
      "execution_count": 409,
      "outputs": []
    },
    {
      "cell_type": "code",
      "source": [
        "#train_dataの正規化\n",
        "# データセットの正規化を行う。最小値0と最大値1の範囲で行う。\n",
        "from sklearn.preprocessing import MinMaxScaler\n",
        "\n",
        "scaler = MinMaxScaler(feature_range=(0, 1))\n",
        "train_data_normalized = scaler.fit_transform(train_data)"
      ],
      "metadata": {
        "id": "mHEbH2u48-bt"
      },
      "execution_count": 410,
      "outputs": []
    },
    {
      "cell_type": "code",
      "source": [
        "# Tensor型に変換\n",
        "train_data_normalized = torch.FloatTensor(train_data_normalized)"
      ],
      "metadata": {
        "id": "YZufpe8O9GKl"
      },
      "execution_count": 411,
      "outputs": []
    },
    {
      "cell_type": "code",
      "source": [
        "# シーケンスに沿ったデータを作成する関数\n",
        "def make_sequence_data(input_data, num_sequence):\n",
        "    # シーケンスデータとラベルデータの器\n",
        "    data = []\n",
        "    # 全体のデータ数取得\n",
        "    num_data = len(input_data)\n",
        "    # 全体からシーケンス分引いた数までループする\n",
        "    for i in range(num_data - num_sequence):\n",
        "        # 1個ずらして、シーケンス分のデータを取得していく\n",
        "        seq_data = input_data[i:i+num_sequence]\n",
        "        # シーケンスの次の要素のデータ(ラベルデータとして1個目の陽性者数のみ)を取得していく\n",
        "        target_data = input_data[:,0][i+num_sequence:i+num_sequence+1]\n",
        "        # シーケンスデータとラベルデータをタプルとして取得していく\n",
        "        data.append((seq_data, target_data))\n",
        "\n",
        "    return data"
      ],
      "metadata": {
        "id": "gWlTDQ0k9H-g"
      },
      "execution_count": 412,
      "outputs": []
    },
    {
      "cell_type": "code",
      "source": [
        "# シーケンス長は24データとする\n",
        "# 24時間分のデータから次の1日後のデータを予測する\n",
        "# 48時間とかにしてもよいかも\n",
        "seq_length = 24\n",
        "# train_seq_data=最初のデータを1個ずらしてシーケンス分のデータ(時系列の学習データ群)、train_target=train_seq_dataの次のデータ(ラベルデータ)\n",
        "train_seq_data = make_sequence_data(train_data_normalized, seq_length)"
      ],
      "metadata": {
        "id": "PYf59jGT9SOu"
      },
      "execution_count": 413,
      "outputs": []
    },
    {
      "cell_type": "code",
      "source": [
        "train_data_normalized[:3]"
      ],
      "metadata": {
        "colab": {
          "base_uri": "https://localhost:8080/"
        },
        "id": "U5gpKkNC-Eau",
        "outputId": "ff1d4ce9-37e4-469a-835e-b57bcb61f0bb"
      },
      "execution_count": 414,
      "outputs": [
        {
          "output_type": "execute_result",
          "data": {
            "text/plain": [
              "tensor([[0.0108, 0.0000, 0.0141],\n",
              "        [0.0754, 0.0000, 0.0811],\n",
              "        [0.2031, 0.0000, 0.2257]])"
            ]
          },
          "metadata": {},
          "execution_count": 414
        }
      ]
    },
    {
      "cell_type": "code",
      "source": [
        "# train_seq_data[:3]"
      ],
      "metadata": {
        "id": "tKZ8MFYC92S4"
      },
      "execution_count": 415,
      "outputs": []
    },
    {
      "cell_type": "code",
      "source": [
        "class LSTM(nn.Module):\n",
        "    def __init__(self, input_size=3, hidden_layer_size=100, output_size=1):\n",
        "        super().__init__()\n",
        "        self.hidden_layer_size = hidden_layer_size\n",
        "\n",
        "        self.lstm = nn.LSTM(input_size=input_size, hidden_size=hidden_layer_size, batch_first=True)\n",
        "\n",
        "        self.linear = nn.Linear(in_features=hidden_layer_size, out_features=output_size)\n",
        "\n",
        "    def forward(self, x):\n",
        "        # LSTMのinputは(batch_size, seq_len, input_size)にする\n",
        "        # LSTMのoutputは(batch_size, seq_len, hidden_layer_size)となる\n",
        "        # hidden stateとcell stateにはNoneを渡して0ベクトルを渡す\n",
        "        lstm_out, (hn, cn) = self.lstm(x, None)\n",
        "        # Linearのinputは(N,∗,in_features)にする\n",
        "        # lstm_out(batch_size, seq_len, hidden_layer_size)のseq_len方向の最後の値をLinearに入力する\n",
        "        prediction = self.linear(lstm_out[:, -1, :])\n",
        "        return prediction"
      ],
      "metadata": {
        "id": "07NlRr0194sl"
      },
      "execution_count": 416,
      "outputs": []
    },
    {
      "cell_type": "code",
      "source": [
        "device"
      ],
      "metadata": {
        "colab": {
          "base_uri": "https://localhost:8080/",
          "height": 35
        },
        "id": "zDI8IpdQA5dI",
        "outputId": "fc851e2d-b3d3-40cb-ea7f-c74511872f38"
      },
      "execution_count": 417,
      "outputs": [
        {
          "output_type": "execute_result",
          "data": {
            "text/plain": [
              "'cpu'"
            ],
            "application/vnd.google.colaboratory.intrinsic+json": {
              "type": "string"
            }
          },
          "metadata": {},
          "execution_count": 417
        }
      ]
    },
    {
      "cell_type": "code",
      "source": [
        "device = 'cpu'"
      ],
      "metadata": {
        "id": "OLRcCiKzBGZG"
      },
      "execution_count": 418,
      "outputs": []
    },
    {
      "cell_type": "code",
      "source": [
        "model = LSTM()\n",
        "model.to(device)"
      ],
      "metadata": {
        "colab": {
          "base_uri": "https://localhost:8080/"
        },
        "id": "X4XrplUK-iaU",
        "outputId": "41859802-e225-45b2-f122-481c0c5dbc3d"
      },
      "execution_count": 419,
      "outputs": [
        {
          "output_type": "execute_result",
          "data": {
            "text/plain": [
              "LSTM(\n",
              "  (lstm): LSTM(3, 100, batch_first=True)\n",
              "  (linear): Linear(in_features=100, out_features=1, bias=True)\n",
              ")"
            ]
          },
          "metadata": {},
          "execution_count": 419
        }
      ]
    },
    {
      "cell_type": "code",
      "source": [
        "# 損失関数と最適化関数を定義\n",
        "criterion = nn.MSELoss()\n",
        "optimizer = optim.AdamW(model.parameters(), lr=0.001)"
      ],
      "metadata": {
        "id": "61EOB6jK-sbH"
      },
      "execution_count": 420,
      "outputs": []
    },
    {
      "cell_type": "markdown",
      "source": [
        "# testの損失も追加する"
      ],
      "metadata": {
        "id": "NEmvWLIjKDcb"
      }
    },
    {
      "cell_type": "code",
      "source": [
        "# 予測する日数\n",
        "pred_days = test_data_size\n",
        "# テストデータの正規化を行う。最小値0と最大値1の範囲で行ってTensor型に変換する。\n",
        "test_data_normalized = scaler.fit_transform(test_data)\n",
        "test_data_normalized = torch.FloatTensor(test_data_normalized)\n",
        "# 予測するためのデータの最初のseq_length分はtrain_dataを使う\n",
        "test_inputs = train_data_normalized[-seq_length:].tolist()\n",
        "\n",
        "# t_dataの用意\n",
        "t_data = pd.read_csv(\"/content/drive/MyDrive/Colab Notebooks/LSTM-AE/Bike_sharing_predict/Bike-Sharing-Dataset/hour.csv\")\n",
        "t_data = t_data[\"cnt\"][test_start:data_end]\n",
        "t_data = t_data.values.astype(np.float32)\n",
        "t_data = torch.from_numpy(t_data)"
      ],
      "metadata": {
        "id": "lPK7nqQUKf7U"
      },
      "execution_count": 421,
      "outputs": []
    },
    {
      "cell_type": "code",
      "source": [
        "import tqdm\n",
        "\n",
        "train_losses = []\n",
        "test_losses = []\n",
        "\n",
        "for i in tqdm.tqdm(range(epochs)):\n",
        "    model.train()\n",
        "    for seq, labels in train_seq_data:\n",
        "        # seq, labelsのshapeは(seq_length, 特徴量)なのでLSTMに渡すために(batch, seq_length, 特徴量)にする。(batch=1)\n",
        "        seq, labels = torch.unsqueeze(seq, 0), torch.unsqueeze(labels, 0)\n",
        "        seq, labels = seq.to(device), labels.to(device)\n",
        "        optimizer.zero_grad()\n",
        "        y_pred = model(seq)\n",
        "        single_loss = criterion(y_pred, labels)\n",
        "        single_loss.backward()\n",
        "        optimizer.step()\n",
        "\n",
        "    train_losses.append(single_loss.item())\n",
        "    print(f'epoch: {i}, loss : {single_loss.item()}')\n",
        "\n",
        "    # testデータに対する予測の損失計算\n",
        "    # モデルを評価モードとする\n",
        "    model.eval()\n",
        "    # 予測値を入れるリスト\n",
        "    test_outputs = []\n",
        "    for i in range(pred_days):\n",
        "        seq = torch.FloatTensor(test_inputs[-seq_length:])\n",
        "        seq = torch.unsqueeze(seq, 0)\n",
        "        seq = seq.to(device)\n",
        "        with torch.no_grad():\n",
        "            test_inputs.append(test_data_normalized.tolist()[i])\n",
        "            test_outputs.append(model(seq).item())\n",
        "\n",
        "    np_test_outputs = np.array(test_outputs).reshape(-1,1)\n",
        "    # 列方向に同じ値を追加して(?, 3)にする\n",
        "    np_test_outputs2 = np.hstack((np_test_outputs, np_test_outputs))\n",
        "    np_test_outputs3 = np.hstack((np_test_outputs2, np_test_outputs))\n",
        "    actual_predictions = scaler.inverse_transform(np_test_outputs3)\n",
        "\n",
        "    predictions = torch.from_numpy(actual_predictions[:,0])\n",
        "    test_criterion = nn.MSELoss()\n",
        "    test_loss = test_criterion(t_data, predictions)\n",
        "    test_losses.append(test_loss)"
      ],
      "metadata": {
        "colab": {
          "base_uri": "https://localhost:8080/"
        },
        "id": "qid2VQsE-uXY",
        "outputId": "ac368032-6181-42d7-9d9d-e2bc25cb32c4"
      },
      "execution_count": 422,
      "outputs": [
        {
          "output_type": "stream",
          "name": "stderr",
          "text": [
            "\r  0%|          | 0/10 [00:00<?, ?it/s]"
          ]
        },
        {
          "output_type": "stream",
          "name": "stdout",
          "text": [
            "epoch: 0, loss : 0.0345386378467083\n"
          ]
        },
        {
          "output_type": "stream",
          "name": "stderr",
          "text": [
            "\r 10%|█         | 1/10 [00:42<06:21, 42.40s/it]"
          ]
        },
        {
          "output_type": "stream",
          "name": "stdout",
          "text": [
            "epoch: 1, loss : 0.028503209352493286\n"
          ]
        },
        {
          "output_type": "stream",
          "name": "stderr",
          "text": [
            "\r 20%|██        | 2/10 [01:12<04:42, 35.26s/it]"
          ]
        },
        {
          "output_type": "stream",
          "name": "stdout",
          "text": [
            "epoch: 2, loss : 0.013040406629443169\n"
          ]
        },
        {
          "output_type": "stream",
          "name": "stderr",
          "text": [
            "\r 30%|███       | 3/10 [01:42<03:51, 33.01s/it]"
          ]
        },
        {
          "output_type": "stream",
          "name": "stdout",
          "text": [
            "epoch: 3, loss : 0.019314132630825043\n"
          ]
        },
        {
          "output_type": "stream",
          "name": "stderr",
          "text": [
            "\r 40%|████      | 4/10 [02:15<03:17, 32.92s/it]"
          ]
        },
        {
          "output_type": "stream",
          "name": "stdout",
          "text": [
            "epoch: 4, loss : 0.00945284217596054\n"
          ]
        },
        {
          "output_type": "stream",
          "name": "stderr",
          "text": [
            "\r 50%|█████     | 5/10 [02:45<02:39, 31.91s/it]"
          ]
        },
        {
          "output_type": "stream",
          "name": "stdout",
          "text": [
            "epoch: 5, loss : 0.016669824719429016\n"
          ]
        },
        {
          "output_type": "stream",
          "name": "stderr",
          "text": [
            "\r 60%|██████    | 6/10 [03:15<02:04, 31.24s/it]"
          ]
        },
        {
          "output_type": "stream",
          "name": "stdout",
          "text": [
            "epoch: 6, loss : 0.006936818826943636\n"
          ]
        },
        {
          "output_type": "stream",
          "name": "stderr",
          "text": [
            "\r 70%|███████   | 7/10 [03:45<01:32, 30.69s/it]"
          ]
        },
        {
          "output_type": "stream",
          "name": "stdout",
          "text": [
            "epoch: 7, loss : 0.007474634796380997\n"
          ]
        },
        {
          "output_type": "stream",
          "name": "stderr",
          "text": [
            "\r 80%|████████  | 8/10 [04:15<01:01, 30.64s/it]"
          ]
        },
        {
          "output_type": "stream",
          "name": "stdout",
          "text": [
            "epoch: 8, loss : 0.007910873740911484\n"
          ]
        },
        {
          "output_type": "stream",
          "name": "stderr",
          "text": [
            "\r 90%|█████████ | 9/10 [04:54<00:33, 33.11s/it]"
          ]
        },
        {
          "output_type": "stream",
          "name": "stdout",
          "text": [
            "epoch: 9, loss : 0.005695855710655451\n"
          ]
        },
        {
          "output_type": "stream",
          "name": "stderr",
          "text": [
            "100%|██████████| 10/10 [05:24<00:00, 32.47s/it]\n"
          ]
        }
      ]
    },
    {
      "cell_type": "code",
      "source": [
        "#trainデータに対する予測の損失をグラフ表示\n",
        "plt.title('train_loss')\n",
        "plt.plot(train_losses)"
      ],
      "metadata": {
        "colab": {
          "base_uri": "https://localhost:8080/",
          "height": 298
        },
        "id": "2sa7X0VgJ_bq",
        "outputId": "27f954f2-a414-408d-9ac5-8a490006d1d5"
      },
      "execution_count": 423,
      "outputs": [
        {
          "output_type": "execute_result",
          "data": {
            "text/plain": [
              "[<matplotlib.lines.Line2D at 0x7f39845138d0>]"
            ]
          },
          "metadata": {},
          "execution_count": 423
        },
        {
          "output_type": "display_data",
          "data": {
            "text/plain": [
              "<Figure size 432x288 with 1 Axes>"
            ],
            "image/png": "[encoded data removed]"
          },
          "metadata": {
            "needs_background": "light"
          }
        }
      ]
    },
    {
      "cell_type": "code",
      "source": [
        "# testデータに対する予測の損失をグラフ表示\n",
        "plt.title('test_loss')\n",
        "plt.plot(test_losses)"
      ],
      "metadata": {
        "colab": {
          "base_uri": "https://localhost:8080/",
          "height": 298
        },
        "id": "1_-HEzyXL5r4",
        "outputId": "cc59c7c1-13a2-480e-f8ef-6fc5f0f8ff07"
      },
      "execution_count": 424,
      "outputs": [
        {
          "output_type": "execute_result",
          "data": {
            "text/plain": [
              "[<matplotlib.lines.Line2D at 0x7f397e88b990>]"
            ]
          },
          "metadata": {},
          "execution_count": 424
        },
        {
          "output_type": "display_data",
          "data": {
            "text/plain": [
              "<Figure size 432x288 with 1 Axes>"
            ],
            "image/png": "[encoded data removed]"
          },
          "metadata": {
            "needs_background": "light"
          }
        }
      ]
    },
    {
      "cell_type": "code",
      "source": [
        "# 予測する日数\n",
        "pred_days = test_data_size\n",
        "# テストデータの正規化を行う。最小値0と最大値1の範囲で行ってTensor型に変換する。\n",
        "test_data_normalized = scaler.fit_transform(test_data)\n",
        "test_data_normalized = torch.FloatTensor(test_data_normalized)\n",
        "# 予測するためのデータの最初のseq_length分はtrain_dataを使う\n",
        "test_inputs = train_data_normalized[-seq_length:].tolist()"
      ],
      "metadata": {
        "id": "YKsDmNQh-22C"
      },
      "execution_count": 425,
      "outputs": []
    },
    {
      "cell_type": "code",
      "source": [
        "seq_length"
      ],
      "metadata": {
        "colab": {
          "base_uri": "https://localhost:8080/"
        },
        "id": "HbdgimHq_bfH",
        "outputId": "b239769f-b9f8-4c6a-845d-dd3c58340f4a"
      },
      "execution_count": 426,
      "outputs": [
        {
          "output_type": "execute_result",
          "data": {
            "text/plain": [
              "24"
            ]
          },
          "metadata": {},
          "execution_count": 426
        }
      ]
    },
    {
      "cell_type": "code",
      "source": [
        "# モデルを評価モードとする\n",
        "model.eval()\n",
        "# 予測値を入れるリスト\n",
        "test_outputs = []\n",
        "for i in range(pred_days):\n",
        "    seq = torch.FloatTensor(test_inputs[-seq_length:])\n",
        "    seq = torch.unsqueeze(seq, 0)\n",
        "    seq = seq.to(device)\n",
        "    with torch.no_grad():\n",
        "        test_inputs.append(test_data_normalized.tolist()[i])\n",
        "        test_outputs.append(model(seq).item())"
      ],
      "metadata": {
        "id": "GADIqnr3_9xx"
      },
      "execution_count": 427,
      "outputs": []
    },
    {
      "cell_type": "markdown",
      "source": [
        "#  出力結果を入力の列に使った特徴量の次元に合わせてここは変更する必要あり。(関数化したいけど、あとで）"
      ],
      "metadata": {
        "id": "lcZIxlhdGBCs"
      }
    },
    {
      "cell_type": "code",
      "source": [
        "np_test_outputs = np.array(test_outputs).reshape(-1,1)\n",
        "# 列方向に同じ値を追加して(30, 3)にする\n",
        "np_test_outputs2 = np.hstack((np_test_outputs, np_test_outputs))\n",
        "np_test_outputs3 = np.hstack((np_test_outputs2, np_test_outputs))\n",
        "actual_predictions = scaler.inverse_transform(np_test_outputs3)"
      ],
      "metadata": {
        "id": "clWBEvLGAQwX"
      },
      "execution_count": 428,
      "outputs": []
    },
    {
      "cell_type": "code",
      "source": [
        "# 関数化を試みるも面倒(10/5時点)\n",
        "def stack(outputs, dim):\n",
        "  np_outputs1 = np.array(outputs).reshape(-1,1)"
      ],
      "metadata": {
        "id": "Vhaph3NMGRu5"
      },
      "execution_count": 429,
      "outputs": []
    },
    {
      "cell_type": "code",
      "source": [
        "test_data_size"
      ],
      "metadata": {
        "colab": {
          "base_uri": "https://localhost:8080/"
        },
        "id": "8AY-URKad38_",
        "outputId": "31b8be73-132a-49c0-dccd-1ce279b69b86"
      },
      "execution_count": 430,
      "outputs": [
        {
          "output_type": "execute_result",
          "data": {
            "text/plain": [
              "500"
            ]
          },
          "metadata": {},
          "execution_count": 430
        }
      ]
    },
    {
      "cell_type": "code",
      "source": [
        "# 予測値のx軸の値の設定\n",
        "x = np.arange(test_start, data_end, 1)\n",
        "print(x,test_data_size)"
      ],
      "metadata": {
        "colab": {
          "base_uri": "https://localhost:8080/"
        },
        "id": "4FG1_LkPAjkj",
        "outputId": "57bd33e6-aaf6-4435-9724-106a79da9616"
      },
      "execution_count": 431,
      "outputs": [
        {
          "output_type": "stream",
          "name": "stdout",
          "text": [
            "[6500 6501 6502 6503 6504 6505 6506 6507 6508 6509 6510 6511 6512 6513\n",
            " 6514 6515 6516 6517 6518 6519 6520 6521 6522 6523 6524 6525 6526 6527\n",
            " 6528 6529 6530 6531 6532 6533 6534 6535 6536 6537 6538 6539 6540 6541\n",
            " 6542 6543 6544 6545 6546 6547 6548 6549 6550 6551 6552 6553 6554 6555\n",
            " 6556 6557 6558 6559 6560 6561 6562 6563 6564 6565 6566 6567 6568 6569\n",
            " 6570 6571 6572 6573 6574 6575 6576 6577 6578 6579 6580 6581 6582 6583\n",
            " 6584 6585 6586 6587 6588 6589 6590 6591 6592 6593 6594 6595 6596 6597\n",
            " 6598 6599 6600 6601 6602 6603 6604 6605 6606 6607 6608 6609 6610 6611\n",
            " 6612 6613 6614 6615 6616 6617 6618 6619 6620 6621 6622 6623 6624 6625\n",
            " 6626 6627 6628 6629 6630 6631 6632 6633 6634 6635 6636 6637 6638 6639\n",
            " 6640 6641 6642 6643 6644 6645 6646 6647 6648 6649 6650 6651 6652 6653\n",
            " 6654 6655 6656 6657 6658 6659 6660 6661 6662 6663 6664 6665 6666 6667\n",
            " 6668 6669 6670 6671 6672 6673 6674 6675 6676 6677 6678 6679 6680 6681\n",
            " 6682 6683 6684 6685 6686 6687 6688 6689 6690 6691 6692 6693 6694 6695\n",
            " 6696 6697 6698 6699 6700 6701 6702 6703 6704 6705 6706 6707 6708 6709\n",
            " 6710 6711 6712 6713 6714 6715 6716 6717 6718 6719 6720 6721 6722 6723\n",
            " 6724 6725 6726 6727 6728 6729 6730 6731 6732 6733 6734 6735 6736 6737\n",
            " 6738 6739 6740 6741 6742 6743 6744 6745 6746 6747 6748 6749 6750 6751\n",
            " 6752 6753 6754 6755 6756 6757 6758 6759 6760 6761 6762 6763 6764 6765\n",
            " 6766 6767 6768 6769 6770 6771 6772 6773 6774 6775 6776 6777 6778 6779\n",
            " 6780 6781 6782 6783 6784 6785 6786 6787 6788 6789 6790 6791 6792 6793\n",
            " 6794 6795 6796 6797 6798 6799 6800 6801 6802 6803 6804 6805 6806 6807\n",
            " 6808 6809 6810 6811 6812 6813 6814 6815 6816 6817 6818 6819 6820 6821\n",
            " 6822 6823 6824 6825 6826 6827 6828 6829 6830 6831 6832 6833 6834 6835\n",
            " 6836 6837 6838 6839 6840 6841 6842 6843 6844 6845 6846 6847 6848 6849\n",
            " 6850 6851 6852 6853 6854 6855 6856 6857 6858 6859 6860 6861 6862 6863\n",
            " 6864 6865 6866 6867 6868 6869 6870 6871 6872 6873 6874 6875 6876 6877\n",
            " 6878 6879 6880 6881 6882 6883 6884 6885 6886 6887 6888 6889 6890 6891\n",
            " 6892 6893 6894 6895 6896 6897 6898 6899 6900 6901 6902 6903 6904 6905\n",
            " 6906 6907 6908 6909 6910 6911 6912 6913 6914 6915 6916 6917 6918 6919\n",
            " 6920 6921 6922 6923 6924 6925 6926 6927 6928 6929 6930 6931 6932 6933\n",
            " 6934 6935 6936 6937 6938 6939 6940 6941 6942 6943 6944 6945 6946 6947\n",
            " 6948 6949 6950 6951 6952 6953 6954 6955 6956 6957 6958 6959 6960 6961\n",
            " 6962 6963 6964 6965 6966 6967 6968 6969 6970 6971 6972 6973 6974 6975\n",
            " 6976 6977 6978 6979 6980 6981 6982 6983 6984 6985 6986 6987 6988 6989\n",
            " 6990 6991 6992 6993 6994 6995 6996 6997 6998 6999] 500\n"
          ]
        }
      ]
    },
    {
      "cell_type": "markdown",
      "source": [
        "# 予測結果と実際の値を同じ図に図示する"
      ],
      "metadata": {
        "id": "L45ScoaIHYcP"
      }
    },
    {
      "cell_type": "code",
      "source": [
        "fig_size = plt.rcParams['figure.figsize']\n",
        "fig_size[0] = 10\n",
        "fig_size[1] = 5\n",
        "plt.rcParams['figure.figsize'] = fig_size"
      ],
      "metadata": {
        "id": "Ak9wcMcxAoN_"
      },
      "execution_count": 432,
      "outputs": []
    },
    {
      "cell_type": "code",
      "source": [
        "plt.title('Number of cnt')\n",
        "plt.ylabel('cnt')\n",
        "plt.grid(True)\n",
        "plt.autoscale(axis='x', tight=True)\n",
        "plt.plot(data['cnt'], label='Ground Truth')\n",
        "plt.plot(x, actual_predictions[:,0], label='Prediction')\n",
        "plt.xlabel('2011/1/1 - 2012/12/31')\n",
        "plt.legend()\n",
        "plt.vlines(x=train_start, ymin=0, ymax=1000, colors='red', linestyles='dotted')\n",
        "plt.vlines(x=test_start, ymin=0, ymax=1000, colors='black', linestyles='dotted')\n",
        "plt.vlines(x=data_end, ymin=0, ymax=1000, colors='red', linestyles='dotted')\n",
        "plt.show()"
      ],
      "metadata": {
        "colab": {
          "base_uri": "https://localhost:8080/",
          "height": 350
        },
        "id": "rq4z7B-EAqEz",
        "outputId": "d7493067-b739-4087-fb02-1e0ac201860f"
      },
      "execution_count": 433,
      "outputs": [
        {
          "output_type": "display_data",
          "data": {
            "text/plain": [
              "<Figure size 720x360 with 1 Axes>"
            ],
            "image/png": "[encoded data removed]"
          },
          "metadata": {
            "needs_background": "light"
          }
        }
      ]
    },
    {
      "cell_type": "markdown",
      "source": [
        "# 予測部分拡大ver"
      ],
      "metadata": {
        "id": "xZJB6psRHT6b"
      }
    },
    {
      "cell_type": "code",
      "source": [
        "plt.title('Bike sharing data')\n",
        "plt.ylabel('cnt in 1 hour')\n",
        "plt.grid(True)\n",
        "plt.plot(data[\"cnt\"][test_start:data_end], label='Ground Truth')\n",
        "plt.plot(x,actual_predictions[:,0], label='Prediction')\n",
        "plt.legend()\n",
        "plt.show()"
      ],
      "metadata": {
        "id": "dxT84DACA4GR",
        "colab": {
          "base_uri": "https://localhost:8080/",
          "height": 336
        },
        "outputId": "edbe7bc1-61db-41bf-c70e-b428628541d5"
      },
      "execution_count": 434,
      "outputs": [
        {
          "output_type": "display_data",
          "data": {
            "text/plain": [
              "<Figure size 720x360 with 1 Axes>"
            ],
            "image/png": "[encoded data removed]"
          },
          "metadata": {
            "needs_background": "light"
          }
        }
      ]
    },
    {
      "cell_type": "markdown",
      "source": [
        "## 考察\n",
        "# 日毎のデータでもLSTMモデル立ててもいいかも"
      ],
      "metadata": {
        "id": "BHrwKGN3B8sy"
      }
    },
    {
      "cell_type": "markdown",
      "source": [
        "## 損失の値を出す"
      ],
      "metadata": {
        "id": "M3FYVBwPnBrT"
      }
    },
    {
      "cell_type": "code",
      "source": [
        "t_data = pd.read_csv(\"/content/drive/MyDrive/Colab Notebooks/LSTM-AE/Bike_sharing_predict/Bike-Sharing-Dataset/hour.csv\")\n",
        "t_data = t_data[\"cnt\"][test_start:data_end]\n",
        "t_data = t_data.values.astype(np.float32)\n",
        "t_data = torch.from_numpy(t_data)\n",
        "predicitions = torch.from_numpy(actual_predictions[:,0])\n",
        "\n",
        "MSE_criterion = nn.MSELoss()\n",
        "MSE_loss = MSE_criterion(t_data, predictions)\n",
        "\n",
        "MAE_loss =  mean_absolute_error(t_data, predictions)\n",
        "\n",
        "print(f'MSEの値は: {MSE_loss} です')\n",
        "print(f'RMSEの値は: {torch.sqrt(MSE_loss)} です')\n",
        "print(f'MAEの値は: {MAE_loss} です')"
      ],
      "metadata": {
        "id": "E9T11CgxnEY1",
        "colab": {
          "base_uri": "https://localhost:8080/"
        },
        "outputId": "d54f335e-0938-465f-c08a-9278cf90cff0"
      },
      "execution_count": 435,
      "outputs": [
        {
          "output_type": "stream",
          "name": "stdout",
          "text": [
            "MSEの値は: 2960.036302446325 です\n",
            "RMSEの値は: 54.406215660035805 です\n",
            "MAEの値は: 37.69626436161995 です\n"
          ]
        }
      ]
    },
    {
      "cell_type": "code",
      "source": [
        "len(t_data)"
      ],
      "metadata": {
        "colab": {
          "base_uri": "https://localhost:8080/"
        },
        "id": "IOW-WV5WB4Lx",
        "outputId": "2966a131-378c-4e74-f68b-e5d734c1f4f3"
      },
      "execution_count": 436,
      "outputs": [
        {
          "output_type": "execute_result",
          "data": {
            "text/plain": [
              "500"
            ]
          },
          "metadata": {},
          "execution_count": 436
        }
      ]
    },
    {
      "cell_type": "code",
      "source": [
        "len(b)"
      ],
      "metadata": {
        "colab": {
          "base_uri": "https://localhost:8080/"
        },
        "id": "29RqbbKcCcUl",
        "outputId": "11000cbe-83c4-467a-cefe-cedd93c265aa"
      },
      "execution_count": 437,
      "outputs": [
        {
          "output_type": "execute_result",
          "data": {
            "text/plain": [
              "10"
            ]
          },
          "metadata": {},
          "execution_count": 437
        }
      ]
    },
    {
      "cell_type": "code",
      "source": [],
      "metadata": {
        "id": "3mRPYXsILHE2"
      },
      "execution_count": 437,
      "outputs": []
    }
  ]
}