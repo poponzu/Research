{
  "nbformat": 4,
  "nbformat_minor": 0,
  "metadata": {
    "colab": {
      "provenance": [],
      "collapsed_sections": [],
      "authorship_tag": "ABX9TyPTCSFcwyQFlMbRipwraQM6",
      "include_colab_link": true
    },
    "kernelspec": {
      "name": "python3",
      "display_name": "Python 3"
    },
    "language_info": {
      "name": "python"
    }
  },
  "cells": [
    {
      "cell_type": "markdown",
      "metadata": {
        "id": "view-in-github",
        "colab_type": "text"
      },
      "source": [
        "<a href=\"https://colab.research.google.com/github/poponzu/Research/blob/master/Debug%E7%94%A8_LSTM_SAE.ipynb\" target=\"_parent\"><img src=\"https://colab.research.google.com/assets/colab-badge.svg\" alt=\"Open In Colab\"/></a>"
      ]
    },
    {
      "cell_type": "markdown",
      "source": [
        "#  <span style=\"color: red\">実行前にデバッグモードであるかどうか、train_start, test_start, data_endの値, 学習回数epochsを確認！</span>"
      ],
      "metadata": {
        "id": "wFAsUJgxojAQ"
      }
    },
    {
      "cell_type": "code",
      "source": [
        "# debug = 1はデバック（動作確認用)\n",
        "debug = 1"
      ],
      "metadata": {
        "id": "To_Iv53ZjTkd"
      },
      "execution_count": 226,
      "outputs": []
    },
    {
      "cell_type": "code",
      "source": [
        "# Google Driveをマウントする\n",
        "from google.colab import drive\n",
        "drive.mount('/content/drive')"
      ],
      "metadata": {
        "colab": {
          "base_uri": "https://localhost:8080/"
        },
        "id": "JcA3lVjrjZac",
        "outputId": "03baec5b-9207-45a9-ba36-436b9c65aacb"
      },
      "execution_count": 227,
      "outputs": [
        {
          "output_type": "stream",
          "name": "stdout",
          "text": [
            "Drive already mounted at /content/drive; to attempt to forcibly remount, call drive.mount(\"/content/drive\", force_remount=True).\n"
          ]
        }
      ]
    },
    {
      "cell_type": "code",
      "source": [
        "# データの範囲指定\n",
        "if debug:\n",
        "  train_start = 2000\n",
        "  test_start = 2490\n",
        "  data_end = 2500\n",
        "else: \n",
        "  # train_start = 2000\n",
        "  train_start = 0\n",
        "  # test_start = 6500\n",
        "  test_start = 10512+2629\n",
        "  # data_end = 7000\n",
        "  data_end = 17379\n",
        "\n",
        "# 学習回数\n",
        "if debug:\n",
        "  epochs = 2\n",
        "else:\n",
        "  epochs = 25"
      ],
      "metadata": {
        "id": "H0AvNiUCjiwt"
      },
      "execution_count": 228,
      "outputs": []
    },
    {
      "cell_type": "code",
      "source": [
        "!pip install torchmetrics"
      ],
      "metadata": {
        "colab": {
          "base_uri": "https://localhost:8080/"
        },
        "id": "s7PCVdf_ozR1",
        "outputId": "b02348bb-a48f-4c1a-b2b3-7931ebd46740"
      },
      "execution_count": 229,
      "outputs": [
        {
          "output_type": "stream",
          "name": "stdout",
          "text": [
            "Looking in indexes: https://pypi.org/simple, https://us-python.pkg.dev/colab-wheels/public/simple/\n",
            "Requirement already satisfied: torchmetrics in /usr/local/lib/python3.7/dist-packages (0.10.0)\n",
            "Requirement already satisfied: typing-extensions in /usr/local/lib/python3.7/dist-packages (from torchmetrics) (4.1.1)\n",
            "Requirement already satisfied: torch>=1.3.1 in /usr/local/lib/python3.7/dist-packages (from torchmetrics) (1.12.1+cu113)\n",
            "Requirement already satisfied: numpy>=1.17.2 in /usr/local/lib/python3.7/dist-packages (from torchmetrics) (1.21.6)\n",
            "Requirement already satisfied: packaging in /usr/local/lib/python3.7/dist-packages (from torchmetrics) (21.3)\n",
            "Requirement already satisfied: pyparsing!=3.0.5,>=2.0.2 in /usr/local/lib/python3.7/dist-packages (from packaging->torchmetrics) (3.0.9)\n"
          ]
        }
      ]
    },
    {
      "cell_type": "code",
      "source": [
        "import torch\n",
        "import torch.nn as nn\n",
        "# Standard Library\n",
        "from statistics import mean\n",
        "\n",
        "# Third Party\n",
        "import torch\n",
        "from torch.nn import MSELoss\n",
        "import tqdm\n",
        "import random\n",
        "import os\n",
        "import torch.optim as optim\n",
        "import matplotlib.pyplot as plt\n",
        "import pandas as pd\n",
        "import numpy as np\n",
        "import pickle\n",
        "from torchmetrics.functional import mean_absolute_error"
      ],
      "metadata": {
        "id": "gNJ-lWJzJ7oN"
      },
      "execution_count": 230,
      "outputs": []
    },
    {
      "cell_type": "code",
      "source": [
        "# seed決定するためのコード\n",
        "def seed_everything(seed=42):\n",
        "    print('Setting Random Seed')\n",
        "    random.seed(seed)\n",
        "    os.environ['PYTHONHASHSEED'] = str(seed)\n",
        "    np.random.seed(seed)\n",
        "    torch.manual_seed(seed)\n",
        "    torch.cuda.manual_seed(seed)\n",
        "    torch.backends.cudnn.deterministic = True\n",
        "\n",
        "seed_everything(42)"
      ],
      "metadata": {
        "colab": {
          "base_uri": "https://localhost:8080/"
        },
        "id": "gl55_xJVJjdd",
        "outputId": "cb91d328-a0e9-4ac0-fa6c-9296bf4c16a9"
      },
      "execution_count": 231,
      "outputs": [
        {
          "output_type": "stream",
          "name": "stdout",
          "text": [
            "Setting Random Seed\n"
          ]
        }
      ]
    },
    {
      "cell_type": "code",
      "source": [
        "data = pd.read_csv(\"/content/drive/MyDrive/Colab Notebooks/LSTM-AE/Bike_sharing_predict/Bike-Sharing-Dataset/hour.csv\")"
      ],
      "metadata": {
        "id": "e5ZUjeVyKp6S"
      },
      "execution_count": 232,
      "outputs": []
    },
    {
      "cell_type": "code",
      "source": [
        "data.head()"
      ],
      "metadata": {
        "colab": {
          "base_uri": "https://localhost:8080/",
          "height": 206
        },
        "id": "V-eimSz5KrqD",
        "outputId": "02f01896-2dda-4314-9528-0214ca242a44"
      },
      "execution_count": 233,
      "outputs": [
        {
          "output_type": "execute_result",
          "data": {
            "text/plain": [
              "   instant      dteday  season  yr  mnth  hr  holiday  weekday  workingday  \\\n",
              "0        1  2011-01-01       1   0     1   0        0        6           0   \n",
              "1        2  2011-01-01       1   0     1   1        0        6           0   \n",
              "2        3  2011-01-01       1   0     1   2        0        6           0   \n",
              "3        4  2011-01-01       1   0     1   3        0        6           0   \n",
              "4        5  2011-01-01       1   0     1   4        0        6           0   \n",
              "\n",
              "   weathersit  temp   atemp   hum  windspeed  casual  registered  cnt  \n",
              "0           1  0.24  0.2879  0.81        0.0       3          13   16  \n",
              "1           1  0.22  0.2727  0.80        0.0       8          32   40  \n",
              "2           1  0.22  0.2727  0.80        0.0       5          27   32  \n",
              "3           1  0.24  0.2879  0.75        0.0       3          10   13  \n",
              "4           1  0.24  0.2879  0.75        0.0       0           1    1  "
            ],
            "text/html": [
              "\n",
              "  <div id=\"df-9685cc93-c538-4737-bc17-4dc2dea2a8ac\">\n",
              "    <div class=\"colab-df-container\">\n",
              "      <div>\n",
              "<style scoped>\n",
              "    .dataframe tbody tr th:only-of-type {\n",
              "        vertical-align: middle;\n",
              "    }\n",
              "\n",
              "    .dataframe tbody tr th {\n",
              "        vertical-align: top;\n",
              "    }\n",
              "\n",
              "    .dataframe thead th {\n",
              "        text-align: right;\n",
              "    }\n",
              "</style>\n",
              "<table border=\"1\" class=\"dataframe\">\n",
              "  <thead>\n",
              "    <tr style=\"text-align: right;\">\n",
              "      <th></th>\n",
              "      <th>instant</th>\n",
              "      <th>dteday</th>\n",
              "      <th>season</th>\n",
              "      <th>yr</th>\n",
              "      <th>mnth</th>\n",
              "      <th>hr</th>\n",
              "      <th>holiday</th>\n",
              "      <th>weekday</th>\n",
              "      <th>workingday</th>\n",
              "      <th>weathersit</th>\n",
              "      <th>temp</th>\n",
              "      <th>atemp</th>\n",
              "      <th>hum</th>\n",
              "      <th>windspeed</th>\n",
              "      <th>casual</th>\n",
              "      <th>registered</th>\n",
              "      <th>cnt</th>\n",
              "    </tr>\n",
              "  </thead>\n",
              "  <tbody>\n",
              "    <tr>\n",
              "      <th>0</th>\n",
              "      <td>1</td>\n",
              "      <td>2011-01-01</td>\n",
              "      <td>1</td>\n",
              "      <td>0</td>\n",
              "      <td>1</td>\n",
              "      <td>0</td>\n",
              "      <td>0</td>\n",
              "      <td>6</td>\n",
              "      <td>0</td>\n",
              "      <td>1</td>\n",
              "      <td>0.24</td>\n",
              "      <td>0.2879</td>\n",
              "      <td>0.81</td>\n",
              "      <td>0.0</td>\n",
              "      <td>3</td>\n",
              "      <td>13</td>\n",
              "      <td>16</td>\n",
              "    </tr>\n",
              "    <tr>\n",
              "      <th>1</th>\n",
              "      <td>2</td>\n",
              "      <td>2011-01-01</td>\n",
              "      <td>1</td>\n",
              "      <td>0</td>\n",
              "      <td>1</td>\n",
              "      <td>1</td>\n",
              "      <td>0</td>\n",
              "      <td>6</td>\n",
              "      <td>0</td>\n",
              "      <td>1</td>\n",
              "      <td>0.22</td>\n",
              "      <td>0.2727</td>\n",
              "      <td>0.80</td>\n",
              "      <td>0.0</td>\n",
              "      <td>8</td>\n",
              "      <td>32</td>\n",
              "      <td>40</td>\n",
              "    </tr>\n",
              "    <tr>\n",
              "      <th>2</th>\n",
              "      <td>3</td>\n",
              "      <td>2011-01-01</td>\n",
              "      <td>1</td>\n",
              "      <td>0</td>\n",
              "      <td>1</td>\n",
              "      <td>2</td>\n",
              "      <td>0</td>\n",
              "      <td>6</td>\n",
              "      <td>0</td>\n",
              "      <td>1</td>\n",
              "      <td>0.22</td>\n",
              "      <td>0.2727</td>\n",
              "      <td>0.80</td>\n",
              "      <td>0.0</td>\n",
              "      <td>5</td>\n",
              "      <td>27</td>\n",
              "      <td>32</td>\n",
              "    </tr>\n",
              "    <tr>\n",
              "      <th>3</th>\n",
              "      <td>4</td>\n",
              "      <td>2011-01-01</td>\n",
              "      <td>1</td>\n",
              "      <td>0</td>\n",
              "      <td>1</td>\n",
              "      <td>3</td>\n",
              "      <td>0</td>\n",
              "      <td>6</td>\n",
              "      <td>0</td>\n",
              "      <td>1</td>\n",
              "      <td>0.24</td>\n",
              "      <td>0.2879</td>\n",
              "      <td>0.75</td>\n",
              "      <td>0.0</td>\n",
              "      <td>3</td>\n",
              "      <td>10</td>\n",
              "      <td>13</td>\n",
              "    </tr>\n",
              "    <tr>\n",
              "      <th>4</th>\n",
              "      <td>5</td>\n",
              "      <td>2011-01-01</td>\n",
              "      <td>1</td>\n",
              "      <td>0</td>\n",
              "      <td>1</td>\n",
              "      <td>4</td>\n",
              "      <td>0</td>\n",
              "      <td>6</td>\n",
              "      <td>0</td>\n",
              "      <td>1</td>\n",
              "      <td>0.24</td>\n",
              "      <td>0.2879</td>\n",
              "      <td>0.75</td>\n",
              "      <td>0.0</td>\n",
              "      <td>0</td>\n",
              "      <td>1</td>\n",
              "      <td>1</td>\n",
              "    </tr>\n",
              "  </tbody>\n",
              "</table>\n",
              "</div>\n",
              "      <button class=\"colab-df-convert\" onclick=\"convertToInteractive('df-9685cc93-c538-4737-bc17-4dc2dea2a8ac')\"\n",
              "              title=\"Convert this dataframe to an interactive table.\"\n",
              "              style=\"display:none;\">\n",
              "        \n",
              "  <svg xmlns=\"http://www.w3.org/2000/svg\" height=\"24px\"viewBox=\"0 0 24 24\"\n",
              "       width=\"24px\">\n",
              "    <path d=\"M0 0h24v24H0V0z\" fill=\"none\"/>\n",
              "    <path d=\"M18.56 5.44l.94 2.06.94-2.06 2.06-.94-2.06-.94-.94-2.06-.94 2.06-2.06.94zm-11 1L8.5 8.5l.94-2.06 2.06-.94-2.06-.94L8.5 2.5l-.94 2.06-2.06.94zm10 10l.94 2.06.94-2.06 2.06-.94-2.06-.94-.94-2.06-.94 2.06-2.06.94z\"/><path d=\"M17.41 7.96l-1.37-1.37c-.4-.4-.92-.59-1.43-.59-.52 0-1.04.2-1.43.59L10.3 9.45l-7.72 7.72c-.78.78-.78 2.05 0 2.83L4 21.41c.39.39.9.59 1.41.59.51 0 1.02-.2 1.41-.59l7.78-7.78 2.81-2.81c.8-.78.8-2.07 0-2.86zM5.41 20L4 18.59l7.72-7.72 1.47 1.35L5.41 20z\"/>\n",
              "  </svg>\n",
              "      </button>\n",
              "      \n",
              "  <style>\n",
              "    .colab-df-container {\n",
              "      display:flex;\n",
              "      flex-wrap:wrap;\n",
              "      gap: 12px;\n",
              "    }\n",
              "\n",
              "    .colab-df-convert {\n",
              "      background-color: #E8F0FE;\n",
              "      border: none;\n",
              "      border-radius: 50%;\n",
              "      cursor: pointer;\n",
              "      display: none;\n",
              "      fill: #1967D2;\n",
              "      height: 32px;\n",
              "      padding: 0 0 0 0;\n",
              "      width: 32px;\n",
              "    }\n",
              "\n",
              "    .colab-df-convert:hover {\n",
              "      background-color: #E2EBFA;\n",
              "      box-shadow: 0px 1px 2px rgba(60, 64, 67, 0.3), 0px 1px 3px 1px rgba(60, 64, 67, 0.15);\n",
              "      fill: #174EA6;\n",
              "    }\n",
              "\n",
              "    [theme=dark] .colab-df-convert {\n",
              "      background-color: #3B4455;\n",
              "      fill: #D2E3FC;\n",
              "    }\n",
              "\n",
              "    [theme=dark] .colab-df-convert:hover {\n",
              "      background-color: #434B5C;\n",
              "      box-shadow: 0px 1px 3px 1px rgba(0, 0, 0, 0.15);\n",
              "      filter: drop-shadow(0px 1px 2px rgba(0, 0, 0, 0.3));\n",
              "      fill: #FFFFFF;\n",
              "    }\n",
              "  </style>\n",
              "\n",
              "      <script>\n",
              "        const buttonEl =\n",
              "          document.querySelector('#df-9685cc93-c538-4737-bc17-4dc2dea2a8ac button.colab-df-convert');\n",
              "        buttonEl.style.display =\n",
              "          google.colab.kernel.accessAllowed ? 'block' : 'none';\n",
              "\n",
              "        async function convertToInteractive(key) {\n",
              "          const element = document.querySelector('#df-9685cc93-c538-4737-bc17-4dc2dea2a8ac');\n",
              "          const dataTable =\n",
              "            await google.colab.kernel.invokeFunction('convertToInteractive',\n",
              "                                                     [key], {});\n",
              "          if (!dataTable) return;\n",
              "\n",
              "          const docLinkHtml = 'Like what you see? Visit the ' +\n",
              "            '<a target=\"_blank\" href=https://colab.research.google.com/notebooks/data_table.ipynb>data table notebook</a>'\n",
              "            + ' to learn more about interactive tables.';\n",
              "          element.innerHTML = '';\n",
              "          dataTable['output_type'] = 'display_data';\n",
              "          await google.colab.output.renderOutput(dataTable, element);\n",
              "          const docLink = document.createElement('div');\n",
              "          docLink.innerHTML = docLinkHtml;\n",
              "          element.appendChild(docLink);\n",
              "        }\n",
              "      </script>\n",
              "    </div>\n",
              "  </div>\n",
              "  "
            ]
          },
          "metadata": {},
          "execution_count": 233
        }
      ]
    },
    {
      "cell_type": "code",
      "source": [
        "Bike_data = data[['cnt','season', 'yr', 'mnth', 'hr', 'holiday', 'weekday',\n",
        "       'workingday', 'weathersit', 'temp', 'atemp', 'hum', 'windspeed',\n",
        "       'casual', 'registered']]"
      ],
      "metadata": {
        "id": "qXqyUhqeKryH"
      },
      "execution_count": 234,
      "outputs": []
    },
    {
      "cell_type": "code",
      "source": [
        "# fig, (axL, axM, axR) = plt.subplots(ncols=3, figsize=(20,5))\n",
        "\n",
        "# axL.plot(Bike_data['cnt'], linewidth=2)\n",
        "# axL.set_title('Number of Bike sharing cnt')\n",
        "# axL.set_xlabel('2012/1/1-2012/12/31')\n",
        "# axL.set_ylabel('cnt')\n",
        "# axL.grid(True)\n",
        "# axL.vlines(x=2000, ymin=0, ymax=1000, colors='red', linestyles='dotted')\n",
        "# axL.vlines(x=6500, ymin=0, ymax=1000, colors='black', linestyles='dotted')\n",
        "# axL.vlines(x=7000, ymin=0, ymax=1000, colors='red', linestyles='dotted')\n",
        "\n",
        "\n",
        "# axM.plot(Bike_data['temp'], linewidth=2)\n",
        "# axM.set_title('tempeture')\n",
        "# axM.set_xlabel('2012/1/1-2012/12/31')\n",
        "# axM.set_ylabel('temp')\n",
        "# axM.grid(True)\n",
        "# axM.vlines(x=2000, ymin=0, ymax=1, colors='red', linestyles='dotted')\n",
        "# axM.vlines(x=6500, ymin=0, ymax=1, colors='black', linestyles='dotted')\n",
        "# axM.vlines(x=7000, ymin=0, ymax=1, colors='red', linestyles='dotted')\n",
        "\n",
        "# axR.plot(Bike_data['registered'], linewidth=2)\n",
        "# axR.set_title('Number of registered')\n",
        "# axR.set_xlabel('2012/1/1-2012/12/31')\n",
        "# axR.set_ylabel('registered')\n",
        "# axR.grid(True)\n",
        "# axR.vlines(x=2000, ymin=0, ymax=800, colors='red', linestyles='dotted')\n",
        "# axR.vlines(x=6500, ymin=0, ymax=800, colors='black', linestyles='dotted')\n",
        "# axR.vlines(x=7000, ymin=0, ymax=800, colors='red', linestyles='dotted')\n",
        "\n",
        "# fig.show()"
      ],
      "metadata": {
        "id": "v_2MfuONKr5K"
      },
      "execution_count": 235,
      "outputs": []
    },
    {
      "cell_type": "code",
      "source": [
        "# データ量を調節\n",
        "# Bike_data = Bike_data[2000:7000]\n",
        "Bike_data = Bike_data[train_start:data_end]"
      ],
      "metadata": {
        "id": "iyDig7CvK8Sc"
      },
      "execution_count": 236,
      "outputs": []
    },
    {
      "cell_type": "code",
      "source": [
        "Bike_data = Bike_data.values.astype(float)\n",
        "Bike_data.shape"
      ],
      "metadata": {
        "colab": {
          "base_uri": "https://localhost:8080/"
        },
        "id": "CiYIEyTjK8ad",
        "outputId": "d4613e3f-f130-43f6-b608-9f4f789eb384"
      },
      "execution_count": 237,
      "outputs": [
        {
          "output_type": "execute_result",
          "data": {
            "text/plain": [
              "(500, 15)"
            ]
          },
          "metadata": {},
          "execution_count": 237
        }
      ]
    },
    {
      "cell_type": "code",
      "source": [
        "BIke_data = torch.from_numpy(Bike_data)"
      ],
      "metadata": {
        "id": "5S2p6u9RQUiF"
      },
      "execution_count": 238,
      "outputs": []
    },
    {
      "cell_type": "code",
      "source": [
        "train_data_size = test_start - train_start\n",
        "test_data_size = data_end - test_start\n",
        "\n",
        "train_data = Bike_data[:-test_data_size]\n",
        "test_data = Bike_data[-test_data_size:]"
      ],
      "metadata": {
        "id": "EzenDNaSK8eK"
      },
      "execution_count": 239,
      "outputs": []
    },
    {
      "cell_type": "code",
      "source": [
        "#train_dataの正規化\n",
        "# データセットの正規化を行う。最小値0と最大値1の範囲で行う。\n",
        "from sklearn.preprocessing import MinMaxScaler\n",
        "\n",
        "scaler = MinMaxScaler(feature_range=(0, 1))\n",
        "train_data_normalized = scaler.fit_transform(train_data)"
      ],
      "metadata": {
        "id": "Nw0fiEKoK8gz"
      },
      "execution_count": 240,
      "outputs": []
    },
    {
      "cell_type": "code",
      "source": [
        "# Tensor型に変換\n",
        "train_data_normalized = torch.FloatTensor(train_data_normalized)"
      ],
      "metadata": {
        "id": "8X0cEiCTK8j7"
      },
      "execution_count": 241,
      "outputs": []
    },
    {
      "cell_type": "markdown",
      "source": [
        "## モデル作成"
      ],
      "metadata": {
        "id": "K8S6dYLnRgw9"
      }
    },
    {
      "cell_type": "code",
      "source": [
        "class Encoder(nn.Module):\n",
        "    def __init__(self, input_dim, out_dim, h_dims, h_activ, out_activ):\n",
        "        super(Encoder, self).__init__()\n",
        "\n",
        "        layer_dims = [input_dim] + h_dims + [out_dim]\n",
        "        self.num_layers = len(layer_dims) - 1\n",
        "        self.layers = nn.ModuleList()\n",
        "        for index in range(self.num_layers):\n",
        "            layer = nn.LSTM(\n",
        "                input_size=layer_dims[index],\n",
        "                hidden_size=layer_dims[index + 1],\n",
        "                num_layers=1,\n",
        "                batch_first=True\n",
        "            )\n",
        "            self.layers.append(layer)\n",
        "\n",
        "        self.h_activ, self.out_activ = h_activ, out_activ\n",
        "\n",
        "    def forward(self, x):\n",
        "        x = x.unsqueeze(0)\n",
        "        for index, layer in enumerate(self.layers):\n",
        "            x, (h_n, c_n) = layer(x)\n",
        "\n",
        "            if self.h_activ and index < self.num_layers - 1:\n",
        "                x = self.h_activ(x)\n",
        "            elif self.out_activ and index == self.num_layers - 1:\n",
        "                return self.out_activ(h_n).squeeze()\n",
        "\n",
        "        return h_n.squeeze()\n",
        "\n",
        "\n",
        "class Decoder(nn.Module):\n",
        "    def __init__(self, input_dim, out_dim, h_dims, h_activ):\n",
        "        super(Decoder, self).__init__()\n",
        "\n",
        "        layer_dims = [input_dim] + h_dims + [h_dims[-1]]\n",
        "        self.num_layers = len(layer_dims) - 1\n",
        "        self.layers = nn.ModuleList()\n",
        "        for index in range(self.num_layers):\n",
        "            layer = nn.LSTM(\n",
        "                input_size=layer_dims[index],\n",
        "                hidden_size=layer_dims[index + 1],\n",
        "                num_layers=1,\n",
        "                batch_first=True\n",
        "            )\n",
        "            self.layers.append(layer)\n",
        "\n",
        "        self.h_activ = h_activ\n",
        "        self.dense_matrix = nn.Parameter(\n",
        "            torch.rand((layer_dims[-1], out_dim), dtype=torch.float),\n",
        "            requires_grad=True\n",
        "        )\n",
        "\n",
        "    def forward(self, x, seq_len):\n",
        "        x = x.repeat(seq_len, 1).unsqueeze(0)\n",
        "        for index, layer in enumerate(self.layers):\n",
        "            x, (h_n, c_n) = layer(x)\n",
        "\n",
        "            if self.h_activ and index < self.num_layers - 1:\n",
        "                x = self.h_activ(x)\n",
        "\n",
        "        return torch.mm(x.squeeze(), self.dense_matrix)\n",
        "\n",
        "\n",
        "######\n",
        "# MAIN\n",
        "######\n",
        "\n",
        "\n",
        "class LSTM_AE(nn.Module):\n",
        "    def __init__(self, input_dim, encoding_dim, h_dims=[], h_activ=nn.Sigmoid(),\n",
        "                 out_activ=nn.Tanh()):\n",
        "        super(LSTM_AE, self).__init__()\n",
        "\n",
        "        self.encoder = Encoder(input_dim, encoding_dim, h_dims, h_activ,\n",
        "                               out_activ)\n",
        "        self.decoder = Decoder(encoding_dim, input_dim, h_dims[::-1],\n",
        "                               h_activ)\n",
        "\n",
        "    def forward(self, x):\n",
        "        # print(x)\n",
        "        seq_len = x.shape[0]\n",
        "        x = self.encoder(x)\n",
        "        x = self.decoder(x, seq_len)\n",
        "\n",
        "        return x\n",
        "\n",
        "    def __name__(self, input_dim, encoding_dim, h_dims=[], h_activ=nn.Sigmoid(),\n",
        "                 out_activ=nn.Tanh()):\n",
        "\n",
        "        self.input_dim = input_dim\n",
        "        self.encoding_dim = encoding_dim\n",
        "        self.h_dims = h_dims\n",
        "        self.h_activ = h_activ\n",
        "        self.out_activ = out_activ"
      ],
      "metadata": {
        "id": "PnO0aWZcMShu"
      },
      "execution_count": 242,
      "outputs": []
    },
    {
      "cell_type": "code",
      "source": [
        "Bike_data.shape"
      ],
      "metadata": {
        "colab": {
          "base_uri": "https://localhost:8080/"
        },
        "id": "O-fOnhgDP6uA",
        "outputId": "7fb689cd-df2f-444e-c1ea-6c5c3966a1b7"
      },
      "execution_count": 243,
      "outputs": [
        {
          "output_type": "execute_result",
          "data": {
            "text/plain": [
              "(500, 15)"
            ]
          },
          "metadata": {},
          "execution_count": 243
        }
      ]
    },
    {
      "cell_type": "code",
      "source": [
        "AE_model = LSTM_AE(\n",
        "    input_dim=15,   # 入力列数に合わせる\n",
        "    encoding_dim=10, # decordの時に使う最終的に何時限までに圧縮するか\n",
        "    h_dims=[100],\n",
        "    h_activ=None,\n",
        "    out_activ=None\n",
        ")"
      ],
      "metadata": {
        "id": "myTHJCdUKP93"
      },
      "execution_count": 244,
      "outputs": []
    },
    {
      "cell_type": "code",
      "source": [
        "print(AE_model)"
      ],
      "metadata": {
        "colab": {
          "base_uri": "https://localhost:8080/"
        },
        "id": "Whc1S-YiKXtQ",
        "outputId": "5be3e1c5-2c92-4e9f-924a-150c7f08406b"
      },
      "execution_count": 245,
      "outputs": [
        {
          "output_type": "stream",
          "name": "stdout",
          "text": [
            "LSTM_AE(\n",
            "  (encoder): Encoder(\n",
            "    (layers): ModuleList(\n",
            "      (0): LSTM(15, 100, batch_first=True)\n",
            "      (1): LSTM(100, 10, batch_first=True)\n",
            "    )\n",
            "  )\n",
            "  (decoder): Decoder(\n",
            "    (layers): ModuleList(\n",
            "      (0): LSTM(10, 100, batch_first=True)\n",
            "      (1): LSTM(100, 100, batch_first=True)\n",
            "    )\n",
            "  )\n",
            ")\n"
          ]
        }
      ]
    },
    {
      "cell_type": "code",
      "source": [
        "def train_model(model, train_set, verbose, lr, epochs, denoise):\n",
        "    device = torch.device(\"cuda\" if torch.cuda.is_available() else \"cpu\")\n",
        "    model.to(device)\n",
        "\n",
        "\n",
        "    criterion = nn.MSELoss()\n",
        "    optimizer = torch.optim.Adam(model.parameters(), lr=0.001)\n",
        "\n",
        "    mean_losses = []\n",
        "    for epoch in tqdm.tqdm(range(1, epochs + 1)):\n",
        "        model.train()\n",
        "\n",
        "        # # Reduces learning rate every 50 epochs\n",
        "        # if not epoch % 50:\n",
        "        #     for param_group in optimizer.param_groups:\n",
        "        #         param_group[\"lr\"] = lr * (0.993 ** epoch)\n",
        "\n",
        "        losses = []\n",
        "        for x in train_set:\n",
        "            optimizer.zero_grad()\n",
        "\n",
        "            # Forward pass\n",
        "            x_prime = model(x)\n",
        "\n",
        "            loss = criterion(x_prime, x)\n",
        "\n",
        "            # Backward pass\n",
        "            loss.backward()\n",
        "            optimizer.step()\n",
        "\n",
        "            losses.append(loss.item())\n",
        "\n",
        "        mean_loss = mean(losses)\n",
        "        mean_losses.append(mean_loss)\n",
        "\n",
        "        if verbose:\n",
        "            print(f\"Epoch: {epoch}, MSELoss: {mean_loss}\")\n",
        "    \n",
        "    # 学習時の損失をグラフ表示\n",
        "    plt.plot(mean_losses)\n",
        "\n",
        "    return mean_losses\n",
        "\n",
        "\n",
        "def get_encodings(model, train_set):\n",
        "    model.eval()\n",
        "    encodings = [model.encoder(x) for x in train_set]\n",
        "    return encodings\n",
        "\n",
        "\n",
        "# def instantiate_model(model, train_set, encoding_dim, **kwargs):\n",
        "#     if model.__name__ in (\"LINEAR_AE\", \"LSTM_AE\"):\n",
        "#         return model(train_set[-1].shape[-1], encoding_dim, **kwargs)\n",
        "#     elif model.__name__ == \"CONV_LSTM_AE\":\n",
        "#         if len(train_set[-1].shape) == 3: # 2D elements\n",
        "#             return model(train_set[-1].shape[-2:], encoding_dim, **kwargs)\n",
        "#         elif len(train_set[-1].shape) == 4: # 3D elements\n",
        "#             return model(train_set[-1].shape[-3:], encoding_dim, **kwargs)\n",
        "\n",
        "\n",
        "\n",
        "######\n",
        "# MAIN\n",
        "######\n",
        "\n",
        "\n",
        "def quick_train(model, train_set, encoding_dim, verbose=False, lr=1e-3,\n",
        "                epochs=1, denoise=False, **kwargs):\n",
        "    # 確かめるために追加\n",
        "    # print(list(model.parameters()))\n",
        "\n",
        "    # model = instantiate_model(model, train_set, encoding_dim, **kwargs)\n",
        "    # print(model)\n",
        "    losses = train_model(model, train_set, verbose, lr, epochs, denoise)\n",
        "    encodings = get_encodings(model, train_set)\n",
        "\n",
        "    return model.encoder, model.decoder, encodings, losses"
      ],
      "metadata": {
        "id": "pnjxfvNjOrSv"
      },
      "execution_count": 246,
      "outputs": []
    },
    {
      "cell_type": "markdown",
      "source": [
        "## AEの学習"
      ],
      "metadata": {
        "id": "5tkZOVHrn2i0"
      }
    },
    {
      "cell_type": "code",
      "source": [
        "encoder, decoder, _, _ = quick_train(AE_model, train_data_normalized, verbose=True, epochs=epochs, encoding_dim=10)"
      ],
      "metadata": {
        "colab": {
          "base_uri": "https://localhost:8080/",
          "height": 427
        },
        "id": "PL0tjZOAIY42",
        "outputId": "d727782b-0792-46be-d715-17872c51c894"
      },
      "execution_count": 247,
      "outputs": [
        {
          "output_type": "stream",
          "name": "stderr",
          "text": [
            "\r  0%|          | 0/2 [00:00<?, ?it/s]/usr/local/lib/python3.7/dist-packages/torch/nn/modules/loss.py:530: UserWarning: Using a target size (torch.Size([15])) that is different to the input size (torch.Size([15, 15])). This will likely lead to incorrect results due to broadcasting. Please ensure they have the same size.\n",
            "  return F.mse_loss(input, target, reduction=self.reduction)\n",
            " 50%|█████     | 1/2 [00:06<00:06,  6.38s/it]"
          ]
        },
        {
          "output_type": "stream",
          "name": "stdout",
          "text": [
            "Epoch: 1, MSELoss: 0.05717938107210307\n"
          ]
        },
        {
          "output_type": "stream",
          "name": "stderr",
          "text": [
            "100%|██████████| 2/2 [00:25<00:00, 12.59s/it]"
          ]
        },
        {
          "output_type": "stream",
          "name": "stdout",
          "text": [
            "Epoch: 2, MSELoss: 0.0570839202060003\n"
          ]
        },
        {
          "output_type": "stream",
          "name": "stderr",
          "text": [
            "\n"
          ]
        },
        {
          "output_type": "display_data",
          "data": {
            "text/plain": [
              "<Figure size 720x360 with 1 Axes>"
            ],
            "image/png": "[encoded data removed]"
          },
          "metadata": {
            "needs_background": "light"
          }
        }
      ]
    },
    {
      "cell_type": "markdown",
      "source": [
        "## モデルの保存"
      ],
      "metadata": {
        "id": "1siy1l0AkOAg"
      }
    },
    {
      "cell_type": "code",
      "source": [
        "if debug != 1:\n",
        "  with open('/content/drive/MyDrive/Colab Notebooks/LSTM-SAE/made_model.pickle', mode='wb') as f:\n",
        "      pickle.dump(AE_model, f , protocol=2)\n",
        "  print(\"モデルの保存完了。\")"
      ],
      "metadata": {
        "id": "DG1KnGhqQCi2"
      },
      "execution_count": 248,
      "outputs": []
    },
    {
      "cell_type": "code",
      "source": [
        "AE_model.encoder"
      ],
      "metadata": {
        "colab": {
          "base_uri": "https://localhost:8080/"
        },
        "id": "QyVmidMEQ7j2",
        "outputId": "bd9e3190-0689-4214-ac62-260a2969e2fe"
      },
      "execution_count": 249,
      "outputs": [
        {
          "output_type": "execute_result",
          "data": {
            "text/plain": [
              "Encoder(\n",
              "  (layers): ModuleList(\n",
              "    (0): LSTM(15, 100, batch_first=True)\n",
              "    (1): LSTM(100, 10, batch_first=True)\n",
              "  )\n",
              ")"
            ]
          },
          "metadata": {},
          "execution_count": 249
        }
      ]
    },
    {
      "cell_type": "markdown",
      "source": [
        "## LSTM作成"
      ],
      "metadata": {
        "id": "2AJpLwGHlwRo"
      }
    },
    {
      "cell_type": "code",
      "source": [
        "# シーケンスに沿ったデータを作成する関数\n",
        "def make_sequence_data(input_data, num_sequence):\n",
        "    # シーケンスデータとラベルデータの器\n",
        "    data = []\n",
        "    # 全体のデータ数取得\n",
        "    num_data = len(input_data)\n",
        "    # 全体からシーケンス分引いた数までループする\n",
        "    for i in range(num_data - num_sequence):\n",
        "        # 1個ずらして、シーケンス分のデータを取得していく\n",
        "        seq_data = input_data[i:i+num_sequence]\n",
        "        # シーケンスの次の要素のデータ(ラベルデータとして1個目の陽性者数のみ)を取得していく\n",
        "        target_data = input_data[:,0][i+num_sequence:i+num_sequence+1]\n",
        "        # シーケンスデータとラベルデータをタプルとして取得していく\n",
        "        data.append((seq_data, target_data))\n",
        "\n",
        "    return data\n",
        "  \n",
        "# シーケンス長は24データとする\n",
        "# 24時間分のデータから次の1日後のデータを予測する\n",
        "# 48時間とかにしてもよいかも\n",
        "seq_length = 24\n",
        "# train_seq_data=最初のデータを1個ずらしてシーケンス分のデータ(時系列の学習データ群)、train_target=train_seq_dataの次のデータ(ラベルデータ)\n",
        "train_seq_data = make_sequence_data(train_data_normalized, seq_length)"
      ],
      "metadata": {
        "id": "OnVLarA1lrMH"
      },
      "execution_count": 250,
      "outputs": []
    },
    {
      "cell_type": "code",
      "source": [
        "class LSTM(nn.Module):\n",
        "    def __init__(self, input_size=15, hidden_layer_size=100, output_size=1, num_layers=2):\n",
        "        super().__init__()\n",
        "        self.hidden_layer_size = hidden_layer_size\n",
        "\n",
        "        self.lstm = nn.LSTM(input_size=input_size, hidden_size=hidden_layer_size, num_layers=num_layers, batch_first=True, dropout=0.1)\n",
        "\n",
        "        self.linear = nn.Linear(in_features=hidden_layer_size, out_features=output_size)\n",
        "\n",
        "    def forward(self, x):\n",
        "        # LSTMのinputは(batch_size, seq_len, input_size)にする\n",
        "        # LSTMのoutputは(batch_size, seq_len, hidden_layer_size)となる\n",
        "        # hidden stateとcell stateにはNoneを渡して0ベクトルを渡す\n",
        "        lstm_out, (hn, cn) = self.lstm(x, None)\n",
        "        # Linearのinputは(N,∗,in_features)にする\n",
        "        # lstm_out(batch_size, seq_len, hidden_layer_size)のseq_len方向の最後の値をLinearに入力する\n",
        "        prediction = self.linear(lstm_out[:, -1, :])\n",
        "        return prediction"
      ],
      "metadata": {
        "id": "RwlEonRyl3Zo"
      },
      "execution_count": 251,
      "outputs": []
    },
    {
      "cell_type": "code",
      "source": [
        "AE_model"
      ],
      "metadata": {
        "colab": {
          "base_uri": "https://localhost:8080/"
        },
        "id": "kRNIKQ8UpgmA",
        "outputId": "9871b51d-387d-4b2f-8594-28fa78a9b16c"
      },
      "execution_count": 252,
      "outputs": [
        {
          "output_type": "execute_result",
          "data": {
            "text/plain": [
              "LSTM_AE(\n",
              "  (encoder): Encoder(\n",
              "    (layers): ModuleList(\n",
              "      (0): LSTM(15, 100, batch_first=True)\n",
              "      (1): LSTM(100, 10, batch_first=True)\n",
              "    )\n",
              "  )\n",
              "  (decoder): Decoder(\n",
              "    (layers): ModuleList(\n",
              "      (0): LSTM(10, 100, batch_first=True)\n",
              "      (1): LSTM(100, 100, batch_first=True)\n",
              "    )\n",
              "  )\n",
              ")"
            ]
          },
          "metadata": {},
          "execution_count": 252
        }
      ]
    },
    {
      "cell_type": "code",
      "source": [
        "class LSTM_SAE(nn.Module):\n",
        "    def __init__(self, input_size=15, hidden_layer_size=100, output_size=1, num_layers=2):\n",
        "        super().__init__()\n",
        "        self.hidden_layer_size = hidden_layer_size\n",
        "\n",
        "        # self.lstm = nn.LSTM(input_size=input_size, hidden_size=hidden_layer_size, num_layers=num_layers, batch_first=True, dropout=0.1)\n",
        "        self.lstm = AE_model.encoder\n",
        "\n",
        "        self.linear = nn.Linear(in_features=hidden_layer_size, out_features=output_size)\n",
        "\n",
        "    def forward(self, x):\n",
        "        # LSTMのinputは(batch_size, seq_len, input_size)にする\n",
        "        # LSTMのoutputは(batch_size, seq_len, hidden_layer_size)となる\n",
        "        # hidden stateとcell stateにはNoneを渡して0ベクトルを渡す\n",
        "        lstm_out, (hn, cn) = self.lstm(x, None)\n",
        "        # Linearのinputは(N,∗,in_features)にする\n",
        "        # lstm_out(batch_size, seq_len, hidden_layer_size)のseq_len方向の最後の値をLinearに入力する\n",
        "        prediction = self.linear(lstm_out[:, -1, :])\n",
        "        return prediction"
      ],
      "metadata": {
        "id": "6tkhLNSBpe4D"
      },
      "execution_count": 253,
      "outputs": []
    },
    {
      "cell_type": "code",
      "source": [
        "device = 'cpu'"
      ],
      "metadata": {
        "id": "amgeJIGQl5uX"
      },
      "execution_count": 254,
      "outputs": []
    },
    {
      "cell_type": "code",
      "source": [
        "SAE_model = LSTM_SAE()\n",
        "SAE_model.to(device)"
      ],
      "metadata": {
        "colab": {
          "base_uri": "https://localhost:8080/"
        },
        "id": "0KmGmBPTl9YL",
        "outputId": "333a59e6-3cb8-4f19-bbd9-68102b2dcf7a"
      },
      "execution_count": 255,
      "outputs": [
        {
          "output_type": "execute_result",
          "data": {
            "text/plain": [
              "LSTM_SAE(\n",
              "  (lstm): Encoder(\n",
              "    (layers): ModuleList(\n",
              "      (0): LSTM(15, 100, batch_first=True)\n",
              "      (1): LSTM(100, 10, batch_first=True)\n",
              "    )\n",
              "  )\n",
              "  (linear): Linear(in_features=100, out_features=1, bias=True)\n",
              ")"
            ]
          },
          "metadata": {},
          "execution_count": 255
        }
      ]
    },
    {
      "cell_type": "code",
      "source": [
        "# 損失関数と最適化関数を定義\n",
        "criterion = nn.MSELoss()\n",
        "optimizer = optim.AdamW(SAE_model.parameters(), lr=0.001)"
      ],
      "metadata": {
        "id": "YzhDNb25n748"
      },
      "execution_count": 256,
      "outputs": []
    },
    {
      "cell_type": "code",
      "source": [
        "# 予測する日数\n",
        "pred_days = test_data_size\n",
        "# テストデータの正規化を行う。最小値0と最大値1の範囲で行ってTensor型に変換する。\n",
        "test_data_normalized = scaler.fit_transform(test_data)\n",
        "test_data_normalized = torch.FloatTensor(test_data_normalized)\n",
        "# 予測するためのデータの最初のseq_length分はtrain_dataを使う\n",
        "test_inputs = train_data_normalized[-seq_length:].tolist()\n",
        "\n",
        "# t_dataの用意\n",
        "t_data = pd.read_csv(\"/content/drive/MyDrive/Colab Notebooks/LSTM-AE/Bike_sharing_predict/Bike-Sharing-Dataset/hour.csv\")\n",
        "t_data = t_data[\"cnt\"][test_start:data_end]\n",
        "t_data = t_data.values.astype(np.float32)\n",
        "t_data = torch.from_numpy(t_data)"
      ],
      "metadata": {
        "id": "d0pmXEZkn9o8"
      },
      "execution_count": 257,
      "outputs": []
    },
    {
      "cell_type": "code",
      "source": [
        "import tqdm\n",
        "\n",
        "train_losses = []\n",
        "test_losses = []\n",
        "\n",
        "for epoch in tqdm.tqdm(range(epochs)):\n",
        "    SAE_model.train()\n",
        "    for seq, labels in train_seq_data:\n",
        "        # seq, labelsのshapeは(seq_length, 特徴量)なのでLSTMに渡すために(batch, seq_length, 特徴量)にする。(batch=1)\n",
        "        seq, labels = torch.unsqueeze(seq, 0), torch.unsqueeze(labels, 0)\n",
        "        seq, labels = seq.to(device), labels.to(device)\n",
        "        optimizer.zero_grad()\n",
        "        y_pred = SAE_model(seq)\n",
        "        single_loss = criterion(y_pred, labels)\n",
        "        single_loss.backward()\n",
        "        optimizer.step()\n",
        "\n",
        "    train_losses.append(single_loss.item())\n",
        "    # print(f'epoch: {i}, train_loss : {single_loss.item()}')\n",
        "\n",
        "    # testデータに対する予測の損失計算\n",
        "    # モデルを評価モードとする\n",
        "    model.eval()\n",
        "    # 予測値を入れるリスト\n",
        "    test_outputs = []\n",
        "    for i in range(pred_days):\n",
        "        seq = torch.FloatTensor(test_inputs[-seq_length:])\n",
        "        seq = torch.unsqueeze(seq, 0)\n",
        "        seq = seq.to(device)\n",
        "        with torch.no_grad():\n",
        "            test_inputs.append(test_data_normalized.tolist()[i])\n",
        "            test_outputs.append(SAE_model(seq).item())\n",
        "\n",
        "    np_test_outputs = np.array(test_outputs).reshape(-1,1)\n",
        "    # 列方向に同じ値を追加して(?, 15)にする\n",
        "    np_test_outputs2 = np.hstack((np_test_outputs, np_test_outputs))\n",
        "    np_test_outputs3 = np.hstack((np_test_outputs2, np_test_outputs))\n",
        "    np_test_outputs4 = np.hstack((np_test_outputs3, np_test_outputs))\n",
        "    np_test_outputs5 = np.hstack((np_test_outputs4, np_test_outputs))\n",
        "    np_test_outputs6 = np.hstack((np_test_outputs5, np_test_outputs))\n",
        "    np_test_outputs7 = np.hstack((np_test_outputs6, np_test_outputs))\n",
        "    np_test_outputs8 = np.hstack((np_test_outputs7, np_test_outputs))\n",
        "    np_test_outputs9 = np.hstack((np_test_outputs8, np_test_outputs))\n",
        "    np_test_outputs10 = np.hstack((np_test_outputs9, np_test_outputs))\n",
        "    np_test_outputs11 = np.hstack((np_test_outputs10, np_test_outputs))\n",
        "    np_test_outputs12 = np.hstack((np_test_outputs11, np_test_outputs))\n",
        "    np_test_outputs13 = np.hstack((np_test_outputs12, np_test_outputs))\n",
        "    np_test_outputs14 = np.hstack((np_test_outputs13, np_test_outputs))\n",
        "    np_test_outputs15 = np.hstack((np_test_outputs14, np_test_outputs))\n",
        "\n",
        "    actual_predictions = scaler.inverse_transform(np_test_outputs15)\n",
        "\n",
        "\n",
        "    predictions = torch.from_numpy(actual_predictions[:,0])\n",
        "    test_criterion = nn.MSELoss()\n",
        "    test_loss = test_criterion(t_data, predictions)\n",
        "    print(f'epoch: {epoch}, train_loss : {single_loss.item()}, test_loss : {test_loss}')\n",
        "    test_losses.append(test_loss)"
      ],
      "metadata": {
        "colab": {
          "base_uri": "https://localhost:8080/",
          "height": 641
        },
        "id": "qDPxudgUn_tP",
        "outputId": "3189b893-61ed-4f0b-fd59-7551e574a051"
      },
      "execution_count": 258,
      "outputs": [
        {
          "output_type": "stream",
          "name": "stderr",
          "text": [
            "  0%|          | 0/2 [00:00<?, ?it/s]\n"
          ]
        },
        {
          "output_type": "error",
          "ename": "TypeError",
          "evalue": "ignored",
          "traceback": [
            "\u001b[0;31m---------------------------------------------------------------------------\u001b[0m",
            "\u001b[0;31mTypeError\u001b[0m                                 Traceback (most recent call last)",
            "\u001b[0;32m<ipython-input-258-c4a232892cd4>\u001b[0m in \u001b[0;36m<module>\u001b[0;34m\u001b[0m\n\u001b[1;32m     11\u001b[0m         \u001b[0mseq\u001b[0m\u001b[0;34m,\u001b[0m \u001b[0mlabels\u001b[0m \u001b[0;34m=\u001b[0m \u001b[0mseq\u001b[0m\u001b[0;34m.\u001b[0m\u001b[0mto\u001b[0m\u001b[0;34m(\u001b[0m\u001b[0mdevice\u001b[0m\u001b[0;34m)\u001b[0m\u001b[0;34m,\u001b[0m \u001b[0mlabels\u001b[0m\u001b[0;34m.\u001b[0m\u001b[0mto\u001b[0m\u001b[0;34m(\u001b[0m\u001b[0mdevice\u001b[0m\u001b[0;34m)\u001b[0m\u001b[0;34m\u001b[0m\u001b[0;34m\u001b[0m\u001b[0m\n\u001b[1;32m     12\u001b[0m         \u001b[0moptimizer\u001b[0m\u001b[0;34m.\u001b[0m\u001b[0mzero_grad\u001b[0m\u001b[0;34m(\u001b[0m\u001b[0;34m)\u001b[0m\u001b[0;34m\u001b[0m\u001b[0;34m\u001b[0m\u001b[0m\n\u001b[0;32m---> 13\u001b[0;31m         \u001b[0my_pred\u001b[0m \u001b[0;34m=\u001b[0m \u001b[0mSAE_model\u001b[0m\u001b[0;34m(\u001b[0m\u001b[0mseq\u001b[0m\u001b[0;34m)\u001b[0m\u001b[0;34m\u001b[0m\u001b[0;34m\u001b[0m\u001b[0m\n\u001b[0m\u001b[1;32m     14\u001b[0m         \u001b[0msingle_loss\u001b[0m \u001b[0;34m=\u001b[0m \u001b[0mcriterion\u001b[0m\u001b[0;34m(\u001b[0m\u001b[0my_pred\u001b[0m\u001b[0;34m,\u001b[0m \u001b[0mlabels\u001b[0m\u001b[0;34m)\u001b[0m\u001b[0;34m\u001b[0m\u001b[0;34m\u001b[0m\u001b[0m\n\u001b[1;32m     15\u001b[0m         \u001b[0msingle_loss\u001b[0m\u001b[0;34m.\u001b[0m\u001b[0mbackward\u001b[0m\u001b[0;34m(\u001b[0m\u001b[0;34m)\u001b[0m\u001b[0;34m\u001b[0m\u001b[0;34m\u001b[0m\u001b[0m\n",
            "\u001b[0;32m/usr/local/lib/python3.7/dist-packages/torch/nn/modules/module.py\u001b[0m in \u001b[0;36m_call_impl\u001b[0;34m(self, *input, **kwargs)\u001b[0m\n\u001b[1;32m   1128\u001b[0m         if not (self._backward_hooks or self._forward_hooks or self._forward_pre_hooks or _global_backward_hooks\n\u001b[1;32m   1129\u001b[0m                 or _global_forward_hooks or _global_forward_pre_hooks):\n\u001b[0;32m-> 1130\u001b[0;31m             \u001b[0;32mreturn\u001b[0m \u001b[0mforward_call\u001b[0m\u001b[0;34m(\u001b[0m\u001b[0;34m*\u001b[0m\u001b[0minput\u001b[0m\u001b[0;34m,\u001b[0m \u001b[0;34m**\u001b[0m\u001b[0mkwargs\u001b[0m\u001b[0;34m)\u001b[0m\u001b[0;34m\u001b[0m\u001b[0;34m\u001b[0m\u001b[0m\n\u001b[0m\u001b[1;32m   1131\u001b[0m         \u001b[0;31m# Do not call functions when jit is used\u001b[0m\u001b[0;34m\u001b[0m\u001b[0;34m\u001b[0m\u001b[0;34m\u001b[0m\u001b[0m\n\u001b[1;32m   1132\u001b[0m         \u001b[0mfull_backward_hooks\u001b[0m\u001b[0;34m,\u001b[0m \u001b[0mnon_full_backward_hooks\u001b[0m \u001b[0;34m=\u001b[0m \u001b[0;34m[\u001b[0m\u001b[0;34m]\u001b[0m\u001b[0;34m,\u001b[0m \u001b[0;34m[\u001b[0m\u001b[0;34m]\u001b[0m\u001b[0;34m\u001b[0m\u001b[0;34m\u001b[0m\u001b[0m\n",
            "\u001b[0;32m<ipython-input-253-4d3ec4b43e1f>\u001b[0m in \u001b[0;36mforward\u001b[0;34m(self, x)\u001b[0m\n\u001b[1;32m     13\u001b[0m         \u001b[0;31m# LSTMのoutputは(batch_size, seq_len, hidden_layer_size)となる\u001b[0m\u001b[0;34m\u001b[0m\u001b[0;34m\u001b[0m\u001b[0;34m\u001b[0m\u001b[0m\n\u001b[1;32m     14\u001b[0m         \u001b[0;31m# hidden stateとcell stateにはNoneを渡して0ベクトルを渡す\u001b[0m\u001b[0;34m\u001b[0m\u001b[0;34m\u001b[0m\u001b[0;34m\u001b[0m\u001b[0m\n\u001b[0;32m---> 15\u001b[0;31m         \u001b[0mlstm_out\u001b[0m\u001b[0;34m,\u001b[0m \u001b[0;34m(\u001b[0m\u001b[0mhn\u001b[0m\u001b[0;34m,\u001b[0m \u001b[0mcn\u001b[0m\u001b[0;34m)\u001b[0m \u001b[0;34m=\u001b[0m \u001b[0mself\u001b[0m\u001b[0;34m.\u001b[0m\u001b[0mlstm\u001b[0m\u001b[0;34m(\u001b[0m\u001b[0mx\u001b[0m\u001b[0;34m,\u001b[0m \u001b[0;32mNone\u001b[0m\u001b[0;34m)\u001b[0m\u001b[0;34m\u001b[0m\u001b[0;34m\u001b[0m\u001b[0m\n\u001b[0m\u001b[1;32m     16\u001b[0m         \u001b[0;31m# Linearのinputは(N,∗,in_features)にする\u001b[0m\u001b[0;34m\u001b[0m\u001b[0;34m\u001b[0m\u001b[0;34m\u001b[0m\u001b[0m\n\u001b[1;32m     17\u001b[0m         \u001b[0;31m# lstm_out(batch_size, seq_len, hidden_layer_size)のseq_len方向の最後の値をLinearに入力する\u001b[0m\u001b[0;34m\u001b[0m\u001b[0;34m\u001b[0m\u001b[0;34m\u001b[0m\u001b[0m\n",
            "\u001b[0;32m/usr/local/lib/python3.7/dist-packages/torch/nn/modules/module.py\u001b[0m in \u001b[0;36m_call_impl\u001b[0;34m(self, *input, **kwargs)\u001b[0m\n\u001b[1;32m   1128\u001b[0m         if not (self._backward_hooks or self._forward_hooks or self._forward_pre_hooks or _global_backward_hooks\n\u001b[1;32m   1129\u001b[0m                 or _global_forward_hooks or _global_forward_pre_hooks):\n\u001b[0;32m-> 1130\u001b[0;31m             \u001b[0;32mreturn\u001b[0m \u001b[0mforward_call\u001b[0m\u001b[0;34m(\u001b[0m\u001b[0;34m*\u001b[0m\u001b[0minput\u001b[0m\u001b[0;34m,\u001b[0m \u001b[0;34m**\u001b[0m\u001b[0mkwargs\u001b[0m\u001b[0;34m)\u001b[0m\u001b[0;34m\u001b[0m\u001b[0;34m\u001b[0m\u001b[0m\n\u001b[0m\u001b[1;32m   1131\u001b[0m         \u001b[0;31m# Do not call functions when jit is used\u001b[0m\u001b[0;34m\u001b[0m\u001b[0;34m\u001b[0m\u001b[0;34m\u001b[0m\u001b[0m\n\u001b[1;32m   1132\u001b[0m         \u001b[0mfull_backward_hooks\u001b[0m\u001b[0;34m,\u001b[0m \u001b[0mnon_full_backward_hooks\u001b[0m \u001b[0;34m=\u001b[0m \u001b[0;34m[\u001b[0m\u001b[0;34m]\u001b[0m\u001b[0;34m,\u001b[0m \u001b[0;34m[\u001b[0m\u001b[0;34m]\u001b[0m\u001b[0;34m\u001b[0m\u001b[0;34m\u001b[0m\u001b[0m\n",
            "\u001b[0;31mTypeError\u001b[0m: forward() takes 2 positional arguments but 3 were given"
          ]
        }
      ]
    },
    {
      "cell_type": "code",
      "source": [
        "#trainデータに対する予測の損失をグラフ表示\n",
        "plt.title('train_loss')\n",
        "plt.plot(train_losses)"
      ],
      "metadata": {
        "id": "HbuJ3dvUoBWK"
      },
      "execution_count": null,
      "outputs": []
    },
    {
      "cell_type": "code",
      "source": [
        "# testデータに対する予測の損失をグラフ表示\n",
        "plt.title('test_loss')\n",
        "plt.plot(test_losses)"
      ],
      "metadata": {
        "id": "SsHE5VPuoBu5"
      },
      "execution_count": null,
      "outputs": []
    },
    {
      "cell_type": "code",
      "source": [
        "# 予測する日数\n",
        "pred_days = test_data_size\n",
        "# テストデータの正規化を行う。最小値0と最大値1の範囲で行ってTensor型に変換する。\n",
        "test_data_normalized = scaler.fit_transform(test_data)\n",
        "test_data_normalized = torch.FloatTensor(test_data_normalized)\n",
        "# 予測するためのデータの最初のseq_length分はtrain_dataを使う\n",
        "test_inputs = train_data_normalized[-seq_length:].tolist()"
      ],
      "metadata": {
        "id": "jNzNeVURoDxb"
      },
      "execution_count": null,
      "outputs": []
    },
    {
      "cell_type": "code",
      "source": [
        "# モデルを評価モードとする\n",
        "SAE_model.eval()\n",
        "# 予測値を入れるリスト\n",
        "test_outputs = []\n",
        "for i in tqdm.tqdm(range(pred_days)):\n",
        "    seq = torch.FloatTensor(test_inputs[-seq_length:])\n",
        "    seq = torch.unsqueeze(seq, 0)\n",
        "    seq = seq.to(device)\n",
        "    with torch.no_grad():\n",
        "        test_inputs.append(test_data_normalized.tolist()[i])\n",
        "        test_outputs.append(model(seq).item())"
      ],
      "metadata": {
        "id": "6lH-MEXooFI4"
      },
      "execution_count": null,
      "outputs": []
    },
    {
      "cell_type": "code",
      "source": [
        "np_test_outputs = np.array(test_outputs).reshape(-1,1)\n",
        "# 列方向に同じ値を追加して(-1, 15)にする\n",
        "np_test_outputs2 = np.hstack((np_test_outputs, np_test_outputs))\n",
        "np_test_outputs3 = np.hstack((np_test_outputs2, np_test_outputs))\n",
        "np_test_outputs4 = np.hstack((np_test_outputs3, np_test_outputs))\n",
        "np_test_outputs5 = np.hstack((np_test_outputs4, np_test_outputs))\n",
        "np_test_outputs6 = np.hstack((np_test_outputs5, np_test_outputs))\n",
        "np_test_outputs7 = np.hstack((np_test_outputs6, np_test_outputs))\n",
        "np_test_outputs8 = np.hstack((np_test_outputs7, np_test_outputs))\n",
        "np_test_outputs9 = np.hstack((np_test_outputs8, np_test_outputs))\n",
        "np_test_outputs10 = np.hstack((np_test_outputs9, np_test_outputs))\n",
        "np_test_outputs11 = np.hstack((np_test_outputs10, np_test_outputs))\n",
        "np_test_outputs12 = np.hstack((np_test_outputs11, np_test_outputs))\n",
        "np_test_outputs13 = np.hstack((np_test_outputs12, np_test_outputs))\n",
        "np_test_outputs14 = np.hstack((np_test_outputs13, np_test_outputs))\n",
        "np_test_outputs15 = np.hstack((np_test_outputs14, np_test_outputs))\n",
        "\n",
        "actual_predictions = scaler.inverse_transform(np_test_outputs15)"
      ],
      "metadata": {
        "id": "66lswleuoGpQ"
      },
      "execution_count": null,
      "outputs": []
    },
    {
      "cell_type": "markdown",
      "source": [
        "# 図示のための準備"
      ],
      "metadata": {
        "id": "82DQckS8oVdT"
      }
    },
    {
      "cell_type": "code",
      "source": [
        "# 予測値のx軸の値の設定\n",
        "x = np.arange(test_start, data_end, 1)\n",
        "print(x,test_data_size)"
      ],
      "metadata": {
        "id": "kIH6Lqm1oImB"
      },
      "execution_count": null,
      "outputs": []
    },
    {
      "cell_type": "code",
      "source": [
        "fig_size = plt.rcParams['figure.figsize']\n",
        "fig_size[0] = 10\n",
        "fig_size[1] = 5\n",
        "plt.rcParams['figure.figsize'] = fig_size"
      ],
      "metadata": {
        "id": "8wvhTMcUoKz7"
      },
      "execution_count": null,
      "outputs": []
    },
    {
      "cell_type": "code",
      "source": [
        "plt.title('Number of cnt')\n",
        "plt.ylabel('cnt')\n",
        "plt.grid(True)\n",
        "plt.autoscale(axis='x', tight=True)\n",
        "plt.plot(data['cnt'], label='Ground Truth')\n",
        "plt.plot(x, actual_predictions[:,0], label='Prediction')\n",
        "plt.xlabel('2011/1/1 - 2012/12/31')\n",
        "plt.legend()\n",
        "plt.vlines(x=train_start, ymin=0, ymax=1000, colors='red', linestyles='dotted')\n",
        "plt.vlines(x=test_start, ymin=0, ymax=1000, colors='black', linestyles='dotted')\n",
        "plt.vlines(x=data_end, ymin=0, ymax=1000, colors='red', linestyles='dotted')\n",
        "plt.show()"
      ],
      "metadata": {
        "id": "jbx2RZ_eoL5e"
      },
      "execution_count": null,
      "outputs": []
    },
    {
      "cell_type": "code",
      "source": [
        "plt.title('Bike sharing data')\n",
        "plt.ylabel('cnt in 1 hour')\n",
        "plt.grid(True)\n",
        "plt.plot(data[\"cnt\"][test_start:data_end], label='Ground Truth')\n",
        "plt.plot(x,actual_predictions[:,0], label='Prediction')\n",
        "plt.legend()\n",
        "plt.show()"
      ],
      "metadata": {
        "id": "Xn3RIbR8oNp9"
      },
      "execution_count": null,
      "outputs": []
    },
    {
      "cell_type": "markdown",
      "source": [
        "## 損失の値を出す"
      ],
      "metadata": {
        "id": "tu9jRvxPoQHj"
      }
    },
    {
      "cell_type": "code",
      "source": [
        "t_data = pd.read_csv(\"/content/drive/MyDrive/Colab Notebooks/LSTM-AE/Bike_sharing_predict/Bike-Sharing-Dataset/hour.csv\")\n",
        "t_data = t_data[\"cnt\"][test_start:data_end]\n",
        "t_data = t_data.values.astype(np.float32)\n",
        "t_data = torch.from_numpy(t_data)\n",
        "predicitions = torch.from_numpy(actual_predictions[:,0])\n",
        "\n",
        "MSE_criterion = nn.MSELoss()\n",
        "MSE_loss = MSE_criterion(t_data, predictions)\n",
        "\n",
        "MAE_loss =  mean_absolute_error(t_data, predictions)\n",
        "\n",
        "print(f'MSEの値は: {MSE_loss} です')\n",
        "print(f'RMSEの値は: {torch.sqrt(MSE_loss)} です')\n",
        "print(f'MAEの値は: {MAE_loss} です')"
      ],
      "metadata": {
        "id": "WESglhVgoPeY"
      },
      "execution_count": null,
      "outputs": []
    },
    {
      "cell_type": "code",
      "source": [],
      "metadata": {
        "id": "6FllR-e6o286"
      },
      "execution_count": null,
      "outputs": []
    }
  ]
}