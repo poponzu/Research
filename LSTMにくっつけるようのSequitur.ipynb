{
  "nbformat": 4,
  "nbformat_minor": 0,
  "metadata": {
    "colab": {
      "provenance": [],
      "collapsed_sections": [],
      "authorship_tag": "ABX9TyOGsiF23eMr9LRdlE3T+kgS",
      "include_colab_link": true
    },
    "kernelspec": {
      "name": "python3",
      "display_name": "Python 3"
    },
    "language_info": {
      "name": "python"
    }
  },
  "cells": [
    {
      "cell_type": "markdown",
      "metadata": {
        "id": "view-in-github",
        "colab_type": "text"
      },
      "source": [
        "<a href=\"https://colab.research.google.com/github/poponzu/Research/blob/master/LSTM%E3%81%AB%E3%81%8F%E3%81%A3%E3%81%A4%E3%81%91%E3%82%8B%E3%82%88%E3%81%86%E3%81%AESequitur.ipynb\" target=\"_parent\"><img src=\"https://colab.research.google.com/assets/colab-badge.svg\" alt=\"Open In Colab\"/></a>"
      ]
    },
    {
      "cell_type": "code",
      "source": [
        "import torch\n",
        "import torch.nn as nn\n",
        "# Standard Library\n",
        "from statistics import mean\n",
        "\n",
        "# Third Party\n",
        "import torch\n",
        "from torch.nn import MSELoss\n",
        "import tqdm\n",
        "import random\n",
        "import os\n",
        "import torch.optim as optim\n",
        "import matplotlib.pyplot as plt\n",
        "import pandas as pd\n",
        "import numpy as np\n",
        "import pickle"
      ],
      "metadata": {
        "id": "gNJ-lWJzJ7oN"
      },
      "execution_count": 1,
      "outputs": []
    },
    {
      "cell_type": "markdown",
      "source": [
        "## LSTM-AE"
      ],
      "metadata": {
        "id": "kG9ORg3bIpfo"
      }
    },
    {
      "cell_type": "markdown",
      "source": [
        "## quick_train.py"
      ],
      "metadata": {
        "id": "kcl6tmICHxWm"
      }
    },
    {
      "cell_type": "code",
      "source": [
        "# seed決定するためのコード\n",
        "def seed_everything(seed=42):\n",
        "    print('Setting Random Seed')\n",
        "    random.seed(seed)\n",
        "    os.environ['PYTHONHASHSEED'] = str(seed)\n",
        "    np.random.seed(seed)\n",
        "    torch.manual_seed(seed)\n",
        "    torch.cuda.manual_seed(seed)\n",
        "    torch.backends.cudnn.deterministic = True\n",
        "\n",
        "seed_everything(42)"
      ],
      "metadata": {
        "colab": {
          "base_uri": "https://localhost:8080/"
        },
        "id": "gl55_xJVJjdd",
        "outputId": "5e956c43-b5f1-43d1-f42e-5c44d74e36e2"
      },
      "execution_count": 2,
      "outputs": [
        {
          "output_type": "stream",
          "name": "stdout",
          "text": [
            "Setting Random Seed\n"
          ]
        }
      ]
    },
    {
      "cell_type": "markdown",
      "source": [
        "## train.py"
      ],
      "metadata": {
        "id": "c9H7nJRCHwgf"
      }
    },
    {
      "cell_type": "code",
      "source": [
        "# Google Driveをマウントする\n",
        "from google.colab import drive\n",
        "drive.mount('/content/drive')"
      ],
      "metadata": {
        "colab": {
          "base_uri": "https://localhost:8080/"
        },
        "id": "XnpiC-M0KgTz",
        "outputId": "6a7c3fce-9725-429f-cd61-d6e8c5886fda"
      },
      "execution_count": 3,
      "outputs": [
        {
          "output_type": "stream",
          "name": "stdout",
          "text": [
            "Mounted at /content/drive\n"
          ]
        }
      ]
    },
    {
      "cell_type": "code",
      "source": [
        "data = pd.read_csv(\"/content/drive/MyDrive/Colab Notebooks/LSTM-AE/Bike_sharing_predict/Bike-Sharing-Dataset/hour.csv\")"
      ],
      "metadata": {
        "id": "e5ZUjeVyKp6S"
      },
      "execution_count": 4,
      "outputs": []
    },
    {
      "cell_type": "code",
      "source": [
        "data.head()"
      ],
      "metadata": {
        "colab": {
          "base_uri": "https://localhost:8080/",
          "height": 206
        },
        "id": "V-eimSz5KrqD",
        "outputId": "ca95c445-0070-4d41-a0d9-b6d671459a3a"
      },
      "execution_count": 5,
      "outputs": [
        {
          "output_type": "execute_result",
          "data": {
            "text/plain": [
              "   instant      dteday  season  yr  mnth  hr  holiday  weekday  workingday  \\\n",
              "0        1  2011-01-01       1   0     1   0        0        6           0   \n",
              "1        2  2011-01-01       1   0     1   1        0        6           0   \n",
              "2        3  2011-01-01       1   0     1   2        0        6           0   \n",
              "3        4  2011-01-01       1   0     1   3        0        6           0   \n",
              "4        5  2011-01-01       1   0     1   4        0        6           0   \n",
              "\n",
              "   weathersit  temp   atemp   hum  windspeed  casual  registered  cnt  \n",
              "0           1  0.24  0.2879  0.81        0.0       3          13   16  \n",
              "1           1  0.22  0.2727  0.80        0.0       8          32   40  \n",
              "2           1  0.22  0.2727  0.80        0.0       5          27   32  \n",
              "3           1  0.24  0.2879  0.75        0.0       3          10   13  \n",
              "4           1  0.24  0.2879  0.75        0.0       0           1    1  "
            ],
            "text/html": [
              "\n",
              "  <div id=\"df-2a64c976-53fb-45a0-aa97-8c41b7ca5bbd\">\n",
              "    <div class=\"colab-df-container\">\n",
              "      <div>\n",
              "<style scoped>\n",
              "    .dataframe tbody tr th:only-of-type {\n",
              "        vertical-align: middle;\n",
              "    }\n",
              "\n",
              "    .dataframe tbody tr th {\n",
              "        vertical-align: top;\n",
              "    }\n",
              "\n",
              "    .dataframe thead th {\n",
              "        text-align: right;\n",
              "    }\n",
              "</style>\n",
              "<table border=\"1\" class=\"dataframe\">\n",
              "  <thead>\n",
              "    <tr style=\"text-align: right;\">\n",
              "      <th></th>\n",
              "      <th>instant</th>\n",
              "      <th>dteday</th>\n",
              "      <th>season</th>\n",
              "      <th>yr</th>\n",
              "      <th>mnth</th>\n",
              "      <th>hr</th>\n",
              "      <th>holiday</th>\n",
              "      <th>weekday</th>\n",
              "      <th>workingday</th>\n",
              "      <th>weathersit</th>\n",
              "      <th>temp</th>\n",
              "      <th>atemp</th>\n",
              "      <th>hum</th>\n",
              "      <th>windspeed</th>\n",
              "      <th>casual</th>\n",
              "      <th>registered</th>\n",
              "      <th>cnt</th>\n",
              "    </tr>\n",
              "  </thead>\n",
              "  <tbody>\n",
              "    <tr>\n",
              "      <th>0</th>\n",
              "      <td>1</td>\n",
              "      <td>2011-01-01</td>\n",
              "      <td>1</td>\n",
              "      <td>0</td>\n",
              "      <td>1</td>\n",
              "      <td>0</td>\n",
              "      <td>0</td>\n",
              "      <td>6</td>\n",
              "      <td>0</td>\n",
              "      <td>1</td>\n",
              "      <td>0.24</td>\n",
              "      <td>0.2879</td>\n",
              "      <td>0.81</td>\n",
              "      <td>0.0</td>\n",
              "      <td>3</td>\n",
              "      <td>13</td>\n",
              "      <td>16</td>\n",
              "    </tr>\n",
              "    <tr>\n",
              "      <th>1</th>\n",
              "      <td>2</td>\n",
              "      <td>2011-01-01</td>\n",
              "      <td>1</td>\n",
              "      <td>0</td>\n",
              "      <td>1</td>\n",
              "      <td>1</td>\n",
              "      <td>0</td>\n",
              "      <td>6</td>\n",
              "      <td>0</td>\n",
              "      <td>1</td>\n",
              "      <td>0.22</td>\n",
              "      <td>0.2727</td>\n",
              "      <td>0.80</td>\n",
              "      <td>0.0</td>\n",
              "      <td>8</td>\n",
              "      <td>32</td>\n",
              "      <td>40</td>\n",
              "    </tr>\n",
              "    <tr>\n",
              "      <th>2</th>\n",
              "      <td>3</td>\n",
              "      <td>2011-01-01</td>\n",
              "      <td>1</td>\n",
              "      <td>0</td>\n",
              "      <td>1</td>\n",
              "      <td>2</td>\n",
              "      <td>0</td>\n",
              "      <td>6</td>\n",
              "      <td>0</td>\n",
              "      <td>1</td>\n",
              "      <td>0.22</td>\n",
              "      <td>0.2727</td>\n",
              "      <td>0.80</td>\n",
              "      <td>0.0</td>\n",
              "      <td>5</td>\n",
              "      <td>27</td>\n",
              "      <td>32</td>\n",
              "    </tr>\n",
              "    <tr>\n",
              "      <th>3</th>\n",
              "      <td>4</td>\n",
              "      <td>2011-01-01</td>\n",
              "      <td>1</td>\n",
              "      <td>0</td>\n",
              "      <td>1</td>\n",
              "      <td>3</td>\n",
              "      <td>0</td>\n",
              "      <td>6</td>\n",
              "      <td>0</td>\n",
              "      <td>1</td>\n",
              "      <td>0.24</td>\n",
              "      <td>0.2879</td>\n",
              "      <td>0.75</td>\n",
              "      <td>0.0</td>\n",
              "      <td>3</td>\n",
              "      <td>10</td>\n",
              "      <td>13</td>\n",
              "    </tr>\n",
              "    <tr>\n",
              "      <th>4</th>\n",
              "      <td>5</td>\n",
              "      <td>2011-01-01</td>\n",
              "      <td>1</td>\n",
              "      <td>0</td>\n",
              "      <td>1</td>\n",
              "      <td>4</td>\n",
              "      <td>0</td>\n",
              "      <td>6</td>\n",
              "      <td>0</td>\n",
              "      <td>1</td>\n",
              "      <td>0.24</td>\n",
              "      <td>0.2879</td>\n",
              "      <td>0.75</td>\n",
              "      <td>0.0</td>\n",
              "      <td>0</td>\n",
              "      <td>1</td>\n",
              "      <td>1</td>\n",
              "    </tr>\n",
              "  </tbody>\n",
              "</table>\n",
              "</div>\n",
              "      <button class=\"colab-df-convert\" onclick=\"convertToInteractive('df-2a64c976-53fb-45a0-aa97-8c41b7ca5bbd')\"\n",
              "              title=\"Convert this dataframe to an interactive table.\"\n",
              "              style=\"display:none;\">\n",
              "        \n",
              "  <svg xmlns=\"http://www.w3.org/2000/svg\" height=\"24px\"viewBox=\"0 0 24 24\"\n",
              "       width=\"24px\">\n",
              "    <path d=\"M0 0h24v24H0V0z\" fill=\"none\"/>\n",
              "    <path d=\"M18.56 5.44l.94 2.06.94-2.06 2.06-.94-2.06-.94-.94-2.06-.94 2.06-2.06.94zm-11 1L8.5 8.5l.94-2.06 2.06-.94-2.06-.94L8.5 2.5l-.94 2.06-2.06.94zm10 10l.94 2.06.94-2.06 2.06-.94-2.06-.94-.94-2.06-.94 2.06-2.06.94z\"/><path d=\"M17.41 7.96l-1.37-1.37c-.4-.4-.92-.59-1.43-.59-.52 0-1.04.2-1.43.59L10.3 9.45l-7.72 7.72c-.78.78-.78 2.05 0 2.83L4 21.41c.39.39.9.59 1.41.59.51 0 1.02-.2 1.41-.59l7.78-7.78 2.81-2.81c.8-.78.8-2.07 0-2.86zM5.41 20L4 18.59l7.72-7.72 1.47 1.35L5.41 20z\"/>\n",
              "  </svg>\n",
              "      </button>\n",
              "      \n",
              "  <style>\n",
              "    .colab-df-container {\n",
              "      display:flex;\n",
              "      flex-wrap:wrap;\n",
              "      gap: 12px;\n",
              "    }\n",
              "\n",
              "    .colab-df-convert {\n",
              "      background-color: #E8F0FE;\n",
              "      border: none;\n",
              "      border-radius: 50%;\n",
              "      cursor: pointer;\n",
              "      display: none;\n",
              "      fill: #1967D2;\n",
              "      height: 32px;\n",
              "      padding: 0 0 0 0;\n",
              "      width: 32px;\n",
              "    }\n",
              "\n",
              "    .colab-df-convert:hover {\n",
              "      background-color: #E2EBFA;\n",
              "      box-shadow: 0px 1px 2px rgba(60, 64, 67, 0.3), 0px 1px 3px 1px rgba(60, 64, 67, 0.15);\n",
              "      fill: #174EA6;\n",
              "    }\n",
              "\n",
              "    [theme=dark] .colab-df-convert {\n",
              "      background-color: #3B4455;\n",
              "      fill: #D2E3FC;\n",
              "    }\n",
              "\n",
              "    [theme=dark] .colab-df-convert:hover {\n",
              "      background-color: #434B5C;\n",
              "      box-shadow: 0px 1px 3px 1px rgba(0, 0, 0, 0.15);\n",
              "      filter: drop-shadow(0px 1px 2px rgba(0, 0, 0, 0.3));\n",
              "      fill: #FFFFFF;\n",
              "    }\n",
              "  </style>\n",
              "\n",
              "      <script>\n",
              "        const buttonEl =\n",
              "          document.querySelector('#df-2a64c976-53fb-45a0-aa97-8c41b7ca5bbd button.colab-df-convert');\n",
              "        buttonEl.style.display =\n",
              "          google.colab.kernel.accessAllowed ? 'block' : 'none';\n",
              "\n",
              "        async function convertToInteractive(key) {\n",
              "          const element = document.querySelector('#df-2a64c976-53fb-45a0-aa97-8c41b7ca5bbd');\n",
              "          const dataTable =\n",
              "            await google.colab.kernel.invokeFunction('convertToInteractive',\n",
              "                                                     [key], {});\n",
              "          if (!dataTable) return;\n",
              "\n",
              "          const docLinkHtml = 'Like what you see? Visit the ' +\n",
              "            '<a target=\"_blank\" href=https://colab.research.google.com/notebooks/data_table.ipynb>data table notebook</a>'\n",
              "            + ' to learn more about interactive tables.';\n",
              "          element.innerHTML = '';\n",
              "          dataTable['output_type'] = 'display_data';\n",
              "          await google.colab.output.renderOutput(dataTable, element);\n",
              "          const docLink = document.createElement('div');\n",
              "          docLink.innerHTML = docLinkHtml;\n",
              "          element.appendChild(docLink);\n",
              "        }\n",
              "      </script>\n",
              "    </div>\n",
              "  </div>\n",
              "  "
            ]
          },
          "metadata": {},
          "execution_count": 5
        }
      ]
    },
    {
      "cell_type": "code",
      "source": [
        "Bike_data = data[['cnt', 'temp', 'registered']]\n",
        "# Bike_data = data[['temp', 'registered']]"
      ],
      "metadata": {
        "id": "qXqyUhqeKryH"
      },
      "execution_count": 6,
      "outputs": []
    },
    {
      "cell_type": "code",
      "source": [
        "fig, (axL, axM, axR) = plt.subplots(ncols=3, figsize=(20,5))\n",
        "\n",
        "axL.plot(Bike_data['cnt'], linewidth=2)\n",
        "axL.set_title('Number of Bike sharing cnt')\n",
        "axL.set_xlabel('2012/1/1-2012/12/31')\n",
        "axL.set_ylabel('cnt')\n",
        "axL.grid(True)\n",
        "axL.vlines(x=2000, ymin=0, ymax=1000, colors='red', linestyles='dotted')\n",
        "axL.vlines(x=6500, ymin=0, ymax=1000, colors='black', linestyles='dotted')\n",
        "axL.vlines(x=7000, ymin=0, ymax=1000, colors='red', linestyles='dotted')\n",
        "\n",
        "\n",
        "axM.plot(Bike_data['temp'], linewidth=2)\n",
        "axM.set_title('tempeture')\n",
        "axM.set_xlabel('2012/1/1-2012/12/31')\n",
        "axM.set_ylabel('temp')\n",
        "axM.grid(True)\n",
        "axM.vlines(x=2000, ymin=0, ymax=1, colors='red', linestyles='dotted')\n",
        "axM.vlines(x=6500, ymin=0, ymax=1, colors='black', linestyles='dotted')\n",
        "axM.vlines(x=7000, ymin=0, ymax=1, colors='red', linestyles='dotted')\n",
        "\n",
        "axR.plot(Bike_data['registered'], linewidth=2)\n",
        "axR.set_title('Number of registered')\n",
        "axR.set_xlabel('2012/1/1-2012/12/31')\n",
        "axR.set_ylabel('registered')\n",
        "axR.grid(True)\n",
        "axR.vlines(x=2000, ymin=0, ymax=800, colors='red', linestyles='dotted')\n",
        "axR.vlines(x=6500, ymin=0, ymax=800, colors='black', linestyles='dotted')\n",
        "axR.vlines(x=7000, ymin=0, ymax=800, colors='red', linestyles='dotted')\n",
        "\n",
        "fig.show()"
      ],
      "metadata": {
        "colab": {
          "base_uri": "https://localhost:8080/",
          "height": 350
        },
        "id": "v_2MfuONKr5K",
        "outputId": "3805df44-0dcd-467b-bf05-d58e52385578"
      },
      "execution_count": 7,
      "outputs": [
        {
          "output_type": "display_data",
          "data": {
            "text/plain": [
              "<Figure size 1440x360 with 3 Axes>"
            ],
            "image/png": "[encoded data removed]"
          },
          "metadata": {
            "needs_background": "light"
          }
        }
      ]
    },
    {
      "cell_type": "code",
      "source": [
        "# データ量を調節\n",
        "Bike_data = Bike_data[2000:7000]"
      ],
      "metadata": {
        "id": "iyDig7CvK8Sc"
      },
      "execution_count": 8,
      "outputs": []
    },
    {
      "cell_type": "code",
      "source": [
        "Bike_data = Bike_data.values.astype(float)\n",
        "Bike_data.shape"
      ],
      "metadata": {
        "colab": {
          "base_uri": "https://localhost:8080/"
        },
        "id": "CiYIEyTjK8ad",
        "outputId": "1534b672-5060-4ab9-dcda-9a37d61dd0b3"
      },
      "execution_count": 9,
      "outputs": [
        {
          "output_type": "execute_result",
          "data": {
            "text/plain": [
              "(5000, 3)"
            ]
          },
          "metadata": {},
          "execution_count": 9
        }
      ]
    },
    {
      "cell_type": "code",
      "source": [
        "BIke_data = torch.from_numpy(Bike_data)"
      ],
      "metadata": {
        "id": "5S2p6u9RQUiF"
      },
      "execution_count": 10,
      "outputs": []
    },
    {
      "cell_type": "code",
      "source": [
        "train_data_size = 4500\n",
        "test_data_size = 500\n",
        "\n",
        "train_data = Bike_data[:-test_data_size]\n",
        "test_data = Bike_data[-test_data_size:]"
      ],
      "metadata": {
        "id": "EzenDNaSK8eK"
      },
      "execution_count": 11,
      "outputs": []
    },
    {
      "cell_type": "code",
      "source": [
        "#train_dataの正規化\n",
        "# データセットの正規化を行う。最小値0と最大値1の範囲で行う。\n",
        "from sklearn.preprocessing import MinMaxScaler\n",
        "\n",
        "scaler = MinMaxScaler(feature_range=(0, 1))\n",
        "train_data_normalized = scaler.fit_transform(train_data)"
      ],
      "metadata": {
        "id": "Nw0fiEKoK8gz"
      },
      "execution_count": 12,
      "outputs": []
    },
    {
      "cell_type": "code",
      "source": [
        "# Tensor型に変換\n",
        "train_data_normalized = torch.FloatTensor(train_data_normalized)"
      ],
      "metadata": {
        "id": "8X0cEiCTK8j7"
      },
      "execution_count": 13,
      "outputs": []
    },
    {
      "cell_type": "markdown",
      "source": [
        "## こっからAEでは不必要だと思う"
      ],
      "metadata": {
        "id": "Tdygqj5rP0C4"
      }
    },
    {
      "cell_type": "code",
      "source": [
        "# シーケンスに沿ったデータを作成する関数\n",
        "def make_sequence_data(input_data, num_sequence):\n",
        "    # シーケンスデータとラベルデータの器\n",
        "    data = []\n",
        "    # 全体のデータ数取得\n",
        "    num_data = len(input_data)\n",
        "    # 全体からシーケンス分引いた数までループする\n",
        "    for i in range(num_data - num_sequence):\n",
        "        # 1個ずらして、シーケンス分のデータを取得していく\n",
        "        seq_data = input_data[i:i+num_sequence]\n",
        "        # シーケンスの次の要素のデータ(ラベルデータとして1個目の陽性者数のみ)を取得していく\n",
        "        target_data = input_data[:,0][i+num_sequence:i+num_sequence+1]\n",
        "        # シーケンスデータとラベルデータをタプルとして取得していく\n",
        "        data.append((seq_data, target_data))\n",
        "\n",
        "    return data"
      ],
      "metadata": {
        "id": "1IeDRxmDK8qB"
      },
      "execution_count": 14,
      "outputs": []
    },
    {
      "cell_type": "code",
      "source": [
        "# シーケンス長は24データとする\n",
        "# 24時間分のデータから次の1日後のデータを予測する\n",
        "# 48時間とかにしてもよいかも\n",
        "seq_length = 24\n",
        "# train_seq_data=最初のデータを1個ずらしてシーケンス分のデータ(時系列の学習データ群)、train_target=train_seq_dataの次のデータ(ラベルデータ)\n",
        "train_seq_data = make_sequence_data(train_data_normalized, seq_length)"
      ],
      "metadata": {
        "id": "Rh9KUAmpK8sf"
      },
      "execution_count": 15,
      "outputs": []
    },
    {
      "cell_type": "markdown",
      "source": [
        "## モデル作成"
      ],
      "metadata": {
        "id": "K8S6dYLnRgw9"
      }
    },
    {
      "cell_type": "code",
      "source": [
        "class Encoder(nn.Module):\n",
        "    def __init__(self, input_dim, out_dim, h_dims, h_activ, out_activ):\n",
        "        super(Encoder, self).__init__()\n",
        "\n",
        "        layer_dims = [input_dim] + h_dims + [out_dim]\n",
        "        self.num_layers = len(layer_dims) - 1\n",
        "        self.layers = nn.ModuleList()\n",
        "        for index in range(self.num_layers):\n",
        "            layer = nn.LSTM(\n",
        "                input_size=layer_dims[index],\n",
        "                hidden_size=layer_dims[index + 1],\n",
        "                num_layers=1,\n",
        "                batch_first=True\n",
        "            )\n",
        "            self.layers.append(layer)\n",
        "\n",
        "        self.h_activ, self.out_activ = h_activ, out_activ\n",
        "\n",
        "    def forward(self, x):\n",
        "        x = x.unsqueeze(0)\n",
        "        for index, layer in enumerate(self.layers):\n",
        "            x, (h_n, c_n) = layer(x)\n",
        "\n",
        "            if self.h_activ and index < self.num_layers - 1:\n",
        "                x = self.h_activ(x)\n",
        "            elif self.out_activ and index == self.num_layers - 1:\n",
        "                return self.out_activ(h_n).squeeze()\n",
        "\n",
        "        return h_n.squeeze()\n",
        "\n",
        "\n",
        "class Decoder(nn.Module):\n",
        "    def __init__(self, input_dim, out_dim, h_dims, h_activ):\n",
        "        super(Decoder, self).__init__()\n",
        "\n",
        "        layer_dims = [input_dim] + h_dims + [h_dims[-1]]\n",
        "        self.num_layers = len(layer_dims) - 1\n",
        "        self.layers = nn.ModuleList()\n",
        "        for index in range(self.num_layers):\n",
        "            layer = nn.LSTM(\n",
        "                input_size=layer_dims[index],\n",
        "                hidden_size=layer_dims[index + 1],\n",
        "                num_layers=1,\n",
        "                batch_first=True\n",
        "            )\n",
        "            self.layers.append(layer)\n",
        "\n",
        "        self.h_activ = h_activ\n",
        "        self.dense_matrix = nn.Parameter(\n",
        "            torch.rand((layer_dims[-1], out_dim), dtype=torch.float),\n",
        "            requires_grad=True\n",
        "        )\n",
        "\n",
        "    def forward(self, x, seq_len):\n",
        "        x = x.repeat(seq_len, 1).unsqueeze(0)\n",
        "        for index, layer in enumerate(self.layers):\n",
        "            x, (h_n, c_n) = layer(x)\n",
        "\n",
        "            if self.h_activ and index < self.num_layers - 1:\n",
        "                x = self.h_activ(x)\n",
        "\n",
        "        return torch.mm(x.squeeze(), self.dense_matrix)\n",
        "\n",
        "\n",
        "######\n",
        "# MAIN\n",
        "######\n",
        "\n",
        "\n",
        "class LSTM_AE(nn.Module):\n",
        "    def __init__(self, input_dim, encoding_dim, h_dims=[], h_activ=nn.Sigmoid(),\n",
        "                 out_activ=nn.Tanh()):\n",
        "        super(LSTM_AE, self).__init__()\n",
        "\n",
        "        self.encoder = Encoder(input_dim, encoding_dim, h_dims, h_activ,\n",
        "                               out_activ)\n",
        "        self.decoder = Decoder(encoding_dim, input_dim, h_dims[::-1],\n",
        "                               h_activ)\n",
        "\n",
        "    def forward(self, x):\n",
        "        # print(x)\n",
        "        seq_len = x.shape[0]\n",
        "        x = self.encoder(x)\n",
        "        x = self.decoder(x, seq_len)\n",
        "\n",
        "        return x\n",
        "\n",
        "    def __name__(self, input_dim, encoding_dim, h_dims=[], h_activ=nn.Sigmoid(),\n",
        "                 out_activ=nn.Tanh()):\n",
        "\n",
        "        self.input_dim = input_dim\n",
        "        self.encoding_dim = encoding_dim\n",
        "        self.h_dims = h_dims\n",
        "        self.h_activ = h_activ\n",
        "        self.out_activ = out_activ"
      ],
      "metadata": {
        "id": "PnO0aWZcMShu"
      },
      "execution_count": 16,
      "outputs": []
    },
    {
      "cell_type": "code",
      "source": [
        "Bike_data.shape"
      ],
      "metadata": {
        "colab": {
          "base_uri": "https://localhost:8080/"
        },
        "id": "O-fOnhgDP6uA",
        "outputId": "e5b1d9cf-cea6-435f-dddf-c63495fa9072"
      },
      "execution_count": 17,
      "outputs": [
        {
          "output_type": "execute_result",
          "data": {
            "text/plain": [
              "(5000, 3)"
            ]
          },
          "metadata": {},
          "execution_count": 17
        }
      ]
    },
    {
      "cell_type": "code",
      "source": [
        "model = LSTM_AE(\n",
        "    input_dim=3,   # 入力列数に合わせる\n",
        "    encoding_dim=10, # decordの時に使う最終的に何時限までに圧縮するか\n",
        "    h_dims=[100],\n",
        "    h_activ=None,\n",
        "    out_activ=None\n",
        ")"
      ],
      "metadata": {
        "id": "myTHJCdUKP93"
      },
      "execution_count": 18,
      "outputs": []
    },
    {
      "cell_type": "code",
      "source": [
        "print(model)"
      ],
      "metadata": {
        "colab": {
          "base_uri": "https://localhost:8080/"
        },
        "id": "Whc1S-YiKXtQ",
        "outputId": "51d7d590-0b27-4355-8023-8eb0333daab4"
      },
      "execution_count": 19,
      "outputs": [
        {
          "output_type": "stream",
          "name": "stdout",
          "text": [
            "LSTM_AE(\n",
            "  (encoder): Encoder(\n",
            "    (layers): ModuleList(\n",
            "      (0): LSTM(3, 100, batch_first=True)\n",
            "      (1): LSTM(100, 10, batch_first=True)\n",
            "    )\n",
            "  )\n",
            "  (decoder): Decoder(\n",
            "    (layers): ModuleList(\n",
            "      (0): LSTM(10, 100, batch_first=True)\n",
            "      (1): LSTM(100, 100, batch_first=True)\n",
            "    )\n",
            "  )\n",
            ")\n"
          ]
        }
      ]
    },
    {
      "cell_type": "code",
      "source": [
        "def train_model(model, train_set, verbose, lr, epochs, denoise):\n",
        "    device = torch.device(\"cuda\" if torch.cuda.is_available() else \"cpu\")\n",
        "    model.to(device)\n",
        "\n",
        "\n",
        "    criterion = nn.MSELoss()\n",
        "    optimizer = torch.optim.Adam(model.parameters(), lr=0.001)\n",
        "\n",
        "    mean_losses = []\n",
        "    for epoch in tqdm.tqdm(range(1, epochs + 1)):\n",
        "        model.train()\n",
        "\n",
        "        # # Reduces learning rate every 50 epochs\n",
        "        # if not epoch % 50:\n",
        "        #     for param_group in optimizer.param_groups:\n",
        "        #         param_group[\"lr\"] = lr * (0.993 ** epoch)\n",
        "\n",
        "        losses = []\n",
        "        for x in train_set:\n",
        "            optimizer.zero_grad()\n",
        "\n",
        "            # Forward pass\n",
        "            x_prime = model(x)\n",
        "\n",
        "            loss = criterion(x_prime, x)\n",
        "\n",
        "            # Backward pass\n",
        "            loss.backward()\n",
        "            optimizer.step()\n",
        "\n",
        "            losses.append(loss.item())\n",
        "\n",
        "        mean_loss = mean(losses)\n",
        "        mean_losses.append(mean_loss)\n",
        "\n",
        "        if verbose:\n",
        "            print(f\"Epoch: {epoch}, MSELoss: {mean_loss}\")\n",
        "    \n",
        "    # 学習時の損失をグラフ表示\n",
        "    plt.plot(mean_losses)\n",
        "\n",
        "    return mean_losses\n",
        "\n",
        "\n",
        "def get_encodings(model, train_set):\n",
        "    model.eval()\n",
        "    encodings = [model.encoder(x) for x in train_set]\n",
        "    return encodings\n",
        "\n",
        "\n",
        "# def instantiate_model(model, train_set, encoding_dim, **kwargs):\n",
        "#     if model.__name__ in (\"LINEAR_AE\", \"LSTM_AE\"):\n",
        "#         return model(train_set[-1].shape[-1], encoding_dim, **kwargs)\n",
        "#     elif model.__name__ == \"CONV_LSTM_AE\":\n",
        "#         if len(train_set[-1].shape) == 3: # 2D elements\n",
        "#             return model(train_set[-1].shape[-2:], encoding_dim, **kwargs)\n",
        "#         elif len(train_set[-1].shape) == 4: # 3D elements\n",
        "#             return model(train_set[-1].shape[-3:], encoding_dim, **kwargs)\n",
        "\n",
        "\n",
        "\n",
        "######\n",
        "# MAIN\n",
        "######\n",
        "\n",
        "\n",
        "def quick_train(model, train_set, encoding_dim, verbose=False, lr=1e-3,\n",
        "                epochs=1, denoise=False, **kwargs):\n",
        "    # 確かめるために追加\n",
        "    # print(list(model.parameters()))\n",
        "\n",
        "    # model = instantiate_model(model, train_set, encoding_dim, **kwargs)\n",
        "    # print(model)\n",
        "    losses = train_model(model, train_set, verbose, lr, epochs, denoise)\n",
        "    encodings = get_encodings(model, train_set)\n",
        "\n",
        "    return model.encoder, model.decoder, encodings, losses"
      ],
      "metadata": {
        "id": "pnjxfvNjOrSv"
      },
      "execution_count": 20,
      "outputs": []
    },
    {
      "cell_type": "code",
      "source": [
        "encoder, decoder, _, _ = quick_train(model, train_data_normalized, verbose=True, epochs=2, encoding_dim=7)"
      ],
      "metadata": {
        "colab": {
          "base_uri": "https://localhost:8080/",
          "height": 372
        },
        "id": "PL0tjZOAIY42",
        "outputId": "be2b077b-a3fe-440a-f6a7-30c5bf5eb5cd"
      },
      "execution_count": 21,
      "outputs": [
        {
          "output_type": "stream",
          "name": "stderr",
          "text": [
            "\r  0%|          | 0/2 [00:00<?, ?it/s]/usr/local/lib/python3.7/dist-packages/torch/nn/modules/loss.py:530: UserWarning: Using a target size (torch.Size([3])) that is different to the input size (torch.Size([3, 3])). This will likely lead to incorrect results due to broadcasting. Please ensure they have the same size.\n",
            "  return F.mse_loss(input, target, reduction=self.reduction)\n",
            " 50%|█████     | 1/2 [00:25<00:25, 25.57s/it]"
          ]
        },
        {
          "output_type": "stream",
          "name": "stdout",
          "text": [
            "Epoch: 1, MSELoss: 0.005511644208367215\n"
          ]
        },
        {
          "output_type": "stream",
          "name": "stderr",
          "text": [
            "100%|██████████| 2/2 [00:48<00:00, 24.38s/it]"
          ]
        },
        {
          "output_type": "stream",
          "name": "stdout",
          "text": [
            "Epoch: 2, MSELoss: 0.0021926428463493216\n"
          ]
        },
        {
          "output_type": "stream",
          "name": "stderr",
          "text": [
            "\n"
          ]
        },
        {
          "output_type": "display_data",
          "data": {
            "text/plain": [
              "<Figure size 432x288 with 1 Axes>"
            ],
            "image/png": "[encoded data removed]"
          },
          "metadata": {
            "needs_background": "light"
          }
        }
      ]
    },
    {
      "cell_type": "code",
      "source": [
        "with open('/content/drive/MyDrive/Colab Notebooks/LSTM-SAE/encoder4.pickle', mode='wb') as f:\n",
        "    pickle.dump(encoder, f , protocol=2)\n",
        "print(\"モデル4の保存完了です。\")"
      ],
      "metadata": {
        "colab": {
          "base_uri": "https://localhost:8080/"
        },
        "id": "DG1KnGhqQCi2",
        "outputId": "bc3d18f7-ffa0-4ee5-af53-80de4ec03e49"
      },
      "execution_count": 22,
      "outputs": [
        {
          "output_type": "stream",
          "name": "stdout",
          "text": [
            "モデル4の保存完了です。\n"
          ]
        }
      ]
    },
    {
      "cell_type": "code",
      "source": [
        "encoder"
      ],
      "metadata": {
        "colab": {
          "base_uri": "https://localhost:8080/"
        },
        "id": "3ZzeMaBDQuWZ",
        "outputId": "59336e09-cf6e-4513-feaa-4d218e737dec"
      },
      "execution_count": 23,
      "outputs": [
        {
          "output_type": "execute_result",
          "data": {
            "text/plain": [
              "Encoder(\n",
              "  (layers): ModuleList(\n",
              "    (0): LSTM(3, 100, batch_first=True)\n",
              "    (1): LSTM(100, 10, batch_first=True)\n",
              "  )\n",
              ")"
            ]
          },
          "metadata": {},
          "execution_count": 23
        }
      ]
    },
    {
      "cell_type": "code",
      "source": [
        "model.encoder"
      ],
      "metadata": {
        "colab": {
          "base_uri": "https://localhost:8080/"
        },
        "id": "QyVmidMEQ7j2",
        "outputId": "df81c93f-d290-4fb4-9f67-407ce7a21092"
      },
      "execution_count": 24,
      "outputs": [
        {
          "output_type": "execute_result",
          "data": {
            "text/plain": [
              "Encoder(\n",
              "  (layers): ModuleList(\n",
              "    (0): LSTM(3, 100, batch_first=True)\n",
              "    (1): LSTM(100, 10, batch_first=True)\n",
              "  )\n",
              ")"
            ]
          },
          "metadata": {},
          "execution_count": 24
        }
      ]
    },
    {
      "cell_type": "code",
      "source": [
        "with open('/content/drive/MyDrive/Colab Notebooks/LSTM-SAE/model4.pickle', mode='wb') as f:\n",
        "    pickle.dump(model, f , protocol=2)\n",
        "print(\"モデル42の保存完了です。\")"
      ],
      "metadata": {
        "id": "bJbpZ_wlQ-Q3",
        "colab": {
          "base_uri": "https://localhost:8080/"
        },
        "outputId": "39f1937c-9b5e-450b-ce33-8eadcd3186b1"
      },
      "execution_count": 25,
      "outputs": [
        {
          "output_type": "stream",
          "name": "stdout",
          "text": [
            "モデル42の保存完了です。\n"
          ]
        }
      ]
    }
  ]
}