{
  "cells": [
    {
      "cell_type": "markdown",
      "metadata": {
        "id": "view-in-github",
        "colab_type": "text"
      },
      "source": [
        "<a href=\"https://colab.research.google.com/github/poponzu/Research/blob/master/DAE%E8%BF%BD%E5%8A%A0%E7%94%A8_Evaluation.ipynb\" target=\"_parent\"><img src=\"https://colab.research.google.com/assets/colab-badge.svg\" alt=\"Open In Colab\"/></a>"
      ]
    },
    {
      "cell_type": "code",
      "source": [
        "from google.colab import drive\n",
        "drive.mount('/content/drive')"
      ],
      "metadata": {
        "id": "7NRw8vTQBo7I"
      },
      "execution_count": 3,
      "outputs": []
    },
    {
      "cell_type": "code",
      "source": [
        "!pip install tensorflow==1.14.0"
      ],
      "metadata": {
        "colab": {
          "base_uri": "https://localhost:8080/"
        },
        "id": "Mxwo_iiE77ux",
        "outputId": "adc95f9b-8da9-42f7-a511-202bce567777"
      },
      "execution_count": 4,
      "outputs": [
        {
          "output_type": "stream",
          "name": "stdout",
          "text": [
            "Looking in indexes: https://pypi.org/simple, https://us-python.pkg.dev/colab-wheels/public/simple/\n",
            "Collecting tensorflow==1.14.0\n",
            "  Downloading tensorflow-1.14.0-cp37-cp37m-manylinux1_x86_64.whl (109.3 MB)\n",
            "\u001b[K     |████████████████████████████████| 109.3 MB 48 kB/s \n",
            "\u001b[?25hRequirement already satisfied: termcolor>=1.1.0 in /usr/local/lib/python3.7/dist-packages (from tensorflow==1.14.0) (2.0.1)\n",
            "Collecting keras-applications>=1.0.6\n",
            "  Downloading Keras_Applications-1.0.8-py3-none-any.whl (50 kB)\n",
            "\u001b[K     |████████████████████████████████| 50 kB 8.6 MB/s \n",
            "\u001b[?25hRequirement already satisfied: keras-preprocessing>=1.0.5 in /usr/local/lib/python3.7/dist-packages (from tensorflow==1.14.0) (1.1.2)\n",
            "Requirement already satisfied: wrapt>=1.11.1 in /usr/local/lib/python3.7/dist-packages (from tensorflow==1.14.0) (1.14.1)\n",
            "Requirement already satisfied: six>=1.10.0 in /usr/local/lib/python3.7/dist-packages (from tensorflow==1.14.0) (1.15.0)\n",
            "Requirement already satisfied: numpy<2.0,>=1.14.5 in /usr/local/lib/python3.7/dist-packages (from tensorflow==1.14.0) (1.21.6)\n",
            "Requirement already satisfied: google-pasta>=0.1.6 in /usr/local/lib/python3.7/dist-packages (from tensorflow==1.14.0) (0.2.0)\n",
            "Requirement already satisfied: protobuf>=3.6.1 in /usr/local/lib/python3.7/dist-packages (from tensorflow==1.14.0) (3.17.3)\n",
            "Collecting tensorboard<1.15.0,>=1.14.0\n",
            "  Downloading tensorboard-1.14.0-py3-none-any.whl (3.1 MB)\n",
            "\u001b[K     |████████████████████████████████| 3.1 MB 53.7 MB/s \n",
            "\u001b[?25hCollecting tensorflow-estimator<1.15.0rc0,>=1.14.0rc0\n",
            "  Downloading tensorflow_estimator-1.14.0-py2.py3-none-any.whl (488 kB)\n",
            "\u001b[K     |████████████████████████████████| 488 kB 58.3 MB/s \n",
            "\u001b[?25hRequirement already satisfied: astor>=0.6.0 in /usr/local/lib/python3.7/dist-packages (from tensorflow==1.14.0) (0.8.1)\n",
            "Requirement already satisfied: absl-py>=0.7.0 in /usr/local/lib/python3.7/dist-packages (from tensorflow==1.14.0) (1.2.0)\n",
            "Requirement already satisfied: gast>=0.2.0 in /usr/local/lib/python3.7/dist-packages (from tensorflow==1.14.0) (0.4.0)\n",
            "Requirement already satisfied: wheel>=0.26 in /usr/local/lib/python3.7/dist-packages (from tensorflow==1.14.0) (0.37.1)\n",
            "Requirement already satisfied: grpcio>=1.8.6 in /usr/local/lib/python3.7/dist-packages (from tensorflow==1.14.0) (1.49.1)\n",
            "Requirement already satisfied: h5py in /usr/local/lib/python3.7/dist-packages (from keras-applications>=1.0.6->tensorflow==1.14.0) (3.1.0)\n",
            "Requirement already satisfied: setuptools>=41.0.0 in /usr/local/lib/python3.7/dist-packages (from tensorboard<1.15.0,>=1.14.0->tensorflow==1.14.0) (57.4.0)\n",
            "Requirement already satisfied: werkzeug>=0.11.15 in /usr/local/lib/python3.7/dist-packages (from tensorboard<1.15.0,>=1.14.0->tensorflow==1.14.0) (1.0.1)\n",
            "Requirement already satisfied: markdown>=2.6.8 in /usr/local/lib/python3.7/dist-packages (from tensorboard<1.15.0,>=1.14.0->tensorflow==1.14.0) (3.4.1)\n",
            "Requirement already satisfied: importlib-metadata>=4.4 in /usr/local/lib/python3.7/dist-packages (from markdown>=2.6.8->tensorboard<1.15.0,>=1.14.0->tensorflow==1.14.0) (5.0.0)\n",
            "Requirement already satisfied: typing-extensions>=3.6.4 in /usr/local/lib/python3.7/dist-packages (from importlib-metadata>=4.4->markdown>=2.6.8->tensorboard<1.15.0,>=1.14.0->tensorflow==1.14.0) (4.1.1)\n",
            "Requirement already satisfied: zipp>=0.5 in /usr/local/lib/python3.7/dist-packages (from importlib-metadata>=4.4->markdown>=2.6.8->tensorboard<1.15.0,>=1.14.0->tensorflow==1.14.0) (3.9.0)\n",
            "Requirement already satisfied: cached-property in /usr/local/lib/python3.7/dist-packages (from h5py->keras-applications>=1.0.6->tensorflow==1.14.0) (1.5.2)\n",
            "Installing collected packages: tensorflow-estimator, tensorboard, keras-applications, tensorflow\n",
            "  Attempting uninstall: tensorflow-estimator\n",
            "    Found existing installation: tensorflow-estimator 2.9.0\n",
            "    Uninstalling tensorflow-estimator-2.9.0:\n",
            "      Successfully uninstalled tensorflow-estimator-2.9.0\n",
            "  Attempting uninstall: tensorboard\n",
            "    Found existing installation: tensorboard 2.9.1\n",
            "    Uninstalling tensorboard-2.9.1:\n",
            "      Successfully uninstalled tensorboard-2.9.1\n",
            "  Attempting uninstall: tensorflow\n",
            "    Found existing installation: tensorflow 2.9.2\n",
            "    Uninstalling tensorflow-2.9.2:\n",
            "      Successfully uninstalled tensorflow-2.9.2\n",
            "\u001b[31mERROR: pip's dependency resolver does not currently take into account all the packages that are installed. This behaviour is the source of the following dependency conflicts.\n",
            "kapre 0.3.7 requires tensorflow>=2.0.0, but you have tensorflow 1.14.0 which is incompatible.\u001b[0m\n",
            "Successfully installed keras-applications-1.0.8 tensorboard-1.14.0 tensorflow-1.14.0 tensorflow-estimator-1.14.0\n"
          ]
        }
      ]
    },
    {
      "cell_type": "code",
      "source": [
        "!pip install keras==2.3.1"
      ],
      "metadata": {
        "colab": {
          "base_uri": "https://localhost:8080/"
        },
        "id": "9HdpfASf_vF4",
        "outputId": "9d853a40-50f2-4a57-b654-c5878dc2827e"
      },
      "execution_count": 5,
      "outputs": [
        {
          "output_type": "stream",
          "name": "stdout",
          "text": [
            "Looking in indexes: https://pypi.org/simple, https://us-python.pkg.dev/colab-wheels/public/simple/\n",
            "Collecting keras==2.3.1\n",
            "  Downloading Keras-2.3.1-py2.py3-none-any.whl (377 kB)\n",
            "\u001b[K     |████████████████████████████████| 377 kB 23.0 MB/s \n",
            "\u001b[?25hRequirement already satisfied: h5py in /usr/local/lib/python3.7/dist-packages (from keras==2.3.1) (3.1.0)\n",
            "Requirement already satisfied: keras-applications>=1.0.6 in /usr/local/lib/python3.7/dist-packages (from keras==2.3.1) (1.0.8)\n",
            "Requirement already satisfied: scipy>=0.14 in /usr/local/lib/python3.7/dist-packages (from keras==2.3.1) (1.7.3)\n",
            "Requirement already satisfied: keras-preprocessing>=1.0.5 in /usr/local/lib/python3.7/dist-packages (from keras==2.3.1) (1.1.2)\n",
            "Requirement already satisfied: pyyaml in /usr/local/lib/python3.7/dist-packages (from keras==2.3.1) (6.0)\n",
            "Requirement already satisfied: numpy>=1.9.1 in /usr/local/lib/python3.7/dist-packages (from keras==2.3.1) (1.21.6)\n",
            "Requirement already satisfied: six>=1.9.0 in /usr/local/lib/python3.7/dist-packages (from keras==2.3.1) (1.15.0)\n",
            "Requirement already satisfied: cached-property in /usr/local/lib/python3.7/dist-packages (from h5py->keras==2.3.1) (1.5.2)\n",
            "Installing collected packages: keras\n",
            "  Attempting uninstall: keras\n",
            "    Found existing installation: keras 2.9.0\n",
            "    Uninstalling keras-2.9.0:\n",
            "      Successfully uninstalled keras-2.9.0\n",
            "Successfully installed keras-2.3.1\n"
          ]
        }
      ]
    },
    {
      "cell_type": "code",
      "execution_count": 6,
      "metadata": {
        "pycharm": {
          "name": "#%%\n",
          "is_executing": true
        },
        "colab": {
          "base_uri": "https://localhost:8080/"
        },
        "id": "fdISxsrc6-b-",
        "outputId": "d54642a1-777f-4c46-c114-f8f6662edb47"
      },
      "outputs": [
        {
          "output_type": "stream",
          "name": "stderr",
          "text": [
            "/usr/local/lib/python3.7/dist-packages/tensorflow/python/framework/dtypes.py:516: FutureWarning: Passing (type, 1) or '1type' as a synonym of type is deprecated; in a future version of numpy, it will be understood as (type, (1,)) / '(1,)type'.\n",
            "  _np_qint8 = np.dtype([(\"qint8\", np.int8, 1)])\n",
            "/usr/local/lib/python3.7/dist-packages/tensorflow/python/framework/dtypes.py:517: FutureWarning: Passing (type, 1) or '1type' as a synonym of type is deprecated; in a future version of numpy, it will be understood as (type, (1,)) / '(1,)type'.\n",
            "  _np_quint8 = np.dtype([(\"quint8\", np.uint8, 1)])\n",
            "/usr/local/lib/python3.7/dist-packages/tensorflow/python/framework/dtypes.py:518: FutureWarning: Passing (type, 1) or '1type' as a synonym of type is deprecated; in a future version of numpy, it will be understood as (type, (1,)) / '(1,)type'.\n",
            "  _np_qint16 = np.dtype([(\"qint16\", np.int16, 1)])\n",
            "/usr/local/lib/python3.7/dist-packages/tensorflow/python/framework/dtypes.py:519: FutureWarning: Passing (type, 1) or '1type' as a synonym of type is deprecated; in a future version of numpy, it will be understood as (type, (1,)) / '(1,)type'.\n",
            "  _np_quint16 = np.dtype([(\"quint16\", np.uint16, 1)])\n",
            "/usr/local/lib/python3.7/dist-packages/tensorflow/python/framework/dtypes.py:520: FutureWarning: Passing (type, 1) or '1type' as a synonym of type is deprecated; in a future version of numpy, it will be understood as (type, (1,)) / '(1,)type'.\n",
            "  _np_qint32 = np.dtype([(\"qint32\", np.int32, 1)])\n",
            "/usr/local/lib/python3.7/dist-packages/tensorflow/python/framework/dtypes.py:525: FutureWarning: Passing (type, 1) or '1type' as a synonym of type is deprecated; in a future version of numpy, it will be understood as (type, (1,)) / '(1,)type'.\n",
            "  np_resource = np.dtype([(\"resource\", np.ubyte, 1)])\n",
            "/usr/local/lib/python3.7/dist-packages/tensorboard/compat/tensorflow_stub/dtypes.py:541: FutureWarning: Passing (type, 1) or '1type' as a synonym of type is deprecated; in a future version of numpy, it will be understood as (type, (1,)) / '(1,)type'.\n",
            "  _np_qint8 = np.dtype([(\"qint8\", np.int8, 1)])\n",
            "/usr/local/lib/python3.7/dist-packages/tensorboard/compat/tensorflow_stub/dtypes.py:542: FutureWarning: Passing (type, 1) or '1type' as a synonym of type is deprecated; in a future version of numpy, it will be understood as (type, (1,)) / '(1,)type'.\n",
            "  _np_quint8 = np.dtype([(\"quint8\", np.uint8, 1)])\n",
            "/usr/local/lib/python3.7/dist-packages/tensorboard/compat/tensorflow_stub/dtypes.py:543: FutureWarning: Passing (type, 1) or '1type' as a synonym of type is deprecated; in a future version of numpy, it will be understood as (type, (1,)) / '(1,)type'.\n",
            "  _np_qint16 = np.dtype([(\"qint16\", np.int16, 1)])\n",
            "/usr/local/lib/python3.7/dist-packages/tensorboard/compat/tensorflow_stub/dtypes.py:544: FutureWarning: Passing (type, 1) or '1type' as a synonym of type is deprecated; in a future version of numpy, it will be understood as (type, (1,)) / '(1,)type'.\n",
            "  _np_quint16 = np.dtype([(\"quint16\", np.uint16, 1)])\n",
            "/usr/local/lib/python3.7/dist-packages/tensorboard/compat/tensorflow_stub/dtypes.py:545: FutureWarning: Passing (type, 1) or '1type' as a synonym of type is deprecated; in a future version of numpy, it will be understood as (type, (1,)) / '(1,)type'.\n",
            "  _np_qint32 = np.dtype([(\"qint32\", np.int32, 1)])\n",
            "/usr/local/lib/python3.7/dist-packages/tensorboard/compat/tensorflow_stub/dtypes.py:550: FutureWarning: Passing (type, 1) or '1type' as a synonym of type is deprecated; in a future version of numpy, it will be understood as (type, (1,)) / '(1,)type'.\n",
            "  np_resource = np.dtype([(\"resource\", np.ubyte, 1)])\n",
            "Using TensorFlow backend.\n",
            "/usr/local/lib/python3.7/dist-packages/ipykernel_launcher.py:42: FutureWarning: The pandas.datetime class is deprecated and will be removed from pandas in a future version. Import from datetime module instead.\n"
          ]
        }
      ],
      "source": [
        "import numpy as np\n",
        "import tensorflow as tf\n",
        "import random as rn\n",
        "import numpy as np\n",
        "\n",
        "import os\n",
        "\n",
        "os.environ['PYTHONHASHSEED'] = '0'\n",
        "np.random.seed(42)\n",
        "rn.seed(12345)\n",
        "# import tensorflow as tf\n",
        "# print(tf.__version__)\n",
        "\n",
        "session_conf = tf.ConfigProto(\n",
        "    intra_op_parallelism_threads=1, inter_op_parallelism_threads=1\n",
        ")\n",
        "\n",
        "# session_conf = tf.compat.v1.ConfigProto(\n",
        "#     intra_op_parallelism_threads=1, inter_op_parallelism_threads=1\n",
        "# )\n",
        "\n",
        "from tensorflow import keras \n",
        "from keras import backend as K\n",
        "\n",
        "tf.set_random_seed(1234)\n",
        "# tf.random.set_seed(1234)\n",
        "sess = tf.Session(graph=tf.get_default_graph(), config=session_conf)\n",
        "K.set_session(sess)\n",
        "from sklearn.preprocessing import MinMaxScaler\n",
        "from sklearn.metrics import mean_squared_error\n",
        "from sklearn.metrics import mean_absolute_error\n",
        "from sklearn.preprocessing import LabelEncoder\n",
        "from hyperopt import fmin, tpe, hp, STATUS_OK, Trials\n",
        "from keras.layers import Input, Dense,LSTM,RepeatVector,GRU,Dropout,Reshape\n",
        "from keras.layers import*\n",
        "from keras.models import Model\n",
        "from keras.models import Sequential\n",
        "from pandas import DataFrame\n",
        "from pandas import Series\n",
        "from pandas import concat\n",
        "from pandas import read_csv\n",
        "from pandas import datetime\n",
        "import matplotlib.pyplot as plt\n",
        "from math import sqrt\n",
        "import random\n",
        "import warnings\n",
        "warnings.simplefilter(\"ignore\", DeprecationWarning)"
      ]
    },
    {
      "cell_type": "code",
      "execution_count": 7,
      "metadata": {
        "pycharm": {
          "name": "#%%\n"
        },
        "id": "Je41m3R16-cN"
      },
      "outputs": [],
      "source": [
        "def parser(x):\n",
        "\treturn datetime.strptime(x, '%Y-%m-%d %H:%M:%S')\n",
        "\n",
        "# create a differenced series\n",
        "def difference(dataset, interval=1):\n",
        "\tdiff = list()\n",
        "\tfor i in range(interval, len(dataset)):\n",
        "\t\tvalue = dataset[i] - dataset[i - interval]\n",
        "\t\tdiff.append(value)\n",
        "\treturn Series(diff)\n",
        "\n",
        "# invert differenced value\n",
        "def inverse_difference(history, yhat, interval=1):\n",
        "\treturn yhat + history[:,0][-interval]\n",
        "\n",
        "# scale train and test data to [-1, 1]\n",
        "def scale(train, test):\n",
        "\t# fit scaler\n",
        "\tscaler = MinMaxScaler(feature_range=(-1, 1))\n",
        "\tscaler = scaler.fit(train)\n",
        "\t# transform train\n",
        "\ttrain = train.reshape(train.shape[0], train.shape[1])\n",
        "\ttrain_scaled = scaler.transform(train)\n",
        "\t# transform test\n",
        "\ttest = test.reshape(test.shape[0], test.shape[1])\n",
        "\ttest_scaled = scaler.transform(test)\n",
        "\treturn scaler, train_scaled, test_scaled\n",
        "\n",
        "# inverse scaling for a forecasted value\n",
        "def invert_scale(scaler, X, value):\n",
        "\tnew_row = []\n",
        "\tfor x in X:\n",
        "   \t\t new_row = new_row+[i for i in x]\n",
        "            \n",
        "\tnew_row.append(value) \n",
        "\tnew_row_2 = np.array(new_row)\n",
        "\tnew_row_2 = new_row_2.reshape((1,new_row_2.shape[0]))\n",
        "\tinverted = scaler.inverse_transform(new_row_2)\n",
        "\treturn inverted[0, -1]\n",
        "\n",
        "\n",
        "def create_dataset(dataset,features, look_back=1):\n",
        "\tdataset = np.insert(dataset,[0]*look_back,0)    \n",
        "\tdataX, dataY = [], []\n",
        "\tfor i in range(len(dataset)-look_back):\n",
        "\t\ta = dataset[i:(i+look_back)]\n",
        "\t\tdataX.append(a)\n",
        "\t\tdataY.append(dataset[i + look_back])\n",
        "\tdataY= np.array(dataY)        \n",
        "\tdataY = np.reshape(dataY,(dataY.shape[0],features))\n",
        "\tdataset = np.concatenate((dataX,dataY),axis=1)  \n",
        "\treturn dataset\n",
        "\n",
        "\n",
        "\n",
        "# convert series to supervised learning\n",
        "def series_to_supervised(data,features, n_in=1, n_out=1, dropnan=True):\n",
        "\tn_vars = 1 if type(data) is list else data.shape[1]\n",
        "\tx = np.zeros(features, dtype=np.int)\n",
        "\tfor i in range(n_in):\n",
        "\t\tdata = np.insert(data,x,0)\n",
        "\tdata = data.reshape(int(data.shape[0]/features),features) \n",
        "\tdf = DataFrame(data)\n",
        "\tcols, names = list(), list()\n",
        "\t# input sequence (t-n, ... t-1)\n",
        "\tfor i in range(n_in, 0, -1):\n",
        "\t\tcols.append(df.shift(i))\n",
        "\t\tnames += [('var%d(t-%d)' % (j+1, i)) for j in range(n_vars)]\n",
        "\t# forecast sequence (t, t+1, ... t+n)\n",
        "\tfor i in range(0, n_out):\n",
        "\t\tcols.append(df.shift(-i))\n",
        "\t\tif i == 0:\n",
        "\t\t\tnames += [('var%d(t)' % (j+1)) for j in range(n_vars)]\n",
        "\t\telse:\n",
        "\t\t\tnames += [('var%d(t+%d)' % (j+1, i)) for j in range(n_vars)]\n",
        "\t# put it all together\n",
        "\tagg = concat(cols, axis=1)\n",
        "\tagg.columns = names\n",
        "\t# drop rows with NaN values\n",
        "\tif dropnan:\n",
        "\t\tagg.dropna(inplace=True)\n",
        "\treturn agg\n",
        "\n",
        "\n",
        "# make a one-step forecast\n",
        "def forecast_lstm(model, batch_size, X):\n",
        "\tX = X.reshape(batch_size, X.shape[0], X.shape[1])\n",
        "\tyhat = model.predict(X, batch_size=batch_size)\n",
        "\treturn yhat[0,0]\n",
        "\n",
        "\n",
        "# def read_data(): \n",
        "\n",
        "\t\n",
        "# \twindow_size = 0\n",
        "# \tfeatures = 8\n",
        "\n",
        "\n",
        "# \tseries = read_csv('pollution.csv', header=0, index_col=0)\t\n",
        "# \traw_values = series.values\n",
        "\n",
        "# \t# integer encode wind direction\n",
        "# \tencoder = LabelEncoder()\n",
        "# \traw_values[:,4] = encoder.fit_transform(raw_values[:,4])\n",
        "\n",
        "# \t# transform data to be stationary\n",
        "# \tdiff = difference(raw_values, 1)\n",
        "\n",
        "\n",
        "# \tdataset = diff.values\n",
        "# \tdataset = create_dataset(dataset,features,window_size)\n",
        "\n",
        "\n",
        "# \treturn dataset,raw_values"
      ]
    },
    {
      "cell_type": "code",
      "execution_count": 8,
      "metadata": {
        "pycharm": {
          "name": "#%%\n"
        },
        "id": "DMlZ22686-dN"
      },
      "outputs": [],
      "source": [
        "space = {'seq_len':hp.choice('seq_len',[5,10,15,20,25,30]),\n",
        "         'epochs_pre':hp.choice('epochs_pre',[i for i in range(50,1000)]),\n",
        "         'epochs_finetune':hp.choice('epochs_finetune',[i for i in range(50,500)]),\n",
        "         'units':hp.choice('units',[i for i in range(1,50)]),\n",
        "         'dropout':hp.choice('dropout',[0.1,0.2,0.3,0.4,0.5,0.6,0.7,0.8,0.9]),\n",
        "         'batch_size':hp.choice('batch_size',[73, 146, 219])}"
      ]
    },
    {
      "cell_type": "code",
      "execution_count": 9,
      "metadata": {
        "pycharm": {
          "name": "#%%\n"
        },
        "id": "74nA1eKU6-dN"
      },
      "outputs": [],
      "source": [
        "params = {'seq_len': 10,\n",
        "          'epochs_pre': 100,\n",
        "          'epochs_finetune': 50,\n",
        "          'units': 20,\n",
        "          'dropout': 0.2,\n",
        "          'batch_size': 73}"
      ]
    },
    {
      "cell_type": "code",
      "execution_count": 10,
      "metadata": {
        "pycharm": {
          "name": "#%%\n"
        },
        "id": "htV4ufGI6-dO"
      },
      "outputs": [],
      "source": [
        "hidden_layers = [35,49,4]\n",
        "batch_size = 219\n",
        "dropout = 0.2\n",
        "seq_len = 25\n",
        "epochs_pre  = [625,115,933]\n",
        "# デバッグ用\n",
        "epochs_pre  = [1,1,1]\n",
        "epochs_finetune = 197\n",
        "epochs_finetune = 1\n",
        "window_size = 0\n",
        "features = 8"
      ]
    },
    {
      "cell_type": "code",
      "source": [
        "series = read_csv('/content/drive/MyDrive/Colab Notebooks/jimang/pollution.csv', header=0, index_col=0)\n",
        "series.head()"
      ],
      "metadata": {
        "colab": {
          "base_uri": "https://localhost:8080/",
          "height": 237
        },
        "id": "efTRR0N8EiYM",
        "outputId": "26b8e42f-6a9c-4d85-f3d1-5910c160ae09"
      },
      "execution_count": 52,
      "outputs": [
        {
          "output_type": "execute_result",
          "data": {
            "text/plain": [
              "                     pollution  dew  temp   press wnd_dir  wnd_spd  snow  rain\n",
              "date                                                                          \n",
              "2010-01-02 00:00:00        129  -16  -4.0  1020.0      SE     1.79     0     0\n",
              "2010-01-02 01:00:00        148  -15  -4.0  1020.0      SE     2.68     0     0\n",
              "2010-01-02 02:00:00        159  -11  -5.0  1021.0      SE     3.57     0     0\n",
              "2010-01-02 03:00:00        181   -7  -5.0  1022.0      SE     5.36     1     0\n",
              "2010-01-02 04:00:00        138   -7  -5.0  1022.0      SE     6.25     2     0"
            ],
            "text/html": [
              "\n",
              "  <div id=\"df-78a78104-4256-4eee-8a89-d0490e633448\">\n",
              "    <div class=\"colab-df-container\">\n",
              "      <div>\n",
              "<style scoped>\n",
              "    .dataframe tbody tr th:only-of-type {\n",
              "        vertical-align: middle;\n",
              "    }\n",
              "\n",
              "    .dataframe tbody tr th {\n",
              "        vertical-align: top;\n",
              "    }\n",
              "\n",
              "    .dataframe thead th {\n",
              "        text-align: right;\n",
              "    }\n",
              "</style>\n",
              "<table border=\"1\" class=\"dataframe\">\n",
              "  <thead>\n",
              "    <tr style=\"text-align: right;\">\n",
              "      <th></th>\n",
              "      <th>pollution</th>\n",
              "      <th>dew</th>\n",
              "      <th>temp</th>\n",
              "      <th>press</th>\n",
              "      <th>wnd_dir</th>\n",
              "      <th>wnd_spd</th>\n",
              "      <th>snow</th>\n",
              "      <th>rain</th>\n",
              "    </tr>\n",
              "    <tr>\n",
              "      <th>date</th>\n",
              "      <th></th>\n",
              "      <th></th>\n",
              "      <th></th>\n",
              "      <th></th>\n",
              "      <th></th>\n",
              "      <th></th>\n",
              "      <th></th>\n",
              "      <th></th>\n",
              "    </tr>\n",
              "  </thead>\n",
              "  <tbody>\n",
              "    <tr>\n",
              "      <th>2010-01-02 00:00:00</th>\n",
              "      <td>129</td>\n",
              "      <td>-16</td>\n",
              "      <td>-4.0</td>\n",
              "      <td>1020.0</td>\n",
              "      <td>SE</td>\n",
              "      <td>1.79</td>\n",
              "      <td>0</td>\n",
              "      <td>0</td>\n",
              "    </tr>\n",
              "    <tr>\n",
              "      <th>2010-01-02 01:00:00</th>\n",
              "      <td>148</td>\n",
              "      <td>-15</td>\n",
              "      <td>-4.0</td>\n",
              "      <td>1020.0</td>\n",
              "      <td>SE</td>\n",
              "      <td>2.68</td>\n",
              "      <td>0</td>\n",
              "      <td>0</td>\n",
              "    </tr>\n",
              "    <tr>\n",
              "      <th>2010-01-02 02:00:00</th>\n",
              "      <td>159</td>\n",
              "      <td>-11</td>\n",
              "      <td>-5.0</td>\n",
              "      <td>1021.0</td>\n",
              "      <td>SE</td>\n",
              "      <td>3.57</td>\n",
              "      <td>0</td>\n",
              "      <td>0</td>\n",
              "    </tr>\n",
              "    <tr>\n",
              "      <th>2010-01-02 03:00:00</th>\n",
              "      <td>181</td>\n",
              "      <td>-7</td>\n",
              "      <td>-5.0</td>\n",
              "      <td>1022.0</td>\n",
              "      <td>SE</td>\n",
              "      <td>5.36</td>\n",
              "      <td>1</td>\n",
              "      <td>0</td>\n",
              "    </tr>\n",
              "    <tr>\n",
              "      <th>2010-01-02 04:00:00</th>\n",
              "      <td>138</td>\n",
              "      <td>-7</td>\n",
              "      <td>-5.0</td>\n",
              "      <td>1022.0</td>\n",
              "      <td>SE</td>\n",
              "      <td>6.25</td>\n",
              "      <td>2</td>\n",
              "      <td>0</td>\n",
              "    </tr>\n",
              "  </tbody>\n",
              "</table>\n",
              "</div>\n",
              "      <button class=\"colab-df-convert\" onclick=\"convertToInteractive('df-78a78104-4256-4eee-8a89-d0490e633448')\"\n",
              "              title=\"Convert this dataframe to an interactive table.\"\n",
              "              style=\"display:none;\">\n",
              "        \n",
              "  <svg xmlns=\"http://www.w3.org/2000/svg\" height=\"24px\"viewBox=\"0 0 24 24\"\n",
              "       width=\"24px\">\n",
              "    <path d=\"M0 0h24v24H0V0z\" fill=\"none\"/>\n",
              "    <path d=\"M18.56 5.44l.94 2.06.94-2.06 2.06-.94-2.06-.94-.94-2.06-.94 2.06-2.06.94zm-11 1L8.5 8.5l.94-2.06 2.06-.94-2.06-.94L8.5 2.5l-.94 2.06-2.06.94zm10 10l.94 2.06.94-2.06 2.06-.94-2.06-.94-.94-2.06-.94 2.06-2.06.94z\"/><path d=\"M17.41 7.96l-1.37-1.37c-.4-.4-.92-.59-1.43-.59-.52 0-1.04.2-1.43.59L10.3 9.45l-7.72 7.72c-.78.78-.78 2.05 0 2.83L4 21.41c.39.39.9.59 1.41.59.51 0 1.02-.2 1.41-.59l7.78-7.78 2.81-2.81c.8-.78.8-2.07 0-2.86zM5.41 20L4 18.59l7.72-7.72 1.47 1.35L5.41 20z\"/>\n",
              "  </svg>\n",
              "      </button>\n",
              "      \n",
              "  <style>\n",
              "    .colab-df-container {\n",
              "      display:flex;\n",
              "      flex-wrap:wrap;\n",
              "      gap: 12px;\n",
              "    }\n",
              "\n",
              "    .colab-df-convert {\n",
              "      background-color: #E8F0FE;\n",
              "      border: none;\n",
              "      border-radius: 50%;\n",
              "      cursor: pointer;\n",
              "      display: none;\n",
              "      fill: #1967D2;\n",
              "      height: 32px;\n",
              "      padding: 0 0 0 0;\n",
              "      width: 32px;\n",
              "    }\n",
              "\n",
              "    .colab-df-convert:hover {\n",
              "      background-color: #E2EBFA;\n",
              "      box-shadow: 0px 1px 2px rgba(60, 64, 67, 0.3), 0px 1px 3px 1px rgba(60, 64, 67, 0.15);\n",
              "      fill: #174EA6;\n",
              "    }\n",
              "\n",
              "    [theme=dark] .colab-df-convert {\n",
              "      background-color: #3B4455;\n",
              "      fill: #D2E3FC;\n",
              "    }\n",
              "\n",
              "    [theme=dark] .colab-df-convert:hover {\n",
              "      background-color: #434B5C;\n",
              "      box-shadow: 0px 1px 3px 1px rgba(0, 0, 0, 0.15);\n",
              "      filter: drop-shadow(0px 1px 2px rgba(0, 0, 0, 0.3));\n",
              "      fill: #FFFFFF;\n",
              "    }\n",
              "  </style>\n",
              "\n",
              "      <script>\n",
              "        const buttonEl =\n",
              "          document.querySelector('#df-78a78104-4256-4eee-8a89-d0490e633448 button.colab-df-convert');\n",
              "        buttonEl.style.display =\n",
              "          google.colab.kernel.accessAllowed ? 'block' : 'none';\n",
              "\n",
              "        async function convertToInteractive(key) {\n",
              "          const element = document.querySelector('#df-78a78104-4256-4eee-8a89-d0490e633448');\n",
              "          const dataTable =\n",
              "            await google.colab.kernel.invokeFunction('convertToInteractive',\n",
              "                                                     [key], {});\n",
              "          if (!dataTable) return;\n",
              "\n",
              "          const docLinkHtml = 'Like what you see? Visit the ' +\n",
              "            '<a target=\"_blank\" href=https://colab.research.google.com/notebooks/data_table.ipynb>data table notebook</a>'\n",
              "            + ' to learn more about interactive tables.';\n",
              "          element.innerHTML = '';\n",
              "          dataTable['output_type'] = 'display_data';\n",
              "          await google.colab.output.renderOutput(dataTable, element);\n",
              "          const docLink = document.createElement('div');\n",
              "          docLink.innerHTML = docLinkHtml;\n",
              "          element.appendChild(docLink);\n",
              "        }\n",
              "      </script>\n",
              "    </div>\n",
              "  </div>\n",
              "  "
            ]
          },
          "metadata": {},
          "execution_count": 52
        }
      ]
    },
    {
      "cell_type": "code",
      "execution_count": 11,
      "metadata": {
        "pycharm": {
          "name": "#%%\n"
        },
        "id": "0VsFIhFC6-dO"
      },
      "outputs": [],
      "source": [
        "series = read_csv('/content/drive/MyDrive/Colab Notebooks/jimang/pollution.csv', header=0, index_col=0)\n",
        "raw_values = series.values\n",
        "\n",
        "# integer encode wind direction\n",
        "encoder = LabelEncoder()\n",
        "raw_values[:,4] = encoder.fit_transform(raw_values[:,4])\n",
        "\n",
        "# transform data to be stationary\n",
        "diff = difference(raw_values, 1)\n",
        "\n",
        "\n",
        "dataset = diff.values\n",
        "dataset = create_dataset(dataset,features,window_size)"
      ]
    },
    {
      "cell_type": "code",
      "execution_count": 12,
      "metadata": {
        "pycharm": {
          "name": "#%%\n"
        },
        "id": "HfdB-_hv6-dQ",
        "outputId": "0d206522-0aeb-47e9-c48b-96757ff4fe76",
        "colab": {
          "base_uri": "https://localhost:8080/"
        }
      },
      "outputs": [
        {
          "output_type": "stream",
          "name": "stdout",
          "text": [
            "(35040, 25, 8) (35040,) (8759, 25, 8) (8759,)\n"
          ]
        }
      ],
      "source": [
        "# frame as supervised learning\n",
        "reframed = series_to_supervised(dataset,features, seq_len, 1)\n",
        "drop = [i for  i in  range(seq_len*features+1,((seq_len+1)*features))]\n",
        "reframed.drop(reframed.columns[drop], axis=1, inplace=True)\n",
        "reframed = reframed.values\n",
        "\n",
        "# split into train and test sets\n",
        "train_size = 365*24*4\n",
        "train, test = reframed[0:train_size], reframed[train_size:]\n",
        "\n",
        "# transform the scale of the data\n",
        "scaler, train_scaled, test_scaled = scale(train, test)\n",
        "\n",
        "# split into input and outputs\n",
        "x_train,y_train = train_scaled[:,0:-1],train_scaled[:,-1]\n",
        "x_test,y_test = test_scaled[:,0:-1],test_scaled[:,-1]\n",
        "\n",
        "# reshape input to be 3D [samples, timesteps, features]\n",
        "x_train = x_train.reshape(x_train.shape[0],seq_len,features)\n",
        "x_test = x_test.reshape(x_test.shape[0],seq_len,features)\n",
        "\n",
        "print(x_train.shape, y_train.shape, x_test.shape, y_test.shape)"
      ]
    },
    {
      "cell_type": "code",
      "execution_count": 13,
      "metadata": {
        "pycharm": {
          "name": "#%%\n"
        },
        "id": "L0XPf2vP6-dV",
        "outputId": "6c9aca26-914f-4cef-d4ae-8d70ec801ef9",
        "colab": {
          "base_uri": "https://localhost:8080/"
        }
      },
      "outputs": [
        {
          "output_type": "stream",
          "name": "stdout",
          "text": [
            "\n",
            "start pretraining\n",
            "===============\n"
          ]
        }
      ],
      "source": [
        "print('\\nstart pretraining')\n",
        "print('===============')\n",
        "\n",
        "timesteps = x_train.shape[1]\n",
        "input_dim = x_train.shape[2]\n",
        "trained_encoder = []\n",
        "x_train_temp = x_train"
      ]
    },
    {
      "cell_type": "code",
      "source": [],
      "metadata": {
        "id": "ey9QHNvIBmHQ"
      },
      "execution_count": 13,
      "outputs": []
    },
    {
      "cell_type": "code",
      "execution_count": 14,
      "metadata": {
        "pycharm": {
          "name": "#%%\n"
        },
        "id": "hOn-xLEi6-dW",
        "outputId": "eb22f067-32f7-492d-e4a2-dd013678109a",
        "colab": {
          "base_uri": "https://localhost:8080/"
        }
      },
      "outputs": [
        {
          "output_type": "stream",
          "name": "stdout",
          "text": [
            ">> 1 LAYERS\n"
          ]
        }
      ],
      "source": [
        "print('>> 1 LAYERS')\n",
        "hidden = hidden_layers[0]\n",
        "epochs = epochs_pre[0]\n"
      ]
    },
    {
      "cell_type": "code",
      "source": [
        "import tensorflow as tf\n",
        "print(tf.__version__)"
      ],
      "metadata": {
        "colab": {
          "base_uri": "https://localhost:8080/"
        },
        "id": "Q1Z3p9ZgDtXy",
        "outputId": "0d241ab1-685c-4c93-cc6a-d37d4f416b10"
      },
      "execution_count": 15,
      "outputs": [
        {
          "output_type": "stream",
          "name": "stdout",
          "text": [
            "1.14.0\n"
          ]
        }
      ]
    },
    {
      "cell_type": "code",
      "execution_count": 16,
      "metadata": {
        "pycharm": {
          "name": "#%%\n"
        },
        "id": "iDEX_gvJ6-dX"
      },
      "outputs": [],
      "source": [
        "inputs = Input(batch_shape=(5, timesteps, x_train_temp.shape[2]))\n",
        "encoded1 = LSTM(\n",
        "    hidden, # 35\n",
        "    batch_input_shape=(5, timesteps, x_train_temp.shape[2]),\n",
        "    stateful=False)(inputs)\n",
        "encoded2 = LSTM(\n",
        "    hidden, # 35\n",
        "    batch_input_shape=(5, timesteps, x_train_temp.shape[2]),\n",
        "    stateful=True)(inputs)"
      ]
    },
    {
      "cell_type": "code",
      "execution_count": 17,
      "metadata": {
        "pycharm": {
          "name": "#%%\n"
        },
        "id": "5mbNbBQT6-dY"
      },
      "outputs": [],
      "source": [
        "ae1 = Model(inputs, encoded1)\n",
        "ae2 = Model(inputs, encoded2)"
      ]
    },
    {
      "cell_type": "code",
      "execution_count": 18,
      "metadata": {
        "pycharm": {
          "name": "#%%\n"
        },
        "id": "Wcz-5nHB6-db",
        "outputId": "06f603b0-6773-409a-9b06-9fb848dbc63d",
        "colab": {
          "base_uri": "https://localhost:8080/"
        }
      },
      "outputs": [
        {
          "output_type": "stream",
          "name": "stderr",
          "text": [
            "WARNING:tensorflow:From /usr/local/lib/python3.7/dist-packages/keras/backend/tensorflow_backend.py:422: The name tf.global_variables is deprecated. Please use tf.compat.v1.global_variables instead.\n",
            "\n"
          ]
        },
        {
          "output_type": "execute_result",
          "data": {
            "text/plain": [
              "array([[ 0.24322765,  0.06178239, -0.17655882, -0.12882254, -0.02688442,\n",
              "        -0.0721254 ,  0.05387397, -0.11968687,  0.23866737,  0.11617469,\n",
              "        -0.04865515,  0.3114834 , -0.17449522, -0.23140316, -0.12739022,\n",
              "        -0.08305719,  0.23297568,  0.07088908,  0.12098511,  0.3627467 ,\n",
              "         0.0424863 , -0.2135795 ,  0.08458111,  0.08890662,  0.01499828,\n",
              "        -0.07102045,  0.05547186,  0.09340119,  0.07347936, -0.29601127,\n",
              "        -0.0165082 ,  0.16104677, -0.30813733, -0.16865839, -0.14752522],\n",
              "       [ 0.24535778,  0.06087729, -0.17936966, -0.13045558, -0.02807865,\n",
              "        -0.07171693,  0.05483313, -0.12019384,  0.23945777,  0.11864257,\n",
              "        -0.04922653,  0.3126094 , -0.17437698, -0.23376803, -0.12811124,\n",
              "        -0.08466566,  0.23025292,  0.07202914,  0.12235111,  0.36257184,\n",
              "         0.04224938, -0.21644606,  0.08322715,  0.08907802,  0.01652107,\n",
              "        -0.07188129,  0.05248745,  0.09324394,  0.07156403, -0.29585463,\n",
              "        -0.01800653,  0.16023819, -0.3096695 , -0.17005876, -0.14720866],\n",
              "       [ 0.24851114,  0.05716635, -0.18815967, -0.12939759, -0.02810815,\n",
              "        -0.07618741,  0.06145104, -0.12353753,  0.24362525,  0.12196454,\n",
              "        -0.05982462,  0.3202907 , -0.16708061, -0.23871869, -0.12888722,\n",
              "        -0.0886783 ,  0.22971623,  0.06767358,  0.1318097 ,  0.36565334,\n",
              "         0.03624224, -0.21986018,  0.07568451,  0.08970392,  0.02780842,\n",
              "        -0.08291383,  0.04932071,  0.0979246 ,  0.06179984, -0.302346  ,\n",
              "        -0.0307233 ,  0.15613568, -0.32154617, -0.17414515, -0.15055782],\n",
              "       [ 0.25234184,  0.05596145, -0.19504589, -0.12802067, -0.02756562,\n",
              "        -0.08154726,  0.0687525 , -0.12398059,  0.24867041,  0.12589046,\n",
              "        -0.06392556,  0.32889035, -0.16299298, -0.24186918, -0.13087869,\n",
              "        -0.08857853,  0.2279604 ,  0.06530933,  0.1360325 ,  0.3788682 ,\n",
              "         0.03531548, -0.22843188,  0.06991801,  0.08733082,  0.03692736,\n",
              "        -0.09295229,  0.05425287,  0.09819181,  0.05302332, -0.31400767,\n",
              "        -0.03801748,  0.15916745, -0.33153507, -0.16860439, -0.15163334],\n",
              "       [ 0.25215548,  0.05684408, -0.18901317, -0.1297439 , -0.02909932,\n",
              "        -0.08278896,  0.06801546, -0.12617166,  0.24554767,  0.12424891,\n",
              "        -0.05853666,  0.32708594, -0.16782439, -0.23784009, -0.13030109,\n",
              "        -0.08848607,  0.23143946,  0.06515297,  0.13040257,  0.38243294,\n",
              "         0.03990588, -0.22836728,  0.06953543,  0.08765105,  0.02499841,\n",
              "        -0.09046886,  0.05958052,  0.09740271,  0.0584408 , -0.31783688,\n",
              "        -0.03330168,  0.1625866 , -0.3260193 , -0.1656539 , -0.15025142]],\n",
              "      dtype=float32)"
            ]
          },
          "metadata": {},
          "execution_count": 18
        }
      ],
      "source": [
        "ae1.predict(x_train_temp[0:5])"
      ]
    },
    {
      "cell_type": "code",
      "execution_count": 19,
      "metadata": {
        "pycharm": {
          "name": "#%%\n"
        },
        "id": "1yyjTDKc6-dc",
        "colab": {
          "base_uri": "https://localhost:8080/"
        },
        "outputId": "58aa2188-e2bf-4c67-fe6e-86a475751153"
      },
      "outputs": [
        {
          "output_type": "execute_result",
          "data": {
            "text/plain": [
              "array([[ 0.1273528 ,  0.10068031, -0.12685269,  0.06722263,  0.30900016,\n",
              "        -0.04228254, -0.08361648,  0.33564928, -0.24645342, -0.14372094,\n",
              "         0.15147391,  0.11833811, -0.21517964, -0.13915277, -0.01345758,\n",
              "        -0.08503578,  0.10117726, -0.22256249, -0.21828233,  0.12404889,\n",
              "         0.14180566,  0.05194278,  0.02936172, -0.22914435,  0.05827786,\n",
              "         0.06012322,  0.1914436 ,  0.01527736,  0.00603681, -0.06199156,\n",
              "        -0.0780628 , -0.25579426,  0.04199241,  0.01263958, -0.14798377],\n",
              "       [ 0.1253904 ,  0.10058086, -0.12856945,  0.06618417,  0.30898133,\n",
              "        -0.04156291, -0.08436906,  0.33797476, -0.24781086, -0.14120118,\n",
              "         0.15112396,  0.11739679, -0.21475308, -0.13764223, -0.01528612,\n",
              "        -0.08608457,  0.10058317, -0.22186351, -0.22034499,  0.12182613,\n",
              "         0.14354149,  0.05332322,  0.02956992, -0.23015125,  0.05790955,\n",
              "         0.06411634,  0.19298966,  0.01642885,  0.00484067, -0.06343229,\n",
              "        -0.07534498, -0.25604504,  0.04141588,  0.01336948, -0.14807479],\n",
              "       [ 0.12980103,  0.10426999, -0.1366144 ,  0.06515002,  0.31146455,\n",
              "        -0.0284837 , -0.08538519,  0.34649593, -0.2432468 , -0.14064178,\n",
              "         0.15451927,  0.11905442, -0.2084337 , -0.13731736, -0.03018478,\n",
              "        -0.08992679,  0.10107881, -0.21357559, -0.23214237,  0.11326435,\n",
              "         0.1466409 ,  0.06214894,  0.03564163, -0.22775277,  0.04943595,\n",
              "         0.07496144,  0.20716932,  0.02069842,  0.00606253, -0.0686029 ,\n",
              "        -0.07455599, -0.25311312,  0.03393442,  0.01637344, -0.15276808],\n",
              "       [ 0.1309575 ,  0.11012436, -0.14194116,  0.06570258,  0.31396508,\n",
              "        -0.02004052, -0.08900608,  0.35259613, -0.24450478, -0.1396531 ,\n",
              "         0.1523576 ,  0.12196272, -0.20079677, -0.13947654, -0.04004626,\n",
              "        -0.09561753,  0.10277155, -0.2082639 , -0.24212019,  0.10628493,\n",
              "         0.14485615,  0.0648432 ,  0.03969627, -0.2346236 ,  0.04497806,\n",
              "         0.08334463,  0.21604393,  0.02201317,  0.00830008, -0.07387487,\n",
              "        -0.07594883, -0.25439376,  0.02873642,  0.02654424, -0.15660742],\n",
              "       [ 0.13165466,  0.10990316, -0.13867712,  0.06763924,  0.31386876,\n",
              "        -0.02621317, -0.0843557 ,  0.35218754, -0.24280606, -0.14394934,\n",
              "         0.14942841,  0.11972191, -0.20528929, -0.14490189, -0.03265272,\n",
              "        -0.09162761,  0.10559262, -0.21185051, -0.23450032,  0.10950659,\n",
              "         0.14202178,  0.06087579,  0.04003371, -0.2396712 ,  0.05135331,\n",
              "         0.07397965,  0.21108171,  0.01728754,  0.0079875 , -0.06958277,\n",
              "        -0.08018776, -0.26212892,  0.0318295 ,  0.02375764, -0.16096067]],\n",
              "      dtype=float32)"
            ]
          },
          "metadata": {},
          "execution_count": 19
        }
      ],
      "source": [
        "ae2.predict(x_train_temp[0:5])"
      ]
    },
    {
      "cell_type": "code",
      "execution_count": 19,
      "metadata": {
        "pycharm": {
          "name": "#%%\n"
        },
        "id": "p4GmHn_w6-dc"
      },
      "outputs": [],
      "source": []
    },
    {
      "cell_type": "code",
      "execution_count": 20,
      "metadata": {
        "pycharm": {
          "name": "#%%\n"
        },
        "id": "m5nL33IY6-dc",
        "colab": {
          "base_uri": "https://localhost:8080/"
        },
        "outputId": "12f2e930-6bbb-41ae-e880-9b80c094ebde"
      },
      "outputs": [
        {
          "output_type": "stream",
          "name": "stdout",
          "text": [
            "pretrain Autoencoder: 0 ----> Encoder: 35 ----> Epochs: 1\n",
            "(35040, 25, 8)\n",
            "=============================================================\n",
            "Model: \"model_3\"\n",
            "_________________________________________________________________\n",
            "Layer (type)                 Output Shape              Param #   \n",
            "=================================================================\n",
            "input_2 (InputLayer)         (219, 25, 8)              0         \n",
            "_________________________________________________________________\n",
            "lstm_3 (LSTM)                (219, 35)                 6160      \n",
            "_________________________________________________________________\n",
            "repeat_vector_1 (RepeatVecto (219, 25, 35)             0         \n",
            "_________________________________________________________________\n",
            "lstm_4 (LSTM)                (219, 25, 8)              1408      \n",
            "=================================================================\n",
            "Total params: 7,568\n",
            "Trainable params: 7,568\n",
            "Non-trainable params: 0\n",
            "_________________________________________________________________\n"
          ]
        }
      ],
      "source": [
        "print(f'pretrain Autoencoder: {0} ----> Encoder: {hidden} ----> Epochs: {epochs}')\n",
        "print(x_train_temp.shape)\n",
        "print('=============================================================')\n",
        "\n",
        "inputs = Input(\n",
        "    # (219, 25, 8)\n",
        "    batch_shape=(batch_size, timesteps, x_train_temp.shape[2]))\n",
        "encoded = LSTM(\n",
        "    hidden, # 35\n",
        "    batch_input_shape=(batch_size, timesteps, x_train_temp.shape[2]),\n",
        "    stateful = False)(inputs)\n",
        "decoded = RepeatVector(timesteps)(encoded) \n",
        "decoded = LSTM(input_dim, stateful=False, return_sequences=True)(decoded)\n",
        "\n",
        "AE = Model(inputs, decoded)\n",
        "\n",
        "encoder = Model(inputs,encoded)\n",
        "\n",
        "AE.compile(loss='mean_squared_error', optimizer='Adam')\n",
        "\n",
        "encoder.compile(loss='mean_squared_error', optimizer='Adam')\n",
        "\n",
        "AE.summary()"
      ]
    },
    {
      "cell_type": "code",
      "execution_count": 21,
      "metadata": {
        "scrolled": true,
        "pycharm": {
          "name": "#%%\n"
        },
        "id": "djA2__hV6-dd",
        "colab": {
          "base_uri": "https://localhost:8080/"
        },
        "outputId": "5aaa5927-4cd8-4e98-c95f-acd3ee5b4a4f"
      },
      "outputs": [
        {
          "output_type": "stream",
          "name": "stdout",
          "text": [
            "Epoch 1/1\n",
            "35040/35040 [==============================] - 9s 251us/step - loss: 0.0692\n"
          ]
        },
        {
          "output_type": "execute_result",
          "data": {
            "text/plain": [
              "<keras.callbacks.callbacks.History at 0x7fc794c6d150>"
            ]
          },
          "metadata": {},
          "execution_count": 21
        }
      ],
      "source": [
        "AE.fit(\n",
        "    x_train_temp, \n",
        "    x_train,\n",
        "    epochs=epochs,\n",
        "    batch_size=batch_size,\n",
        "    shuffle=True,\n",
        "    verbose=1\n",
        ")"
      ]
    },
    {
      "cell_type": "code",
      "execution_count": 22,
      "metadata": {
        "pycharm": {
          "name": "#%%\n"
        },
        "id": "fnOL0Jip6-dp"
      },
      "outputs": [],
      "source": [
        "# store trained encoder and its weights\n",
        "trained_encoder.append(\n",
        "    (AE.layers[1], AE.layers[1].get_weights())\n",
        ")\n",
        "\n",
        "# update training data\n",
        "x_train_temp = encoder.predict(x_train_temp, batch_size=batch_size)"
      ]
    },
    {
      "cell_type": "code",
      "execution_count": 23,
      "metadata": {
        "pycharm": {
          "name": "#%%\n"
        },
        "id": "Hqx2sDNH6-dr",
        "colab": {
          "base_uri": "https://localhost:8080/"
        },
        "outputId": "a1c02c17-a94a-490e-859d-0bfcb7faefa1"
      },
      "outputs": [
        {
          "output_type": "execute_result",
          "data": {
            "text/plain": [
              "(35040, 35)"
            ]
          },
          "metadata": {},
          "execution_count": 23
        }
      ],
      "source": [
        "x_train_temp.shape"
      ]
    },
    {
      "cell_type": "code",
      "execution_count": 24,
      "metadata": {
        "pycharm": {
          "name": "#%%\n"
        },
        "id": "Cv7Ynkhq6-ds"
      },
      "outputs": [],
      "source": [
        "# reshape encoded input to 3D\n",
        "inputs = Input(shape = (x_train_temp.shape[1],)) \n",
        "reshape = RepeatVector(timesteps)(inputs)\n",
        "Repeat = Model(inputs,reshape)\n",
        "\n",
        "x_train_temp = Repeat.predict(x_train_temp, batch_size=batch_size)"
      ]
    },
    {
      "cell_type": "code",
      "execution_count": 25,
      "metadata": {
        "pycharm": {
          "name": "#%%\n"
        },
        "id": "afYmpVNq6-ds",
        "colab": {
          "base_uri": "https://localhost:8080/"
        },
        "outputId": "ef4e2790-a8b7-44f8-8e57-d728d115a13d"
      },
      "outputs": [
        {
          "output_type": "execute_result",
          "data": {
            "text/plain": [
              "(35040, 25, 35)"
            ]
          },
          "metadata": {},
          "execution_count": 25
        }
      ],
      "source": [
        "x_train_temp.shape"
      ]
    },
    {
      "cell_type": "code",
      "execution_count": 26,
      "metadata": {
        "pycharm": {
          "name": "#%%\n"
        },
        "id": "72Ob2Dmy6-dt",
        "colab": {
          "base_uri": "https://localhost:8080/"
        },
        "outputId": "012f6bdf-6f6b-4709-f308-ce49de938c6d"
      },
      "outputs": [
        {
          "output_type": "stream",
          "name": "stdout",
          "text": [
            ">> 2 LAYERS\n"
          ]
        }
      ],
      "source": [
        "print('>> 2 LAYERS')\n",
        "hidden = hidden_layers[1]\n",
        "epochs = epochs_pre[1]"
      ]
    },
    {
      "cell_type": "code",
      "execution_count": 27,
      "metadata": {
        "pycharm": {
          "name": "#%%\n"
        },
        "id": "9Q1tKx5t6-dt",
        "colab": {
          "base_uri": "https://localhost:8080/"
        },
        "outputId": "e4f8b3c6-c899-4d70-b087-ca9daba29afe"
      },
      "outputs": [
        {
          "output_type": "stream",
          "name": "stdout",
          "text": [
            "pretrain Autoencoder: 1 ----> Encoder: 49 ----> Epochs: 1\n",
            "(35040, 25, 35)\n",
            "=============================================================\n",
            "Model: \"model_6\"\n",
            "_________________________________________________________________\n",
            "Layer (type)                 Output Shape              Param #   \n",
            "=================================================================\n",
            "input_4 (InputLayer)         (219, 25, 35)             0         \n",
            "_________________________________________________________________\n",
            "lstm_5 (LSTM)                (219, 49)                 16660     \n",
            "_________________________________________________________________\n",
            "repeat_vector_3 (RepeatVecto (219, 25, 49)             0         \n",
            "_________________________________________________________________\n",
            "lstm_6 (LSTM)                (219, 25, 8)              1856      \n",
            "=================================================================\n",
            "Total params: 18,516\n",
            "Trainable params: 18,516\n",
            "Non-trainable params: 0\n",
            "_________________________________________________________________\n"
          ]
        }
      ],
      "source": [
        "print(f'pretrain Autoencoder: {1} ----> Encoder: {hidden} ----> Epochs: {epochs}')\n",
        "print(x_train_temp.shape)\n",
        "print('=============================================================')\n",
        "\n",
        "inputs = Input(\n",
        "    # (219, 25, 35)\n",
        "    batch_shape=(batch_size, timesteps, x_train_temp.shape[2]))\n",
        "encoded = LSTM(\n",
        "    hidden, # 49\n",
        "    batch_input_shape=(batch_size, timesteps, x_train_temp.shape[2]),\n",
        "    stateful = False)(inputs)\n",
        "decoded = RepeatVector(timesteps)(encoded) \n",
        "decoded = LSTM(input_dim, stateful=False, return_sequences=True)(decoded)\n",
        "\n",
        "AE = Model(inputs, decoded)\n",
        "\n",
        "encoder = Model(inputs,encoded)\n",
        "\n",
        "AE.compile(loss='mean_squared_error', optimizer='Adam')\n",
        "\n",
        "encoder.compile(loss='mean_squared_error', optimizer='Adam')\n",
        "\n",
        "AE.summary()"
      ]
    },
    {
      "cell_type": "code",
      "execution_count": 28,
      "metadata": {
        "scrolled": true,
        "pycharm": {
          "name": "#%%\n"
        },
        "id": "8Ajpqfi-6-dt",
        "colab": {
          "base_uri": "https://localhost:8080/"
        },
        "outputId": "dec4e576-259a-47e1-bbc2-c48d862ead59"
      },
      "outputs": [
        {
          "output_type": "stream",
          "name": "stdout",
          "text": [
            "Epoch 1/1\n",
            "35040/35040 [==============================] - 16s 464us/step - loss: 0.0506\n"
          ]
        },
        {
          "output_type": "execute_result",
          "data": {
            "text/plain": [
              "<keras.callbacks.callbacks.History at 0x7fc7906e3d50>"
            ]
          },
          "metadata": {},
          "execution_count": 28
        }
      ],
      "source": [
        "AE.fit(\n",
        "    x_train_temp, \n",
        "    x_train,\n",
        "    epochs=epochs,\n",
        "    batch_size=batch_size,\n",
        "    shuffle=True,\n",
        "    verbose=1\n",
        ")"
      ]
    },
    {
      "cell_type": "code",
      "execution_count": 29,
      "metadata": {
        "pycharm": {
          "name": "#%%\n"
        },
        "id": "8FphAUX76-du"
      },
      "outputs": [],
      "source": [
        "# store trained encoder and its weights\n",
        "trained_encoder.append(\n",
        "    (AE.layers[1], AE.layers[1].get_weights())\n",
        ")\n",
        "\n",
        "# update training data\n",
        "x_train_temp = encoder.predict(x_train_temp, batch_size=batch_size)"
      ]
    },
    {
      "cell_type": "code",
      "execution_count": 30,
      "metadata": {
        "pycharm": {
          "name": "#%%\n"
        },
        "id": "U1IRBEhP6-du",
        "colab": {
          "base_uri": "https://localhost:8080/"
        },
        "outputId": "8bebe58a-8b37-4e67-9405-173452f0b07f"
      },
      "outputs": [
        {
          "output_type": "execute_result",
          "data": {
            "text/plain": [
              "(35040, 49)"
            ]
          },
          "metadata": {},
          "execution_count": 30
        }
      ],
      "source": [
        "x_train_temp.shape"
      ]
    },
    {
      "cell_type": "code",
      "execution_count": 31,
      "metadata": {
        "pycharm": {
          "name": "#%%\n"
        },
        "id": "Uq-WNJpQ6-du"
      },
      "outputs": [],
      "source": [
        "# reshape encoded input to 3D\n",
        "inputs = Input(shape = (x_train_temp.shape[1],)) \n",
        "reshape = RepeatVector(timesteps)(inputs)\n",
        "Repeat = Model(inputs,reshape)\n",
        "\n",
        "x_train_temp = Repeat.predict(x_train_temp, batch_size=batch_size)"
      ]
    },
    {
      "cell_type": "code",
      "execution_count": 32,
      "metadata": {
        "pycharm": {
          "name": "#%%\n"
        },
        "id": "AHHhnYzC6-dv",
        "colab": {
          "base_uri": "https://localhost:8080/"
        },
        "outputId": "931e4791-adb5-489c-e8c8-4ee138a3d41f"
      },
      "outputs": [
        {
          "output_type": "execute_result",
          "data": {
            "text/plain": [
              "(35040, 25, 49)"
            ]
          },
          "metadata": {},
          "execution_count": 32
        }
      ],
      "source": [
        "x_train_temp.shape"
      ]
    },
    {
      "cell_type": "code",
      "execution_count": 33,
      "metadata": {
        "pycharm": {
          "name": "#%%\n"
        },
        "id": "KpZw-gYM6-dv",
        "colab": {
          "base_uri": "https://localhost:8080/"
        },
        "outputId": "6d57e832-d8aa-4467-d63e-1eeb015f5e64"
      },
      "outputs": [
        {
          "output_type": "stream",
          "name": "stdout",
          "text": [
            ">> 3 LAYERS\n"
          ]
        }
      ],
      "source": [
        "print('>> 3 LAYERS')\n",
        "hidden = hidden_layers[2]\n",
        "epochs = epochs_pre[2]"
      ]
    },
    {
      "cell_type": "code",
      "execution_count": 34,
      "metadata": {
        "pycharm": {
          "name": "#%%\n"
        },
        "id": "ypqHQcSH6-dv",
        "colab": {
          "base_uri": "https://localhost:8080/"
        },
        "outputId": "f998e81b-4d29-47e0-e990-b09d5141565c"
      },
      "outputs": [
        {
          "output_type": "stream",
          "name": "stdout",
          "text": [
            "pretrain Autoencoder: 2 ----> Encoder: 4 ----> Epochs: 1\n",
            "(35040, 25, 49)\n",
            "=============================================================\n",
            "Model: \"model_9\"\n",
            "_________________________________________________________________\n",
            "Layer (type)                 Output Shape              Param #   \n",
            "=================================================================\n",
            "input_6 (InputLayer)         (219, 25, 49)             0         \n",
            "_________________________________________________________________\n",
            "lstm_7 (LSTM)                (219, 4)                  864       \n",
            "_________________________________________________________________\n",
            "repeat_vector_5 (RepeatVecto (219, 25, 4)              0         \n",
            "_________________________________________________________________\n",
            "lstm_8 (LSTM)                (219, 25, 8)              416       \n",
            "=================================================================\n",
            "Total params: 1,280\n",
            "Trainable params: 1,280\n",
            "Non-trainable params: 0\n",
            "_________________________________________________________________\n"
          ]
        }
      ],
      "source": [
        "print(f'pretrain Autoencoder: {2} ----> Encoder: {hidden} ----> Epochs: {epochs}')\n",
        "print(x_train_temp.shape)\n",
        "print('=============================================================')\n",
        "\n",
        "inputs = Input(\n",
        "    # (219, 25, 49)\n",
        "    batch_shape=(batch_size, timesteps, x_train_temp.shape[2]))\n",
        "encoded = LSTM(\n",
        "    hidden, # 4\n",
        "    batch_input_shape=(batch_size, timesteps, x_train_temp.shape[2]),\n",
        "    stateful = False)(inputs)\n",
        "decoded = RepeatVector(timesteps)(encoded) \n",
        "decoded = LSTM(input_dim, stateful=False, return_sequences=True)(decoded)\n",
        "\n",
        "AE = Model(inputs, decoded)\n",
        "\n",
        "encoder = Model(inputs,encoded)\n",
        "\n",
        "AE.compile(loss='mean_squared_error', optimizer='Adam')\n",
        "\n",
        "encoder.compile(loss='mean_squared_error', optimizer='Adam')\n",
        "\n",
        "AE.summary()"
      ]
    },
    {
      "cell_type": "code",
      "execution_count": 35,
      "metadata": {
        "scrolled": true,
        "pycharm": {
          "name": "#%%\n"
        },
        "id": "sGKBAN856-dv",
        "colab": {
          "base_uri": "https://localhost:8080/"
        },
        "outputId": "a443f2db-b2f4-48fc-e049-954d7b9fea78"
      },
      "outputs": [
        {
          "output_type": "stream",
          "name": "stdout",
          "text": [
            "Epoch 1/1\n",
            "35040/35040 [==============================] - 6s 168us/step - loss: 0.1191\n"
          ]
        },
        {
          "output_type": "execute_result",
          "data": {
            "text/plain": [
              "<keras.callbacks.callbacks.History at 0x7fc78f86a650>"
            ]
          },
          "metadata": {},
          "execution_count": 35
        }
      ],
      "source": [
        "AE.fit(\n",
        "    x_train_temp, \n",
        "    x_train,\n",
        "    epochs=epochs,\n",
        "    batch_size=batch_size,\n",
        "    shuffle=True,\n",
        "    verbose=1\n",
        ")"
      ]
    },
    {
      "cell_type": "code",
      "execution_count": 36,
      "metadata": {
        "pycharm": {
          "name": "#%%\n"
        },
        "id": "mTh5qUam6-e4"
      },
      "outputs": [],
      "source": [
        "# store trained encoder and its weights\n",
        "trained_encoder.append(\n",
        "    (AE.layers[1], AE.layers[1].get_weights())\n",
        ")\n",
        "\n",
        "# update training data\n",
        "x_train_temp = encoder.predict(x_train_temp, batch_size=batch_size)"
      ]
    },
    {
      "cell_type": "code",
      "execution_count": 37,
      "metadata": {
        "pycharm": {
          "name": "#%%\n"
        },
        "id": "us9Vf37x6-e6",
        "colab": {
          "base_uri": "https://localhost:8080/"
        },
        "outputId": "6fbca301-ad0f-4528-8ce1-ba9da929d02a"
      },
      "outputs": [
        {
          "output_type": "execute_result",
          "data": {
            "text/plain": [
              "(35040, 4)"
            ]
          },
          "metadata": {},
          "execution_count": 37
        }
      ],
      "source": [
        "x_train_temp.shape"
      ]
    },
    {
      "cell_type": "code",
      "execution_count": 38,
      "metadata": {
        "pycharm": {
          "name": "#%%\n"
        },
        "id": "CkJI3YgB6-e6"
      },
      "outputs": [],
      "source": [
        "# reshape encoded input to 3D\n",
        "inputs = Input(shape = (x_train_temp.shape[1],)) \n",
        "reshape = RepeatVector(timesteps)(inputs)\n",
        "Repeat = Model(inputs,reshape)\n",
        "\n",
        "x_train_temp = Repeat.predict(x_train_temp, batch_size=batch_size)"
      ]
    },
    {
      "cell_type": "code",
      "execution_count": 39,
      "metadata": {
        "pycharm": {
          "name": "#%%\n"
        },
        "id": "NDu-4lwx6-e6",
        "colab": {
          "base_uri": "https://localhost:8080/"
        },
        "outputId": "510817e9-8809-405f-c88d-14fdee715681"
      },
      "outputs": [
        {
          "output_type": "execute_result",
          "data": {
            "text/plain": [
              "(35040, 25, 4)"
            ]
          },
          "metadata": {},
          "execution_count": 39
        }
      ],
      "source": [
        "x_train_temp.shape"
      ]
    },
    {
      "cell_type": "code",
      "execution_count": 40,
      "metadata": {
        "scrolled": true,
        "pycharm": {
          "name": "#%%\n"
        },
        "id": "9vKRiQ7t6-e6",
        "colab": {
          "base_uri": "https://localhost:8080/"
        },
        "outputId": "4218d045-d51f-4db6-ab5d-9a7bed255a0f"
      },
      "outputs": [
        {
          "output_type": "stream",
          "name": "stdout",
          "text": [
            "\n",
            "Fine-turning\n",
            "============\n",
            "Epoch 1/1\n",
            "35040/35040 [==============================] - 12s 333us/step - loss: 0.0217\n"
          ]
        },
        {
          "output_type": "execute_result",
          "data": {
            "text/plain": [
              "<keras.callbacks.callbacks.History at 0x7fc78f0dd6d0>"
            ]
          },
          "metadata": {},
          "execution_count": 40
        }
      ],
      "source": [
        "# Fine-turning\n",
        "print('\\nFine-turning')\n",
        "print('============')\n",
        "\n",
        "l = len(trained_encoder)\n",
        "#build finetuning model\n",
        "model = Sequential()\n",
        "for i,encod in enumerate(trained_encoder):\n",
        "    model.add(encod[0])\n",
        "    model.layers[-1].set_weights(encod[1])\n",
        "    model.add(Dropout(dropout))\n",
        "    if(i+1 != l): model.add(RepeatVector(timesteps))\n",
        "\n",
        "model.add(Dense(1))\n",
        "\n",
        "model.compile(loss='mean_squared_error', optimizer='Adam')\n",
        "\n",
        "history = model.fit(\n",
        "    x_train, \n",
        "    y_train, \n",
        "    epochs=epochs_finetune, \n",
        "    batch_size=batch_size, \n",
        "    verbose=1,\n",
        "    shuffle=True\n",
        ")"
      ]
    },
    {
      "cell_type": "markdown",
      "source": [
        "# Lossの値の可視化"
      ],
      "metadata": {
        "id": "tVv6VjwjEKA2"
      }
    },
    {
      "cell_type": "code",
      "source": [
        "# Plot training & validation loss values\n",
        "plt.plot(history.history['loss'])\n",
        "# plt.plot(history.history['val_loss'])\n",
        "plt.title('Model loss')\n",
        "plt.ylabel('Loss')\n",
        "plt.xlabel('Epoch')\n",
        "plt.legend(['Train_loss', 'Test'], loc='upper left')\n",
        "plt.show()"
      ],
      "metadata": {
        "colab": {
          "base_uri": "https://localhost:8080/",
          "height": 295
        },
        "id": "QGVg4LqHDNoK",
        "outputId": "014fa68b-88d2-4b78-be5f-5ae3711fe8f2"
      },
      "execution_count": 51,
      "outputs": [
        {
          "output_type": "display_data",
          "data": {
            "text/plain": [
              "<Figure size 432x288 with 1 Axes>"
            ],
            "image/png": "[encoded data removed]"
          },
          "metadata": {
            "needs_background": "light"
          }
        }
      ]
    },
    {
      "cell_type": "code",
      "execution_count": 41,
      "metadata": {
        "pycharm": {
          "name": "#%%\n"
        },
        "id": "QN5Cl3C_6-fC"
      },
      "outputs": [],
      "source": [
        "# save trained model\n",
        "model.save('3layer_25.h5')\n",
        "\n",
        "# redefine the model in order to test with one sample at a time (batch_size = 1)\n",
        "new_model = Sequential()\n",
        "new_model.add(\n",
        "    LSTM(\n",
        "        hidden_layers[0],\n",
        "        batch_input_shape=(1, timesteps, input_dim),\n",
        "        stateful=False)\n",
        ")\n",
        "for layer in model.layers[1:]:\n",
        "    new_model.add(layer)\n",
        "\n",
        "# copy weights\n",
        "old_weights = model.get_weights()\n",
        "new_model.set_weights(old_weights)"
      ]
    },
    {
      "cell_type": "code",
      "execution_count": 42,
      "metadata": {
        "pycharm": {
          "name": "#%%\n"
        },
        "id": "C7RNfGQQ6-fC"
      },
      "outputs": [],
      "source": [
        "def smape(A, F):\n",
        "    return 100/len(A) * np.sum(np.abs(F - A) / (np.abs(A) + np.abs(F)))"
      ]
    },
    {
      "cell_type": "code",
      "execution_count": 43,
      "metadata": {
        "pycharm": {
          "name": "#%%\n"
        },
        "id": "3T5Nqzyg6-gL",
        "colab": {
          "base_uri": "https://localhost:8080/"
        },
        "outputId": "133e443d-2826-47e8-b048-79c3197b8506"
      },
      "outputs": [
        {
          "output_type": "stream",
          "name": "stdout",
          "text": [
            "Forecasting Training Data\n",
            "Train RMSE: 28.97813\n",
            "Train MAE: 15.58978\n",
            "Train SMAPE: 20.24908\n"
          ]
        }
      ],
      "source": [
        "# forecast the entire training dataset to build up state for forecasting\n",
        "print('Forecasting Training Data')   \n",
        "predictions_train = list()\n",
        "for i in range(len(y_train)):\n",
        "    # make one-step forecast\n",
        "    X = x_train[i]\n",
        "    y= y_train[i]\n",
        "    yhat = forecast_lstm(new_model, 1, X)\n",
        "    # invert scaling\n",
        "    yhat = invert_scale(scaler, X, yhat)\n",
        "    # invert differencing\n",
        "    yhat = inverse_difference(raw_values, yhat, len(raw_values)-i)\n",
        "    # store forecast\n",
        "    predictions_train.append(yhat)\n",
        "    expected = raw_values[:,0][ i+1 ] \n",
        "    #print('Month=%d, Predicted=%f, Expected=%f' % (i+1, yhat, expected))\n",
        "\n",
        "# report performance\n",
        "rmse_train = sqrt(mean_squared_error(raw_values[:,0][1:len(train_scaled)+1], predictions_train))\n",
        "print('Train RMSE: %.5f' % rmse_train)\n",
        "# #report performance using RMSPE\n",
        "# RMSPE_train = RMSPE(raw_values[:,0][1:len(train_scaled)+1],predictions_train)\n",
        "# print('Train RMSPE: %.5f' % RMSPE_train)\n",
        "MAE_train = mean_absolute_error(raw_values[:,0][1:len(train_scaled)+1], predictions_train)\n",
        "print('Train MAE: %.5f' % MAE_train)\n",
        "# MAPE_train = MAPE(raw_values[:,0][1:len(train_scaled)+1], predictions_train)\n",
        "# print('Train MAPE: %.5f' % MAPE_train)\n",
        "SMAPE_train = smape(raw_values[:,0][1:len(train_scaled)+1], predictions_train)\n",
        "print('Train SMAPE: %.5f' % SMAPE_train)"
      ]
    },
    {
      "cell_type": "code",
      "execution_count": 44,
      "metadata": {
        "pycharm": {
          "name": "#%%\n"
        },
        "id": "uCFeHH3q6-gM",
        "colab": {
          "base_uri": "https://localhost:8080/"
        },
        "outputId": "7a3e03c8-f676-4df5-c4e6-1d7c251e5ae5"
      },
      "outputs": [
        {
          "output_type": "stream",
          "name": "stdout",
          "text": [
            "Train SMAPE: 20.24908\n"
          ]
        }
      ],
      "source": [
        "SMAPE_train = smape(raw_values[:,0][1:len(train_scaled)+1], predictions_train)\n",
        "print('Train SMAPE: %.5f' % SMAPE_train)"
      ]
    },
    {
      "cell_type": "code",
      "execution_count": 45,
      "metadata": {
        "pycharm": {
          "name": "#%%\n"
        },
        "id": "VOUn9KFz6-gM",
        "colab": {
          "base_uri": "https://localhost:8080/"
        },
        "outputId": "3c8fde4e-efbf-42e8-e6ec-932dbecfd1b2"
      },
      "outputs": [
        {
          "output_type": "stream",
          "name": "stdout",
          "text": [
            "Forecasting Testing Data\n",
            "Test RMSE: 25.31777\n",
            "Test MAE: 14.60041\n",
            "Test SMAPE: 17.41272\n"
          ]
        }
      ],
      "source": [
        "# forecast the test data\n",
        "print('Forecasting Testing Data')\n",
        "predictions_test = list()\n",
        "for i in range(len(y_test)):\n",
        "    # make one-step forecast\n",
        "    X = x_test[i]\n",
        "    y= y_test[i]\n",
        "    yhat = forecast_lstm(new_model, 1, X)\n",
        "    # invert scaling\n",
        "    yhat = invert_scale(scaler, X, yhat)\n",
        "    # invert differencing\n",
        "    yhat = inverse_difference(raw_values, yhat, len(test_scaled)+1-i)\n",
        "    # store forecast\n",
        "    predictions_test.append(yhat)\n",
        "    expected = raw_values[:,0][len(train) + i + 1]\n",
        "    #print('Month=%d, Predicted=%f, Expected=%f' % (i+1, yhat, expected))\n",
        "\n",
        "# report performance using RMSE\n",
        "rmse_test = sqrt(mean_squared_error(raw_values[:,0][-len(test_scaled):], predictions_test))\n",
        "print('Test RMSE: %.5f' % rmse_test)\n",
        "#report performance using RMSPE\n",
        "# RMSPE_test = RMSPE(raw_values[:,0][-len(test_scaled):], predictions_test)\n",
        "# print('Test RMSPE: %.5f' % RMSPE_test)\n",
        "MAE_test = mean_absolute_error(raw_values[:,0][-len(test_scaled):], predictions_test)\n",
        "print('Test MAE: %.5f' % MAE_test)\n",
        "# MAPE_test = MAPE(raw_values[:,0][-len(test_scaled):], predictions_test)\n",
        "# print('Test MAPE: %.5f' % MAPE_test)\n",
        "SMAPE_test = smape(raw_values[:,0][-len(test_scaled):], predictions_test)\n",
        "print('Test SMAPE: %.5f' % SMAPE_test)"
      ]
    },
    {
      "cell_type": "code",
      "execution_count": 46,
      "metadata": {
        "pycharm": {
          "name": "#%%\n"
        },
        "id": "atq8bR136-gP",
        "colab": {
          "base_uri": "https://localhost:8080/",
          "height": 281
        },
        "outputId": "b015b12b-6204-4b2e-bd15-79c24d9d6228"
      },
      "outputs": [
        {
          "output_type": "display_data",
          "data": {
            "text/plain": [
              "<Figure size 432x288 with 1 Axes>"
            ],
            "image/png": "[encoded data removed]"
          },
          "metadata": {
            "needs_background": "light"
          }
        }
      ],
      "source": [
        "# line plot of observed vs predicted\n",
        "fig, ax = plt.subplots(1)\n",
        "ax.plot(raw_values[:,0][-80:],'mo-', label='original',linewidth = 2 )\n",
        "ax.plot(predictions_test[-80:] ,'co-', label='predictions',linewidth = 2)\n",
        "#ax.axvline(x=len(train_scaled)+1,color='k', linestyle='--')\n",
        "ax.legend(loc='upper right')\n",
        "ax.set_title('PM2.5 hourly concentration prediction from 28/12/2014 to 31/12/2014')\n",
        "ax.set_ylabel('PM2.5 concentration')\n",
        "plt.show()"
      ]
    },
    {
      "cell_type": "code",
      "execution_count": 46,
      "outputs": [],
      "source": [],
      "metadata": {
        "pycharm": {
          "name": "#%%\n"
        },
        "id": "5RH4u31d6-gQ"
      }
    }
  ],
  "metadata": {
    "kernelspec": {
      "display_name": "Python 3",
      "name": "python3"
    },
    "language_info": {
      "name": "python"
    },
    "colab": {
      "provenance": [],
      "collapsed_sections": [],
      "include_colab_link": true
    },
    "accelerator": "GPU"
  },
  "nbformat": 4,
  "nbformat_minor": 0
}