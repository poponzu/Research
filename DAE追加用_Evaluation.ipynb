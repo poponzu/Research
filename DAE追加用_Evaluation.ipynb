{
  "cells": [
    {
      "cell_type": "markdown",
      "metadata": {
        "id": "view-in-github",
        "colab_type": "text"
      },
      "source": [
        "<a href=\"https://colab.research.google.com/github/poponzu/Research/blob/master/DAE%E8%BF%BD%E5%8A%A0%E7%94%A8_Evaluation.ipynb\" target=\"_parent\"><img src=\"https://colab.research.google.com/assets/colab-badge.svg\" alt=\"Open In Colab\"/></a>"
      ]
    },
    {
      "cell_type": "code",
      "source": [
        "from google.colab import drive\n",
        "drive.mount('/content/drive')"
      ],
      "metadata": {
        "colab": {
          "base_uri": "https://localhost:8080/"
        },
        "id": "7NRw8vTQBo7I",
        "outputId": "3bac834f-ca0e-42c7-ae59-9d42b22d7cce"
      },
      "execution_count": 76,
      "outputs": [
        {
          "output_type": "stream",
          "name": "stdout",
          "text": [
            "Drive already mounted at /content/drive; to attempt to forcibly remount, call drive.mount(\"/content/drive\", force_remount=True).\n"
          ]
        }
      ]
    },
    {
      "cell_type": "code",
      "source": [
        "!pip install tensorflow==1.14.0"
      ],
      "metadata": {
        "colab": {
          "base_uri": "https://localhost:8080/"
        },
        "id": "Mxwo_iiE77ux",
        "outputId": "36e26d35-3a6a-4b13-d80e-6536dfd5d231"
      },
      "execution_count": 77,
      "outputs": [
        {
          "output_type": "stream",
          "name": "stdout",
          "text": [
            "Looking in indexes: https://pypi.org/simple, https://us-python.pkg.dev/colab-wheels/public/simple/\n",
            "Requirement already satisfied: tensorflow==1.14.0 in /usr/local/lib/python3.7/dist-packages (1.14.0)\n",
            "Requirement already satisfied: google-pasta>=0.1.6 in /usr/local/lib/python3.7/dist-packages (from tensorflow==1.14.0) (0.2.0)\n",
            "Requirement already satisfied: numpy<2.0,>=1.14.5 in /usr/local/lib/python3.7/dist-packages (from tensorflow==1.14.0) (1.21.6)\n",
            "Requirement already satisfied: six>=1.10.0 in /usr/local/lib/python3.7/dist-packages (from tensorflow==1.14.0) (1.15.0)\n",
            "Requirement already satisfied: protobuf>=3.6.1 in /usr/local/lib/python3.7/dist-packages (from tensorflow==1.14.0) (3.17.3)\n",
            "Requirement already satisfied: termcolor>=1.1.0 in /usr/local/lib/python3.7/dist-packages (from tensorflow==1.14.0) (2.0.1)\n",
            "Requirement already satisfied: wrapt>=1.11.1 in /usr/local/lib/python3.7/dist-packages (from tensorflow==1.14.0) (1.14.1)\n",
            "Requirement already satisfied: astor>=0.6.0 in /usr/local/lib/python3.7/dist-packages (from tensorflow==1.14.0) (0.8.1)\n",
            "Requirement already satisfied: keras-applications>=1.0.6 in /usr/local/lib/python3.7/dist-packages (from tensorflow==1.14.0) (1.0.8)\n",
            "Requirement already satisfied: absl-py>=0.7.0 in /usr/local/lib/python3.7/dist-packages (from tensorflow==1.14.0) (1.2.0)\n",
            "Requirement already satisfied: gast>=0.2.0 in /usr/local/lib/python3.7/dist-packages (from tensorflow==1.14.0) (0.4.0)\n",
            "Requirement already satisfied: grpcio>=1.8.6 in /usr/local/lib/python3.7/dist-packages (from tensorflow==1.14.0) (1.49.1)\n",
            "Requirement already satisfied: wheel>=0.26 in /usr/local/lib/python3.7/dist-packages (from tensorflow==1.14.0) (0.37.1)\n",
            "Requirement already satisfied: tensorboard<1.15.0,>=1.14.0 in /usr/local/lib/python3.7/dist-packages (from tensorflow==1.14.0) (1.14.0)\n",
            "Requirement already satisfied: tensorflow-estimator<1.15.0rc0,>=1.14.0rc0 in /usr/local/lib/python3.7/dist-packages (from tensorflow==1.14.0) (1.14.0)\n",
            "Requirement already satisfied: keras-preprocessing>=1.0.5 in /usr/local/lib/python3.7/dist-packages (from tensorflow==1.14.0) (1.1.2)\n",
            "Requirement already satisfied: h5py in /usr/local/lib/python3.7/dist-packages (from keras-applications>=1.0.6->tensorflow==1.14.0) (3.1.0)\n",
            "Requirement already satisfied: werkzeug>=0.11.15 in /usr/local/lib/python3.7/dist-packages (from tensorboard<1.15.0,>=1.14.0->tensorflow==1.14.0) (1.0.1)\n",
            "Requirement already satisfied: markdown>=2.6.8 in /usr/local/lib/python3.7/dist-packages (from tensorboard<1.15.0,>=1.14.0->tensorflow==1.14.0) (3.4.1)\n",
            "Requirement already satisfied: setuptools>=41.0.0 in /usr/local/lib/python3.7/dist-packages (from tensorboard<1.15.0,>=1.14.0->tensorflow==1.14.0) (57.4.0)\n",
            "Requirement already satisfied: importlib-metadata>=4.4 in /usr/local/lib/python3.7/dist-packages (from markdown>=2.6.8->tensorboard<1.15.0,>=1.14.0->tensorflow==1.14.0) (5.0.0)\n",
            "Requirement already satisfied: typing-extensions>=3.6.4 in /usr/local/lib/python3.7/dist-packages (from importlib-metadata>=4.4->markdown>=2.6.8->tensorboard<1.15.0,>=1.14.0->tensorflow==1.14.0) (4.1.1)\n",
            "Requirement already satisfied: zipp>=0.5 in /usr/local/lib/python3.7/dist-packages (from importlib-metadata>=4.4->markdown>=2.6.8->tensorboard<1.15.0,>=1.14.0->tensorflow==1.14.0) (3.9.0)\n",
            "Requirement already satisfied: cached-property in /usr/local/lib/python3.7/dist-packages (from h5py->keras-applications>=1.0.6->tensorflow==1.14.0) (1.5.2)\n"
          ]
        }
      ]
    },
    {
      "cell_type": "code",
      "source": [
        "!pip install keras==2.3.1"
      ],
      "metadata": {
        "colab": {
          "base_uri": "https://localhost:8080/"
        },
        "id": "9HdpfASf_vF4",
        "outputId": "1ebb92d3-029e-46f7-cc93-295c25e9d52b"
      },
      "execution_count": 78,
      "outputs": [
        {
          "output_type": "stream",
          "name": "stdout",
          "text": [
            "Looking in indexes: https://pypi.org/simple, https://us-python.pkg.dev/colab-wheels/public/simple/\n",
            "Requirement already satisfied: keras==2.3.1 in /usr/local/lib/python3.7/dist-packages (2.3.1)\n",
            "Requirement already satisfied: scipy>=0.14 in /usr/local/lib/python3.7/dist-packages (from keras==2.3.1) (1.7.3)\n",
            "Requirement already satisfied: numpy>=1.9.1 in /usr/local/lib/python3.7/dist-packages (from keras==2.3.1) (1.21.6)\n",
            "Requirement already satisfied: h5py in /usr/local/lib/python3.7/dist-packages (from keras==2.3.1) (3.1.0)\n",
            "Requirement already satisfied: keras-applications>=1.0.6 in /usr/local/lib/python3.7/dist-packages (from keras==2.3.1) (1.0.8)\n",
            "Requirement already satisfied: six>=1.9.0 in /usr/local/lib/python3.7/dist-packages (from keras==2.3.1) (1.15.0)\n",
            "Requirement already satisfied: keras-preprocessing>=1.0.5 in /usr/local/lib/python3.7/dist-packages (from keras==2.3.1) (1.1.2)\n",
            "Requirement already satisfied: pyyaml in /usr/local/lib/python3.7/dist-packages (from keras==2.3.1) (6.0)\n",
            "Requirement already satisfied: cached-property in /usr/local/lib/python3.7/dist-packages (from h5py->keras==2.3.1) (1.5.2)\n"
          ]
        }
      ]
    },
    {
      "cell_type": "code",
      "execution_count": 79,
      "metadata": {
        "pycharm": {
          "name": "#%%\n",
          "is_executing": true
        },
        "colab": {
          "base_uri": "https://localhost:8080/"
        },
        "id": "fdISxsrc6-b-",
        "outputId": "2be78156-305a-48c2-8e79-a46379b0d612"
      },
      "outputs": [
        {
          "output_type": "stream",
          "name": "stderr",
          "text": [
            "/usr/local/lib/python3.7/dist-packages/ipykernel_launcher.py:42: FutureWarning: The pandas.datetime class is deprecated and will be removed from pandas in a future version. Import from datetime module instead.\n"
          ]
        }
      ],
      "source": [
        "import numpy as np\n",
        "import tensorflow as tf\n",
        "import random as rn\n",
        "import numpy as np\n",
        "\n",
        "import os\n",
        "\n",
        "os.environ['PYTHONHASHSEED'] = '0'\n",
        "np.random.seed(42)\n",
        "rn.seed(12345)\n",
        "# import tensorflow as tf\n",
        "# print(tf.__version__)\n",
        "\n",
        "session_conf = tf.ConfigProto(\n",
        "    intra_op_parallelism_threads=1, inter_op_parallelism_threads=1\n",
        ")\n",
        "\n",
        "# session_conf = tf.compat.v1.ConfigProto(\n",
        "#     intra_op_parallelism_threads=1, inter_op_parallelism_threads=1\n",
        "# )\n",
        "\n",
        "from tensorflow import keras \n",
        "from keras import backend as K\n",
        "\n",
        "tf.set_random_seed(1234)\n",
        "# tf.random.set_seed(1234)\n",
        "sess = tf.Session(graph=tf.get_default_graph(), config=session_conf)\n",
        "K.set_session(sess)\n",
        "from sklearn.preprocessing import MinMaxScaler\n",
        "from sklearn.metrics import mean_squared_error\n",
        "from sklearn.metrics import mean_absolute_error\n",
        "from sklearn.preprocessing import LabelEncoder\n",
        "from hyperopt import fmin, tpe, hp, STATUS_OK, Trials\n",
        "from keras.layers import Input, Dense,LSTM,RepeatVector,GRU,Dropout,Reshape\n",
        "from keras.layers import*\n",
        "from keras.models import Model\n",
        "from keras.models import Sequential\n",
        "from pandas import DataFrame\n",
        "from pandas import Series\n",
        "from pandas import concat\n",
        "from pandas import read_csv\n",
        "from pandas import datetime\n",
        "import matplotlib.pyplot as plt\n",
        "from math import sqrt\n",
        "import random\n",
        "import warnings\n",
        "warnings.simplefilter(\"ignore\", DeprecationWarning)"
      ]
    },
    {
      "cell_type": "code",
      "execution_count": 80,
      "metadata": {
        "pycharm": {
          "name": "#%%\n"
        },
        "id": "Je41m3R16-cN"
      },
      "outputs": [],
      "source": [
        "def parser(x):\n",
        "\treturn datetime.strptime(x, '%Y-%m-%d %H:%M:%S')\n",
        "\n",
        "# create a differenced series\n",
        "def difference(dataset, interval=1):\n",
        "\tdiff = list()\n",
        "\tfor i in range(interval, len(dataset)):\n",
        "\t\tvalue = dataset[i] - dataset[i - interval]\n",
        "\t\tdiff.append(value)\n",
        "\treturn Series(diff)\n",
        "\n",
        "# invert differenced value\n",
        "def inverse_difference(history, yhat, interval=1):\n",
        "\treturn yhat + history[:,0][-interval]\n",
        "\n",
        "# scale train and test data to [-1, 1]\n",
        "def scale(train, test):\n",
        "\t# fit scaler\n",
        "\tscaler = MinMaxScaler(feature_range=(-1, 1))\n",
        "\tscaler = scaler.fit(train)\n",
        "\t# transform train\n",
        "\ttrain = train.reshape(train.shape[0], train.shape[1])\n",
        "\ttrain_scaled = scaler.transform(train)\n",
        "\t# transform test\n",
        "\ttest = test.reshape(test.shape[0], test.shape[1])\n",
        "\ttest_scaled = scaler.transform(test)\n",
        "\treturn scaler, train_scaled, test_scaled\n",
        "\n",
        "# inverse scaling for a forecasted value\n",
        "def invert_scale(scaler, X, value):\n",
        "\tnew_row = []\n",
        "\tfor x in X:\n",
        "   \t\t new_row = new_row+[i for i in x]\n",
        "            \n",
        "\tnew_row.append(value) \n",
        "\tnew_row_2 = np.array(new_row)\n",
        "\tnew_row_2 = new_row_2.reshape((1,new_row_2.shape[0]))\n",
        "\tinverted = scaler.inverse_transform(new_row_2)\n",
        "\treturn inverted[0, -1]\n",
        "\n",
        "\n",
        "def create_dataset(dataset,features, look_back=1):\n",
        "\tdataset = np.insert(dataset,[0]*look_back,0)    \n",
        "\tdataX, dataY = [], []\n",
        "\tfor i in range(len(dataset)-look_back):\n",
        "\t\ta = dataset[i:(i+look_back)]\n",
        "\t\tdataX.append(a)\n",
        "\t\tdataY.append(dataset[i + look_back])\n",
        "\tdataY= np.array(dataY)        \n",
        "\tdataY = np.reshape(dataY,(dataY.shape[0],features))\n",
        "\tdataset = np.concatenate((dataX,dataY),axis=1)  \n",
        "\treturn dataset\n",
        "\n",
        "\n",
        "\n",
        "# convert series to supervised learning\n",
        "def series_to_supervised(data,features, n_in=1, n_out=1, dropnan=True):\n",
        "\tn_vars = 1 if type(data) is list else data.shape[1]\n",
        "\tx = np.zeros(features, dtype=np.int)\n",
        "\tfor i in range(n_in):\n",
        "\t\tdata = np.insert(data,x,0)\n",
        "\tdata = data.reshape(int(data.shape[0]/features),features) \n",
        "\tdf = DataFrame(data)\n",
        "\tcols, names = list(), list()\n",
        "\t# input sequence (t-n, ... t-1)\n",
        "\tfor i in range(n_in, 0, -1):\n",
        "\t\tcols.append(df.shift(i))\n",
        "\t\tnames += [('var%d(t-%d)' % (j+1, i)) for j in range(n_vars)]\n",
        "\t# forecast sequence (t, t+1, ... t+n)\n",
        "\tfor i in range(0, n_out):\n",
        "\t\tcols.append(df.shift(-i))\n",
        "\t\tif i == 0:\n",
        "\t\t\tnames += [('var%d(t)' % (j+1)) for j in range(n_vars)]\n",
        "\t\telse:\n",
        "\t\t\tnames += [('var%d(t+%d)' % (j+1, i)) for j in range(n_vars)]\n",
        "\t# put it all together\n",
        "\tagg = concat(cols, axis=1)\n",
        "\tagg.columns = names\n",
        "\t# drop rows with NaN values\n",
        "\tif dropnan:\n",
        "\t\tagg.dropna(inplace=True)\n",
        "\treturn agg\n",
        "\n",
        "\n",
        "# make a one-step forecast\n",
        "def forecast_lstm(model, batch_size, X):\n",
        "\tX = X.reshape(batch_size, X.shape[0], X.shape[1])\n",
        "\tyhat = model.predict(X, batch_size=batch_size)\n",
        "\treturn yhat[0,0]\n",
        "\n",
        "\n",
        "# def read_data(): \n",
        "\n",
        "\t\n",
        "# \twindow_size = 0\n",
        "# \tfeatures = 8\n",
        "\n",
        "\n",
        "# \tseries = read_csv('pollution.csv', header=0, index_col=0)\t\n",
        "# \traw_values = series.values\n",
        "\n",
        "# \t# integer encode wind direction\n",
        "# \tencoder = LabelEncoder()\n",
        "# \traw_values[:,4] = encoder.fit_transform(raw_values[:,4])\n",
        "\n",
        "# \t# transform data to be stationary\n",
        "# \tdiff = difference(raw_values, 1)\n",
        "\n",
        "\n",
        "# \tdataset = diff.values\n",
        "# \tdataset = create_dataset(dataset,features,window_size)\n",
        "\n",
        "\n",
        "# \treturn dataset,raw_values"
      ]
    },
    {
      "cell_type": "code",
      "execution_count": 81,
      "metadata": {
        "pycharm": {
          "name": "#%%\n"
        },
        "id": "DMlZ22686-dN"
      },
      "outputs": [],
      "source": [
        "space = {'seq_len':hp.choice('seq_len',[5,10,15,20,25,30]),\n",
        "         'epochs_pre':hp.choice('epochs_pre',[i for i in range(50,1000)]),\n",
        "         'epochs_finetune':hp.choice('epochs_finetune',[i for i in range(50,500)]),\n",
        "         'units':hp.choice('units',[i for i in range(1,50)]),\n",
        "         'dropout':hp.choice('dropout',[0.1,0.2,0.3,0.4,0.5,0.6,0.7,0.8,0.9]),\n",
        "         'batch_size':hp.choice('batch_size',[73, 146, 219])}"
      ]
    },
    {
      "cell_type": "code",
      "execution_count": 82,
      "metadata": {
        "pycharm": {
          "name": "#%%\n"
        },
        "id": "74nA1eKU6-dN"
      },
      "outputs": [],
      "source": [
        "params = {'seq_len': 10,\n",
        "          'epochs_pre': 100,\n",
        "          'epochs_finetune': 50,\n",
        "          'units': 20,\n",
        "          'dropout': 0.2,\n",
        "          'batch_size': 73}"
      ]
    },
    {
      "cell_type": "code",
      "execution_count": 83,
      "metadata": {
        "pycharm": {
          "name": "#%%\n"
        },
        "id": "htV4ufGI6-dO"
      },
      "outputs": [],
      "source": [
        "hidden_layers = [35,49,4]\n",
        "batch_size = 219\n",
        "dropout = 0.2\n",
        "seq_len = 25\n",
        "epochs_pre  = [625,115,933]\n",
        "# デバッグ用\n",
        "epochs_pre  = [1,1,1]\n",
        "epochs_finetune = 197\n",
        "epochs_finetune = 1\n",
        "window_size = 0\n",
        "features = 8"
      ]
    },
    {
      "cell_type": "code",
      "source": [
        "series = read_csv('/content/drive/MyDrive/Colab Notebooks/jimang/pollution.csv', header=0, index_col=0)\n",
        "series.head()"
      ],
      "metadata": {
        "colab": {
          "base_uri": "https://localhost:8080/",
          "height": 237
        },
        "id": "efTRR0N8EiYM",
        "outputId": "cadc7df6-c4ed-48c4-b916-4f544b19dda4"
      },
      "execution_count": 84,
      "outputs": [
        {
          "output_type": "execute_result",
          "data": {
            "text/plain": [
              "                     pollution  dew  temp   press wnd_dir  wnd_spd  snow  rain\n",
              "date                                                                          \n",
              "2010-01-02 00:00:00        129  -16  -4.0  1020.0      SE     1.79     0     0\n",
              "2010-01-02 01:00:00        148  -15  -4.0  1020.0      SE     2.68     0     0\n",
              "2010-01-02 02:00:00        159  -11  -5.0  1021.0      SE     3.57     0     0\n",
              "2010-01-02 03:00:00        181   -7  -5.0  1022.0      SE     5.36     1     0\n",
              "2010-01-02 04:00:00        138   -7  -5.0  1022.0      SE     6.25     2     0"
            ],
            "text/html": [
              "\n",
              "  <div id=\"df-408f6bee-405d-47fd-9b7b-71102b0b6b93\">\n",
              "    <div class=\"colab-df-container\">\n",
              "      <div>\n",
              "<style scoped>\n",
              "    .dataframe tbody tr th:only-of-type {\n",
              "        vertical-align: middle;\n",
              "    }\n",
              "\n",
              "    .dataframe tbody tr th {\n",
              "        vertical-align: top;\n",
              "    }\n",
              "\n",
              "    .dataframe thead th {\n",
              "        text-align: right;\n",
              "    }\n",
              "</style>\n",
              "<table border=\"1\" class=\"dataframe\">\n",
              "  <thead>\n",
              "    <tr style=\"text-align: right;\">\n",
              "      <th></th>\n",
              "      <th>pollution</th>\n",
              "      <th>dew</th>\n",
              "      <th>temp</th>\n",
              "      <th>press</th>\n",
              "      <th>wnd_dir</th>\n",
              "      <th>wnd_spd</th>\n",
              "      <th>snow</th>\n",
              "      <th>rain</th>\n",
              "    </tr>\n",
              "    <tr>\n",
              "      <th>date</th>\n",
              "      <th></th>\n",
              "      <th></th>\n",
              "      <th></th>\n",
              "      <th></th>\n",
              "      <th></th>\n",
              "      <th></th>\n",
              "      <th></th>\n",
              "      <th></th>\n",
              "    </tr>\n",
              "  </thead>\n",
              "  <tbody>\n",
              "    <tr>\n",
              "      <th>2010-01-02 00:00:00</th>\n",
              "      <td>129</td>\n",
              "      <td>-16</td>\n",
              "      <td>-4.0</td>\n",
              "      <td>1020.0</td>\n",
              "      <td>SE</td>\n",
              "      <td>1.79</td>\n",
              "      <td>0</td>\n",
              "      <td>0</td>\n",
              "    </tr>\n",
              "    <tr>\n",
              "      <th>2010-01-02 01:00:00</th>\n",
              "      <td>148</td>\n",
              "      <td>-15</td>\n",
              "      <td>-4.0</td>\n",
              "      <td>1020.0</td>\n",
              "      <td>SE</td>\n",
              "      <td>2.68</td>\n",
              "      <td>0</td>\n",
              "      <td>0</td>\n",
              "    </tr>\n",
              "    <tr>\n",
              "      <th>2010-01-02 02:00:00</th>\n",
              "      <td>159</td>\n",
              "      <td>-11</td>\n",
              "      <td>-5.0</td>\n",
              "      <td>1021.0</td>\n",
              "      <td>SE</td>\n",
              "      <td>3.57</td>\n",
              "      <td>0</td>\n",
              "      <td>0</td>\n",
              "    </tr>\n",
              "    <tr>\n",
              "      <th>2010-01-02 03:00:00</th>\n",
              "      <td>181</td>\n",
              "      <td>-7</td>\n",
              "      <td>-5.0</td>\n",
              "      <td>1022.0</td>\n",
              "      <td>SE</td>\n",
              "      <td>5.36</td>\n",
              "      <td>1</td>\n",
              "      <td>0</td>\n",
              "    </tr>\n",
              "    <tr>\n",
              "      <th>2010-01-02 04:00:00</th>\n",
              "      <td>138</td>\n",
              "      <td>-7</td>\n",
              "      <td>-5.0</td>\n",
              "      <td>1022.0</td>\n",
              "      <td>SE</td>\n",
              "      <td>6.25</td>\n",
              "      <td>2</td>\n",
              "      <td>0</td>\n",
              "    </tr>\n",
              "  </tbody>\n",
              "</table>\n",
              "</div>\n",
              "      <button class=\"colab-df-convert\" onclick=\"convertToInteractive('df-408f6bee-405d-47fd-9b7b-71102b0b6b93')\"\n",
              "              title=\"Convert this dataframe to an interactive table.\"\n",
              "              style=\"display:none;\">\n",
              "        \n",
              "  <svg xmlns=\"http://www.w3.org/2000/svg\" height=\"24px\"viewBox=\"0 0 24 24\"\n",
              "       width=\"24px\">\n",
              "    <path d=\"M0 0h24v24H0V0z\" fill=\"none\"/>\n",
              "    <path d=\"M18.56 5.44l.94 2.06.94-2.06 2.06-.94-2.06-.94-.94-2.06-.94 2.06-2.06.94zm-11 1L8.5 8.5l.94-2.06 2.06-.94-2.06-.94L8.5 2.5l-.94 2.06-2.06.94zm10 10l.94 2.06.94-2.06 2.06-.94-2.06-.94-.94-2.06-.94 2.06-2.06.94z\"/><path d=\"M17.41 7.96l-1.37-1.37c-.4-.4-.92-.59-1.43-.59-.52 0-1.04.2-1.43.59L10.3 9.45l-7.72 7.72c-.78.78-.78 2.05 0 2.83L4 21.41c.39.39.9.59 1.41.59.51 0 1.02-.2 1.41-.59l7.78-7.78 2.81-2.81c.8-.78.8-2.07 0-2.86zM5.41 20L4 18.59l7.72-7.72 1.47 1.35L5.41 20z\"/>\n",
              "  </svg>\n",
              "      </button>\n",
              "      \n",
              "  <style>\n",
              "    .colab-df-container {\n",
              "      display:flex;\n",
              "      flex-wrap:wrap;\n",
              "      gap: 12px;\n",
              "    }\n",
              "\n",
              "    .colab-df-convert {\n",
              "      background-color: #E8F0FE;\n",
              "      border: none;\n",
              "      border-radius: 50%;\n",
              "      cursor: pointer;\n",
              "      display: none;\n",
              "      fill: #1967D2;\n",
              "      height: 32px;\n",
              "      padding: 0 0 0 0;\n",
              "      width: 32px;\n",
              "    }\n",
              "\n",
              "    .colab-df-convert:hover {\n",
              "      background-color: #E2EBFA;\n",
              "      box-shadow: 0px 1px 2px rgba(60, 64, 67, 0.3), 0px 1px 3px 1px rgba(60, 64, 67, 0.15);\n",
              "      fill: #174EA6;\n",
              "    }\n",
              "\n",
              "    [theme=dark] .colab-df-convert {\n",
              "      background-color: #3B4455;\n",
              "      fill: #D2E3FC;\n",
              "    }\n",
              "\n",
              "    [theme=dark] .colab-df-convert:hover {\n",
              "      background-color: #434B5C;\n",
              "      box-shadow: 0px 1px 3px 1px rgba(0, 0, 0, 0.15);\n",
              "      filter: drop-shadow(0px 1px 2px rgba(0, 0, 0, 0.3));\n",
              "      fill: #FFFFFF;\n",
              "    }\n",
              "  </style>\n",
              "\n",
              "      <script>\n",
              "        const buttonEl =\n",
              "          document.querySelector('#df-408f6bee-405d-47fd-9b7b-71102b0b6b93 button.colab-df-convert');\n",
              "        buttonEl.style.display =\n",
              "          google.colab.kernel.accessAllowed ? 'block' : 'none';\n",
              "\n",
              "        async function convertToInteractive(key) {\n",
              "          const element = document.querySelector('#df-408f6bee-405d-47fd-9b7b-71102b0b6b93');\n",
              "          const dataTable =\n",
              "            await google.colab.kernel.invokeFunction('convertToInteractive',\n",
              "                                                     [key], {});\n",
              "          if (!dataTable) return;\n",
              "\n",
              "          const docLinkHtml = 'Like what you see? Visit the ' +\n",
              "            '<a target=\"_blank\" href=https://colab.research.google.com/notebooks/data_table.ipynb>data table notebook</a>'\n",
              "            + ' to learn more about interactive tables.';\n",
              "          element.innerHTML = '';\n",
              "          dataTable['output_type'] = 'display_data';\n",
              "          await google.colab.output.renderOutput(dataTable, element);\n",
              "          const docLink = document.createElement('div');\n",
              "          docLink.innerHTML = docLinkHtml;\n",
              "          element.appendChild(docLink);\n",
              "        }\n",
              "      </script>\n",
              "    </div>\n",
              "  </div>\n",
              "  "
            ]
          },
          "metadata": {},
          "execution_count": 84
        }
      ]
    },
    {
      "cell_type": "code",
      "execution_count": 85,
      "metadata": {
        "pycharm": {
          "name": "#%%\n"
        },
        "id": "0VsFIhFC6-dO"
      },
      "outputs": [],
      "source": [
        "series = read_csv('/content/drive/MyDrive/Colab Notebooks/jimang/pollution.csv', header=0, index_col=0)\n",
        "raw_values = series.values\n",
        "\n",
        "# integer encode wind direction\n",
        "encoder = LabelEncoder()\n",
        "raw_values[:,4] = encoder.fit_transform(raw_values[:,4])\n",
        "\n",
        "# transform data to be stationary\n",
        "diff = difference(raw_values, 1)\n",
        "\n",
        "\n",
        "dataset = diff.values\n",
        "dataset = create_dataset(dataset,features,window_size)"
      ]
    },
    {
      "cell_type": "code",
      "source": [
        "print(dataset)"
      ],
      "metadata": {
        "colab": {
          "base_uri": "https://localhost:8080/"
        },
        "id": "3YIRQGh7F6PV",
        "outputId": "0e27d482-c679-41af-f1a0-83dea87e7454"
      },
      "execution_count": 86,
      "outputs": [
        {
          "output_type": "stream",
          "name": "stdout",
          "text": [
            "[[19 1 0.0 ... 0.8900000000000001 0 0]\n",
            " [11 4 -1.0 ... 0.8899999999999997 0 0]\n",
            " [22 4 0.0 ... 1.7900000000000005 1 0]\n",
            " ...\n",
            " [0 0 0.0 ... 4.9199999999999875 0 0]\n",
            " [-2 0 -1.0 ... 4.02000000000001 0 0]\n",
            " [4 1 1.0 ... 3.1299999999999955 0 0]]\n"
          ]
        }
      ]
    },
    {
      "cell_type": "code",
      "execution_count": 87,
      "metadata": {
        "pycharm": {
          "name": "#%%\n"
        },
        "id": "HfdB-_hv6-dQ",
        "outputId": "e93a30b2-10cf-43da-964b-07e155629bf0",
        "colab": {
          "base_uri": "https://localhost:8080/"
        }
      },
      "outputs": [
        {
          "output_type": "stream",
          "name": "stdout",
          "text": [
            "(35040, 25, 8) (35040,) (8759, 25, 8) (8759,)\n"
          ]
        }
      ],
      "source": [
        "# frame as supervised learning\n",
        "reframed = series_to_supervised(dataset,features, seq_len, 1)\n",
        "drop = [i for  i in  range(seq_len*features+1,((seq_len+1)*features))]\n",
        "reframed.drop(reframed.columns[drop], axis=1, inplace=True)\n",
        "reframed = reframed.values\n",
        "\n",
        "# split into train and test sets\n",
        "train_size = 365*24*4\n",
        "train, test = reframed[0:train_size], reframed[train_size:]\n",
        "\n",
        "# transform the scale of the data\n",
        "scaler, train_scaled, test_scaled = scale(train, test)\n",
        "\n",
        "# split into input and outputs\n",
        "x_train,y_train = train_scaled[:,0:-1],train_scaled[:,-1]\n",
        "x_test,y_test = test_scaled[:,0:-1],test_scaled[:,-1]\n",
        "\n",
        "# reshape input to be 3D [samples, timesteps, features]\n",
        "x_train = x_train.reshape(x_train.shape[0],seq_len,features)\n",
        "x_test = x_test.reshape(x_test.shape[0],seq_len,features)\n",
        "\n",
        "print(x_train.shape, y_train.shape, x_test.shape, y_test.shape)"
      ]
    },
    {
      "cell_type": "markdown",
      "source": [
        "# 論文にはPM2.5のデータセットはトレーニング用に30,660、検証用に4380、そしてテスト用に8760件に分けたとのこと。\n",
        "# validationデータ追加"
      ],
      "metadata": {
        "id": "Y1HNbAwuGilE"
      }
    },
    {
      "cell_type": "code",
      "source": [
        "# frame as supervised learning\n",
        "reframed = series_to_supervised(dataset,features, seq_len, 1)\n",
        "drop = [i for  i in  range(seq_len*features+1,((seq_len+1)*features))]\n",
        "reframed.drop(reframed.columns[drop], axis=1, inplace=True)\n",
        "reframed = reframed.values\n",
        "\n",
        "# split into train and test sets\n",
        "train_size = 30660\n",
        "val_size = 4380\n",
        "test_size = 8760\n",
        "\n",
        "train, val = reframed[0:train_size], reframed[train_size:train_size+val_size]\n",
        "test = reframed[train_size+val_size:]\n",
        "\n",
        "# transform the scale of the data\n",
        "scaler, train_scaled, val_scaled = scale(train, val)\n",
        "scaler, train_scaled, test_scaled = scale(train, test)\n",
        "\n",
        "# split into input and outputs\n",
        "x_train,y_train = train_scaled[:,0:-1],train_scaled[:,-1]\n",
        "x_val, y_val = val_scaled[:,0:-1],val_scaled[:,-1]\n",
        "x_test,y_test = test_scaled[:,0:-1],test_scaled[:,-1]\n",
        "\n",
        "# reshape input to be 3D [samples, timesteps, features]\n",
        "x_train = x_train.reshape(x_train.shape[0],seq_len,features)\n",
        "x_val = x_val.reshape(x_val.shape[0],seq_len,features)\n",
        "x_test = x_test.reshape(x_test.shape[0],seq_len,features)\n",
        "\n",
        "print(x_train.shape, y_train.shape,x_val.shape, y_val.shape,x_test.shape, y_test.shape)"
      ],
      "metadata": {
        "colab": {
          "base_uri": "https://localhost:8080/"
        },
        "id": "oPDyDJ-LGyvL",
        "outputId": "7010bf39-1b10-4d13-ec49-483846916e19"
      },
      "execution_count": 88,
      "outputs": [
        {
          "output_type": "stream",
          "name": "stdout",
          "text": [
            "(30660, 25, 8) (30660,) (4380, 25, 8) (4380,) (8759, 25, 8) (8759,)\n"
          ]
        }
      ]
    },
    {
      "cell_type": "code",
      "execution_count": 89,
      "metadata": {
        "pycharm": {
          "name": "#%%\n"
        },
        "id": "L0XPf2vP6-dV",
        "outputId": "97cf490a-1332-4c10-df2d-2edd4a29d4f6",
        "colab": {
          "base_uri": "https://localhost:8080/"
        }
      },
      "outputs": [
        {
          "output_type": "stream",
          "name": "stdout",
          "text": [
            "\n",
            "start pretraining\n",
            "===============\n"
          ]
        }
      ],
      "source": [
        "print('\\nstart pretraining')\n",
        "print('===============')\n",
        "\n",
        "timesteps = x_train.shape[1]\n",
        "input_dim = x_train.shape[2]\n",
        "trained_encoder = []\n",
        "x_train_temp = x_train"
      ]
    },
    {
      "cell_type": "code",
      "source": [],
      "metadata": {
        "id": "ey9QHNvIBmHQ"
      },
      "execution_count": 89,
      "outputs": []
    },
    {
      "cell_type": "code",
      "execution_count": 90,
      "metadata": {
        "pycharm": {
          "name": "#%%\n"
        },
        "id": "hOn-xLEi6-dW",
        "outputId": "eb12efba-5043-4624-f151-8790f0be6cde",
        "colab": {
          "base_uri": "https://localhost:8080/"
        }
      },
      "outputs": [
        {
          "output_type": "stream",
          "name": "stdout",
          "text": [
            ">> 1 LAYERS\n"
          ]
        }
      ],
      "source": [
        "print('>> 1 LAYERS')\n",
        "hidden = hidden_layers[0]\n",
        "epochs = epochs_pre[0]\n"
      ]
    },
    {
      "cell_type": "code",
      "source": [
        "import tensorflow as tf\n",
        "print(tf.__version__)"
      ],
      "metadata": {
        "colab": {
          "base_uri": "https://localhost:8080/"
        },
        "id": "Q1Z3p9ZgDtXy",
        "outputId": "8d36e503-d999-404a-d773-c90c64d86321"
      },
      "execution_count": 91,
      "outputs": [
        {
          "output_type": "stream",
          "name": "stdout",
          "text": [
            "1.14.0\n"
          ]
        }
      ]
    },
    {
      "cell_type": "code",
      "execution_count": 92,
      "metadata": {
        "pycharm": {
          "name": "#%%\n"
        },
        "id": "iDEX_gvJ6-dX"
      },
      "outputs": [],
      "source": [
        "inputs = Input(batch_shape=(5, timesteps, x_train_temp.shape[2]))\n",
        "encoded1 = LSTM(\n",
        "    hidden, # 35\n",
        "    batch_input_shape=(5, timesteps, x_train_temp.shape[2]),\n",
        "    stateful=False)(inputs)\n",
        "encoded2 = LSTM(\n",
        "    hidden, # 35\n",
        "    batch_input_shape=(5, timesteps, x_train_temp.shape[2]),\n",
        "    stateful=True)(inputs)"
      ]
    },
    {
      "cell_type": "code",
      "execution_count": 93,
      "metadata": {
        "pycharm": {
          "name": "#%%\n"
        },
        "id": "5mbNbBQT6-dY"
      },
      "outputs": [],
      "source": [
        "ae1 = Model(inputs, encoded1)\n",
        "ae2 = Model(inputs, encoded2)"
      ]
    },
    {
      "cell_type": "code",
      "execution_count": 94,
      "metadata": {
        "pycharm": {
          "name": "#%%\n"
        },
        "id": "Wcz-5nHB6-db",
        "outputId": "60049fb3-4f17-40f1-98e2-e4b784fa1fad",
        "colab": {
          "base_uri": "https://localhost:8080/"
        }
      },
      "outputs": [
        {
          "output_type": "execute_result",
          "data": {
            "text/plain": [
              "array([[ 0.25834736,  0.04556986, -0.16819178, -0.15076211, -0.04636417,\n",
              "        -0.05681205,  0.04462088, -0.12166876,  0.23039207,  0.11585266,\n",
              "        -0.04802071,  0.28240436, -0.19591643, -0.24320899, -0.13537261,\n",
              "        -0.0928885 ,  0.20452426,  0.10199052,  0.11421486,  0.3057708 ,\n",
              "         0.04566206, -0.21825531,  0.10423727,  0.11251348, -0.03263811,\n",
              "        -0.02519069,  0.03084422,  0.07526544,  0.10128684, -0.24836975,\n",
              "        -0.00649066,  0.14892788, -0.29681593, -0.18718567, -0.12126818],\n",
              "       [ 0.260427  ,  0.04472234, -0.17095211, -0.15225191, -0.04752081,\n",
              "        -0.05633098,  0.04562952, -0.12216279,  0.23123561,  0.11827005,\n",
              "        -0.04858857,  0.28368732, -0.19589649, -0.24551916, -0.1360664 ,\n",
              "        -0.09447763,  0.20154485,  0.10296758,  0.11556982,  0.30577815,\n",
              "         0.04542454, -0.22110377,  0.10293055,  0.11258145, -0.03135569,\n",
              "        -0.02602114,  0.02787184,  0.07502163,  0.09935708, -0.2486042 ,\n",
              "        -0.00801667,  0.1480727 , -0.29834995, -0.18863492, -0.12085658],\n",
              "       [ 0.26284745,  0.04167051, -0.17967893, -0.1489788 , -0.04614656,\n",
              "        -0.06186724,  0.05323324, -0.12504241,  0.23678733,  0.12038681,\n",
              "        -0.06021108,  0.29400352, -0.18842696, -0.24949497, -0.13644719,\n",
              "        -0.09702144,  0.20270526,  0.09751214,  0.12570497,  0.3128738 ,\n",
              "         0.03856228, -0.2235719 ,  0.09628271,  0.11267723, -0.01686087,\n",
              "        -0.0397636 ,  0.02642806,  0.07984719,  0.08815309, -0.2584222 ,\n",
              "        -0.02162783,  0.14448127, -0.3115878 , -0.19266108, -0.12514374],\n",
              "       [ 0.2656637 ,  0.04096631, -0.18683088, -0.14627592, -0.04435772,\n",
              "        -0.06808107,  0.0611493 , -0.12505281,  0.24244821,  0.12372471,\n",
              "        -0.06467297,  0.30428416, -0.183063  , -0.25211197, -0.13816069,\n",
              "        -0.09635753,  0.20209366,  0.09394971,  0.13023704,  0.32906452,\n",
              "         0.03724907, -0.23173845,  0.09025424,  0.10969393, -0.00612581,\n",
              "        -0.05188275,  0.03228565,  0.08068396,  0.07841089, -0.27241233,\n",
              "        -0.02940429,  0.1482532 , -0.32230476, -0.1864707 , -0.12744941],\n",
              "       [ 0.26581886,  0.04156471, -0.18106274, -0.14956689, -0.04658709,\n",
              "        -0.06875252,  0.05984078, -0.12734829,  0.23845342,  0.12298772,\n",
              "        -0.05824523,  0.30131894, -0.18758501, -0.24852747, -0.13751833,\n",
              "        -0.09748895,  0.2049594 ,  0.09447584,  0.12415762,  0.3314331 ,\n",
              "         0.04258655, -0.23259033,  0.08867911,  0.10991582, -0.01954576,\n",
              "        -0.04848351,  0.03675072,  0.08016679,  0.0840897 , -0.2749895 ,\n",
              "        -0.02396417,  0.1520771 , -0.31610474, -0.18330392, -0.12601317]],\n",
              "      dtype=float32)"
            ]
          },
          "metadata": {},
          "execution_count": 94
        }
      ],
      "source": [
        "ae1.predict(x_train_temp[0:5])"
      ]
    },
    {
      "cell_type": "code",
      "execution_count": 95,
      "metadata": {
        "pycharm": {
          "name": "#%%\n"
        },
        "id": "1yyjTDKc6-dc",
        "colab": {
          "base_uri": "https://localhost:8080/"
        },
        "outputId": "080a5b9f-11f4-486a-9377-80e99dce5f2b"
      },
      "outputs": [
        {
          "output_type": "execute_result",
          "data": {
            "text/plain": [
              "array([[ 7.36578330e-02,  9.08287615e-02, -1.19508483e-01,\n",
              "         3.31405252e-02,  2.99641669e-01, -7.85488486e-02,\n",
              "        -7.44195729e-02,  3.31544310e-01, -2.65809774e-01,\n",
              "        -1.24132566e-01,  1.31265432e-01,  9.61057991e-02,\n",
              "        -2.19323069e-01, -1.27486184e-01,  1.90028036e-03,\n",
              "        -5.71898185e-02,  9.60161686e-02, -2.21904576e-01,\n",
              "        -1.96538284e-01,  1.22552954e-01,  1.51350349e-01,\n",
              "         5.98589778e-02,  2.71965470e-02, -2.42074907e-01,\n",
              "         9.21564922e-02,  6.73173815e-02,  1.71085298e-01,\n",
              "         1.83979422e-02, -2.41310578e-02, -5.21199107e-02,\n",
              "        -5.43504246e-02, -2.66858697e-01,  6.42151386e-02,\n",
              "        -1.51203005e-02, -1.70809731e-01],\n",
              "       [ 7.18078241e-02,  9.07338411e-02, -1.21220775e-01,\n",
              "         3.19269300e-02,  2.99623638e-01, -7.79555440e-02,\n",
              "        -7.51759782e-02,  3.33913535e-01, -2.67163098e-01,\n",
              "        -1.21644981e-01,  1.30789563e-01,  9.51659456e-02,\n",
              "        -2.18886554e-01, -1.26007959e-01,  6.77164135e-05,\n",
              "        -5.82240224e-02,  9.54337567e-02, -2.21132040e-01,\n",
              "        -1.98548555e-01,  1.20385438e-01,  1.53106511e-01,\n",
              "         6.12285063e-02,  2.74015144e-02, -2.43088081e-01,\n",
              "         9.17354375e-02,  7.13584200e-02,  1.72816843e-01,\n",
              "         1.95363183e-02, -2.52331123e-02, -5.36700971e-02,\n",
              "        -5.17238267e-02, -2.67118871e-01,  6.36467338e-02,\n",
              "        -1.44655788e-02, -1.70874551e-01],\n",
              "       [ 7.93096423e-02,  9.57730338e-02, -1.29676148e-01,\n",
              "         3.15128304e-02,  3.02704901e-01, -6.22847714e-02,\n",
              "        -7.71157071e-02,  3.42138469e-01, -2.62751430e-01,\n",
              "        -1.22622468e-01,  1.34239778e-01,  9.88024846e-02,\n",
              "        -2.10836008e-01, -1.26830906e-01, -1.57427154e-02,\n",
              "        -6.27337620e-02,  9.61395428e-02, -2.11376101e-01,\n",
              "        -2.12538213e-01,  1.11961700e-01,  1.54956385e-01,\n",
              "         7.01036006e-02,  3.37578468e-02, -2.39033446e-01,\n",
              "         8.08514208e-02,  8.23436528e-02,  1.89681783e-01,\n",
              "         2.41592415e-02, -2.15864666e-02, -6.04958534e-02,\n",
              "        -5.33066988e-02, -2.62221247e-01,  5.52789979e-02,\n",
              "        -1.00202858e-02, -1.75322503e-01],\n",
              "       [ 8.22968036e-02,  1.02564730e-01, -1.35658443e-01,\n",
              "         3.36636454e-02,  3.05703223e-01, -5.27377427e-02,\n",
              "        -8.13444778e-02,  3.49132091e-01, -2.63385534e-01,\n",
              "        -1.22668125e-01,  1.32474989e-01,  1.02962703e-01,\n",
              "        -2.02800632e-01, -1.30191132e-01, -2.61411462e-02,\n",
              "        -6.91047758e-02,  9.78271142e-02, -2.05474243e-01,\n",
              "        -2.24136084e-01,  1.04815021e-01,  1.52630910e-01,\n",
              "         7.24439248e-02,  3.79354283e-02, -2.45331600e-01,\n",
              "         7.54235163e-02,  9.06572044e-02,  2.00160712e-01,\n",
              "         2.55856011e-02, -1.79996677e-02, -6.70384169e-02,\n",
              "        -5.62255234e-02, -2.62696028e-01,  4.82701398e-02,\n",
              "         1.65241654e-03, -1.78736061e-01],\n",
              "       [ 8.16973597e-02,  1.01809837e-01, -1.32178679e-01,\n",
              "         3.60052064e-02,  3.05347383e-01, -6.03592023e-02,\n",
              "        -7.58915246e-02,  3.49875182e-01, -2.61225969e-01,\n",
              "        -1.26122132e-01,  1.29762307e-01,  9.95300040e-02,\n",
              "        -2.08897248e-01, -1.35104090e-01, -1.78703796e-02,\n",
              "        -6.49870634e-02,  1.00484125e-01, -2.10189223e-01,\n",
              "        -2.15670779e-01,  1.07863903e-01,  1.50781929e-01,\n",
              "         6.81976527e-02,  3.80439349e-02, -2.51424283e-01,\n",
              "         8.30475911e-02,  8.08131695e-02,  1.93745092e-01,\n",
              "         2.04964448e-02, -1.95922945e-02, -6.18215986e-02,\n",
              "        -5.89278750e-02, -2.71945387e-01,  5.12295105e-02,\n",
              "        -1.67858880e-03, -1.82964191e-01]], dtype=float32)"
            ]
          },
          "metadata": {},
          "execution_count": 95
        }
      ],
      "source": [
        "ae2.predict(x_train_temp[0:5])"
      ]
    },
    {
      "cell_type": "code",
      "execution_count": 95,
      "metadata": {
        "pycharm": {
          "name": "#%%\n"
        },
        "id": "p4GmHn_w6-dc"
      },
      "outputs": [],
      "source": []
    },
    {
      "cell_type": "code",
      "execution_count": 96,
      "metadata": {
        "pycharm": {
          "name": "#%%\n"
        },
        "id": "m5nL33IY6-dc",
        "colab": {
          "base_uri": "https://localhost:8080/"
        },
        "outputId": "5181e231-4cf1-40ce-b606-6ff37090760d"
      },
      "outputs": [
        {
          "output_type": "stream",
          "name": "stdout",
          "text": [
            "pretrain Autoencoder: 0 ----> Encoder: 35 ----> Epochs: 1\n",
            "(30660, 25, 8)\n",
            "=============================================================\n",
            "Model: \"model_14\"\n",
            "_________________________________________________________________\n",
            "Layer (type)                 Output Shape              Param #   \n",
            "=================================================================\n",
            "input_9 (InputLayer)         (219, 25, 8)              0         \n",
            "_________________________________________________________________\n",
            "lstm_12 (LSTM)               (219, 35)                 6160      \n",
            "_________________________________________________________________\n",
            "repeat_vector_9 (RepeatVecto (219, 25, 35)             0         \n",
            "_________________________________________________________________\n",
            "lstm_13 (LSTM)               (219, 25, 8)              1408      \n",
            "=================================================================\n",
            "Total params: 7,568\n",
            "Trainable params: 7,568\n",
            "Non-trainable params: 0\n",
            "_________________________________________________________________\n"
          ]
        }
      ],
      "source": [
        "print(f'pretrain Autoencoder: {0} ----> Encoder: {hidden} ----> Epochs: {epochs}')\n",
        "print(x_train_temp.shape)\n",
        "print('=============================================================')\n",
        "\n",
        "inputs = Input(\n",
        "    # (219, 25, 8)\n",
        "    batch_shape=(batch_size, timesteps, x_train_temp.shape[2]))\n",
        "encoded = LSTM(\n",
        "    hidden, # 35\n",
        "    batch_input_shape=(batch_size, timesteps, x_train_temp.shape[2]),\n",
        "    stateful = False)(inputs)\n",
        "decoded = RepeatVector(timesteps)(encoded) \n",
        "decoded = LSTM(input_dim, stateful=False, return_sequences=True)(decoded)\n",
        "\n",
        "AE = Model(inputs, decoded)\n",
        "\n",
        "encoder = Model(inputs,encoded)\n",
        "\n",
        "AE.compile(loss='mean_squared_error', optimizer='Adam')\n",
        "\n",
        "encoder.compile(loss='mean_squared_error', optimizer='Adam')\n",
        "\n",
        "AE.summary()"
      ]
    },
    {
      "cell_type": "code",
      "execution_count": 97,
      "metadata": {
        "scrolled": true,
        "pycharm": {
          "name": "#%%\n"
        },
        "id": "djA2__hV6-dd",
        "colab": {
          "base_uri": "https://localhost:8080/"
        },
        "outputId": "e1e9508d-f3f6-4808-a494-193dbf961efd"
      },
      "outputs": [
        {
          "output_type": "stream",
          "name": "stdout",
          "text": [
            "Epoch 1/1\n",
            "30660/30660 [==============================] - 6s 185us/step - loss: 0.0760\n"
          ]
        },
        {
          "output_type": "execute_result",
          "data": {
            "text/plain": [
              "<keras.callbacks.callbacks.History at 0x7fc78b34a710>"
            ]
          },
          "metadata": {},
          "execution_count": 97
        }
      ],
      "source": [
        "AE.fit(\n",
        "    x_train_temp, \n",
        "    x_train,\n",
        "    epochs=epochs,\n",
        "    batch_size=batch_size,\n",
        "    shuffle=True,\n",
        "    verbose=1\n",
        ")"
      ]
    },
    {
      "cell_type": "code",
      "execution_count": 98,
      "metadata": {
        "pycharm": {
          "name": "#%%\n"
        },
        "id": "fnOL0Jip6-dp"
      },
      "outputs": [],
      "source": [
        "# store trained encoder and its weights\n",
        "trained_encoder.append(\n",
        "    (AE.layers[1], AE.layers[1].get_weights())\n",
        ")\n",
        "\n",
        "# update training data\n",
        "x_train_temp = encoder.predict(x_train_temp, batch_size=batch_size)"
      ]
    },
    {
      "cell_type": "code",
      "execution_count": 99,
      "metadata": {
        "pycharm": {
          "name": "#%%\n"
        },
        "id": "Hqx2sDNH6-dr",
        "colab": {
          "base_uri": "https://localhost:8080/"
        },
        "outputId": "40a6aa6f-08aa-44db-b399-359f2dabc9f5"
      },
      "outputs": [
        {
          "output_type": "execute_result",
          "data": {
            "text/plain": [
              "(30660, 35)"
            ]
          },
          "metadata": {},
          "execution_count": 99
        }
      ],
      "source": [
        "x_train_temp.shape"
      ]
    },
    {
      "cell_type": "code",
      "execution_count": 100,
      "metadata": {
        "pycharm": {
          "name": "#%%\n"
        },
        "id": "Cv7Ynkhq6-ds"
      },
      "outputs": [],
      "source": [
        "# reshape encoded input to 3D\n",
        "inputs = Input(shape = (x_train_temp.shape[1],)) \n",
        "reshape = RepeatVector(timesteps)(inputs)\n",
        "Repeat = Model(inputs,reshape)\n",
        "\n",
        "x_train_temp = Repeat.predict(x_train_temp, batch_size=batch_size)"
      ]
    },
    {
      "cell_type": "code",
      "execution_count": 101,
      "metadata": {
        "pycharm": {
          "name": "#%%\n"
        },
        "id": "afYmpVNq6-ds",
        "colab": {
          "base_uri": "https://localhost:8080/"
        },
        "outputId": "2fba7cf7-bc30-446a-972a-1f5a22a2f152"
      },
      "outputs": [
        {
          "output_type": "execute_result",
          "data": {
            "text/plain": [
              "(30660, 25, 35)"
            ]
          },
          "metadata": {},
          "execution_count": 101
        }
      ],
      "source": [
        "x_train_temp.shape"
      ]
    },
    {
      "cell_type": "code",
      "execution_count": 102,
      "metadata": {
        "pycharm": {
          "name": "#%%\n"
        },
        "id": "72Ob2Dmy6-dt",
        "colab": {
          "base_uri": "https://localhost:8080/"
        },
        "outputId": "c4a893ad-c3ad-448d-c888-1e6872b6e4a8"
      },
      "outputs": [
        {
          "output_type": "stream",
          "name": "stdout",
          "text": [
            ">> 2 LAYERS\n"
          ]
        }
      ],
      "source": [
        "print('>> 2 LAYERS')\n",
        "hidden = hidden_layers[1]\n",
        "epochs = epochs_pre[1]"
      ]
    },
    {
      "cell_type": "code",
      "execution_count": 103,
      "metadata": {
        "pycharm": {
          "name": "#%%\n"
        },
        "id": "9Q1tKx5t6-dt",
        "colab": {
          "base_uri": "https://localhost:8080/"
        },
        "outputId": "4b2d8eac-fbb8-4a3a-de0f-da29db7f93de"
      },
      "outputs": [
        {
          "output_type": "stream",
          "name": "stdout",
          "text": [
            "pretrain Autoencoder: 1 ----> Encoder: 49 ----> Epochs: 1\n",
            "(30660, 25, 35)\n",
            "=============================================================\n",
            "Model: \"model_17\"\n",
            "_________________________________________________________________\n",
            "Layer (type)                 Output Shape              Param #   \n",
            "=================================================================\n",
            "input_11 (InputLayer)        (219, 25, 35)             0         \n",
            "_________________________________________________________________\n",
            "lstm_14 (LSTM)               (219, 49)                 16660     \n",
            "_________________________________________________________________\n",
            "repeat_vector_11 (RepeatVect (219, 25, 49)             0         \n",
            "_________________________________________________________________\n",
            "lstm_15 (LSTM)               (219, 25, 8)              1856      \n",
            "=================================================================\n",
            "Total params: 18,516\n",
            "Trainable params: 18,516\n",
            "Non-trainable params: 0\n",
            "_________________________________________________________________\n"
          ]
        }
      ],
      "source": [
        "print(f'pretrain Autoencoder: {1} ----> Encoder: {hidden} ----> Epochs: {epochs}')\n",
        "print(x_train_temp.shape)\n",
        "print('=============================================================')\n",
        "\n",
        "inputs = Input(\n",
        "    # (219, 25, 35)\n",
        "    batch_shape=(batch_size, timesteps, x_train_temp.shape[2]))\n",
        "encoded = LSTM(\n",
        "    hidden, # 49\n",
        "    batch_input_shape=(batch_size, timesteps, x_train_temp.shape[2]),\n",
        "    stateful = False)(inputs)\n",
        "decoded = RepeatVector(timesteps)(encoded) \n",
        "decoded = LSTM(input_dim, stateful=False, return_sequences=True)(decoded)\n",
        "\n",
        "AE = Model(inputs, decoded)\n",
        "\n",
        "encoder = Model(inputs,encoded)\n",
        "\n",
        "AE.compile(loss='mean_squared_error', optimizer='Adam')\n",
        "\n",
        "encoder.compile(loss='mean_squared_error', optimizer='Adam')\n",
        "\n",
        "AE.summary()"
      ]
    },
    {
      "cell_type": "code",
      "execution_count": 104,
      "metadata": {
        "scrolled": true,
        "pycharm": {
          "name": "#%%\n"
        },
        "id": "8Ajpqfi-6-dt",
        "colab": {
          "base_uri": "https://localhost:8080/"
        },
        "outputId": "6de2603f-0caa-4fba-ebf7-0c105895774a"
      },
      "outputs": [
        {
          "output_type": "stream",
          "name": "stdout",
          "text": [
            "Epoch 1/1\n",
            "30660/30660 [==============================] - 14s 447us/step - loss: 0.0455\n"
          ]
        },
        {
          "output_type": "execute_result",
          "data": {
            "text/plain": [
              "<keras.callbacks.callbacks.History at 0x7fc788a01f90>"
            ]
          },
          "metadata": {},
          "execution_count": 104
        }
      ],
      "source": [
        "AE.fit(\n",
        "    x_train_temp, \n",
        "    x_train,\n",
        "    epochs=epochs,\n",
        "    batch_size=batch_size,\n",
        "    shuffle=True,\n",
        "    verbose=1\n",
        ")"
      ]
    },
    {
      "cell_type": "code",
      "execution_count": 105,
      "metadata": {
        "pycharm": {
          "name": "#%%\n"
        },
        "id": "8FphAUX76-du"
      },
      "outputs": [],
      "source": [
        "# store trained encoder and its weights\n",
        "trained_encoder.append(\n",
        "    (AE.layers[1], AE.layers[1].get_weights())\n",
        ")\n",
        "\n",
        "# update training data\n",
        "x_train_temp = encoder.predict(x_train_temp, batch_size=batch_size)"
      ]
    },
    {
      "cell_type": "code",
      "execution_count": 106,
      "metadata": {
        "pycharm": {
          "name": "#%%\n"
        },
        "id": "U1IRBEhP6-du",
        "colab": {
          "base_uri": "https://localhost:8080/"
        },
        "outputId": "eb66c939-809c-4177-990c-4106abadb5a1"
      },
      "outputs": [
        {
          "output_type": "execute_result",
          "data": {
            "text/plain": [
              "(30660, 49)"
            ]
          },
          "metadata": {},
          "execution_count": 106
        }
      ],
      "source": [
        "x_train_temp.shape"
      ]
    },
    {
      "cell_type": "code",
      "execution_count": 107,
      "metadata": {
        "pycharm": {
          "name": "#%%\n"
        },
        "id": "Uq-WNJpQ6-du"
      },
      "outputs": [],
      "source": [
        "# reshape encoded input to 3D\n",
        "inputs = Input(shape = (x_train_temp.shape[1],)) \n",
        "reshape = RepeatVector(timesteps)(inputs)\n",
        "Repeat = Model(inputs,reshape)\n",
        "\n",
        "x_train_temp = Repeat.predict(x_train_temp, batch_size=batch_size)"
      ]
    },
    {
      "cell_type": "code",
      "execution_count": 108,
      "metadata": {
        "pycharm": {
          "name": "#%%\n"
        },
        "id": "AHHhnYzC6-dv",
        "colab": {
          "base_uri": "https://localhost:8080/"
        },
        "outputId": "f3fc9f0d-f511-4c55-de18-41e298c9b4e7"
      },
      "outputs": [
        {
          "output_type": "execute_result",
          "data": {
            "text/plain": [
              "(30660, 25, 49)"
            ]
          },
          "metadata": {},
          "execution_count": 108
        }
      ],
      "source": [
        "x_train_temp.shape"
      ]
    },
    {
      "cell_type": "code",
      "execution_count": 109,
      "metadata": {
        "pycharm": {
          "name": "#%%\n"
        },
        "id": "KpZw-gYM6-dv",
        "colab": {
          "base_uri": "https://localhost:8080/"
        },
        "outputId": "f78ab925-5050-47eb-e5f5-a03fcde3d3e9"
      },
      "outputs": [
        {
          "output_type": "stream",
          "name": "stdout",
          "text": [
            ">> 3 LAYERS\n"
          ]
        }
      ],
      "source": [
        "print('>> 3 LAYERS')\n",
        "hidden = hidden_layers[2]\n",
        "epochs = epochs_pre[2]"
      ]
    },
    {
      "cell_type": "code",
      "execution_count": 110,
      "metadata": {
        "pycharm": {
          "name": "#%%\n"
        },
        "id": "ypqHQcSH6-dv",
        "colab": {
          "base_uri": "https://localhost:8080/"
        },
        "outputId": "9ffc0899-aa5e-4756-c926-0919dac8441f"
      },
      "outputs": [
        {
          "output_type": "stream",
          "name": "stdout",
          "text": [
            "pretrain Autoencoder: 2 ----> Encoder: 4 ----> Epochs: 1\n",
            "(30660, 25, 49)\n",
            "=============================================================\n",
            "Model: \"model_20\"\n",
            "_________________________________________________________________\n",
            "Layer (type)                 Output Shape              Param #   \n",
            "=================================================================\n",
            "input_13 (InputLayer)        (219, 25, 49)             0         \n",
            "_________________________________________________________________\n",
            "lstm_16 (LSTM)               (219, 4)                  864       \n",
            "_________________________________________________________________\n",
            "repeat_vector_13 (RepeatVect (219, 25, 4)              0         \n",
            "_________________________________________________________________\n",
            "lstm_17 (LSTM)               (219, 25, 8)              416       \n",
            "=================================================================\n",
            "Total params: 1,280\n",
            "Trainable params: 1,280\n",
            "Non-trainable params: 0\n",
            "_________________________________________________________________\n"
          ]
        }
      ],
      "source": [
        "print(f'pretrain Autoencoder: {2} ----> Encoder: {hidden} ----> Epochs: {epochs}')\n",
        "print(x_train_temp.shape)\n",
        "print('=============================================================')\n",
        "\n",
        "inputs = Input(\n",
        "    # (219, 25, 49)\n",
        "    batch_shape=(batch_size, timesteps, x_train_temp.shape[2]))\n",
        "encoded = LSTM(\n",
        "    hidden, # 4\n",
        "    batch_input_shape=(batch_size, timesteps, x_train_temp.shape[2]),\n",
        "    stateful = False)(inputs)\n",
        "decoded = RepeatVector(timesteps)(encoded) \n",
        "decoded = LSTM(input_dim, stateful=False, return_sequences=True)(decoded)\n",
        "\n",
        "AE = Model(inputs, decoded)\n",
        "\n",
        "encoder = Model(inputs,encoded)\n",
        "\n",
        "AE.compile(loss='mean_squared_error', optimizer='Adam')\n",
        "\n",
        "encoder.compile(loss='mean_squared_error', optimizer='Adam')\n",
        "\n",
        "AE.summary()"
      ]
    },
    {
      "cell_type": "code",
      "execution_count": 111,
      "metadata": {
        "scrolled": true,
        "pycharm": {
          "name": "#%%\n"
        },
        "id": "sGKBAN856-dv",
        "colab": {
          "base_uri": "https://localhost:8080/"
        },
        "outputId": "0d018a5e-abdd-4ebb-e972-0e1a783d9bbb"
      },
      "outputs": [
        {
          "output_type": "stream",
          "name": "stdout",
          "text": [
            "Epoch 1/1\n",
            "30660/30660 [==============================] - 5s 158us/step - loss: 0.1643\n"
          ]
        },
        {
          "output_type": "execute_result",
          "data": {
            "text/plain": [
              "<keras.callbacks.callbacks.History at 0x7fc79630fe10>"
            ]
          },
          "metadata": {},
          "execution_count": 111
        }
      ],
      "source": [
        "AE.fit(\n",
        "    x_train_temp, \n",
        "    x_train,\n",
        "    epochs=epochs,\n",
        "    batch_size=batch_size,\n",
        "    shuffle=True,\n",
        "    verbose=1\n",
        ")"
      ]
    },
    {
      "cell_type": "code",
      "execution_count": 112,
      "metadata": {
        "pycharm": {
          "name": "#%%\n"
        },
        "id": "mTh5qUam6-e4"
      },
      "outputs": [],
      "source": [
        "# store trained encoder and its weights\n",
        "trained_encoder.append(\n",
        "    (AE.layers[1], AE.layers[1].get_weights())\n",
        ")\n",
        "\n",
        "# update training data\n",
        "x_train_temp = encoder.predict(x_train_temp, batch_size=batch_size)"
      ]
    },
    {
      "cell_type": "code",
      "execution_count": 113,
      "metadata": {
        "pycharm": {
          "name": "#%%\n"
        },
        "id": "us9Vf37x6-e6",
        "colab": {
          "base_uri": "https://localhost:8080/"
        },
        "outputId": "caa009c5-7006-49d5-abf9-ee43ac8a396f"
      },
      "outputs": [
        {
          "output_type": "execute_result",
          "data": {
            "text/plain": [
              "(30660, 4)"
            ]
          },
          "metadata": {},
          "execution_count": 113
        }
      ],
      "source": [
        "x_train_temp.shape"
      ]
    },
    {
      "cell_type": "code",
      "execution_count": 114,
      "metadata": {
        "pycharm": {
          "name": "#%%\n"
        },
        "id": "CkJI3YgB6-e6"
      },
      "outputs": [],
      "source": [
        "# reshape encoded input to 3D\n",
        "inputs = Input(shape = (x_train_temp.shape[1],)) \n",
        "reshape = RepeatVector(timesteps)(inputs)\n",
        "Repeat = Model(inputs,reshape)\n",
        "\n",
        "x_train_temp = Repeat.predict(x_train_temp, batch_size=batch_size)"
      ]
    },
    {
      "cell_type": "code",
      "execution_count": 115,
      "metadata": {
        "pycharm": {
          "name": "#%%\n"
        },
        "id": "NDu-4lwx6-e6",
        "colab": {
          "base_uri": "https://localhost:8080/"
        },
        "outputId": "a1399ad1-a550-426f-cdd2-930212ad7b5e"
      },
      "outputs": [
        {
          "output_type": "execute_result",
          "data": {
            "text/plain": [
              "(30660, 25, 4)"
            ]
          },
          "metadata": {},
          "execution_count": 115
        }
      ],
      "source": [
        "x_train_temp.shape"
      ]
    },
    {
      "cell_type": "code",
      "execution_count": 125,
      "metadata": {
        "scrolled": true,
        "pycharm": {
          "name": "#%%\n"
        },
        "id": "9vKRiQ7t6-e6",
        "colab": {
          "base_uri": "https://localhost:8080/"
        },
        "outputId": "ca28b557-1924-40df-8527-2d29faf5f8b8"
      },
      "outputs": [
        {
          "output_type": "stream",
          "name": "stdout",
          "text": [
            "\n",
            "Fine-turning\n",
            "============\n",
            "Train on 30660 samples, validate on 4380 samples\n",
            "Epoch 1/1\n",
            "30660/30660 [==============================] - 14s 451us/step - loss: 0.0225 - val_loss: 6.8033e-04\n"
          ]
        }
      ],
      "source": [
        "# Fine-turning\n",
        "print('\\nFine-turning')\n",
        "print('============')\n",
        "\n",
        "l = len(trained_encoder)\n",
        "#build finetuning model\n",
        "model = Sequential()\n",
        "for i,encod in enumerate(trained_encoder):\n",
        "    model.add(encod[0])\n",
        "    model.layers[-1].set_weights(encod[1])\n",
        "    model.add(Dropout(dropout))\n",
        "    if(i+1 != l): model.add(RepeatVector(timesteps))\n",
        "\n",
        "model.add(Dense(1))\n",
        "\n",
        "model.compile(loss='mean_squared_error', optimizer='Adam')\n",
        "\n",
        "history = model.fit(\n",
        "    x_train, \n",
        "    y_train, \n",
        "    validation_data=(x_val, y_val),\n",
        "    epochs=epochs_finetune, \n",
        "    batch_size=batch_size, \n",
        "    verbose=1,\n",
        "    shuffle=True\n",
        ")"
      ]
    },
    {
      "cell_type": "markdown",
      "source": [
        "# Lossの値の可視化"
      ],
      "metadata": {
        "id": "tVv6VjwjEKA2"
      }
    },
    {
      "cell_type": "code",
      "source": [
        "# Plot training & validation loss values\n",
        "plt.plot(history.history['loss'])\n",
        "# plt.plot(history.history['val_loss'])\n",
        "plt.title('Model loss')\n",
        "plt.ylabel('Loss')\n",
        "plt.xlabel('Epoch')\n",
        "plt.legend(['Train_loss', 'Test'], loc='upper left')\n",
        "plt.show()"
      ],
      "metadata": {
        "colab": {
          "base_uri": "https://localhost:8080/",
          "height": 295
        },
        "id": "QGVg4LqHDNoK",
        "outputId": "1a362fed-d662-4031-8886-e69658b14670"
      },
      "execution_count": 117,
      "outputs": [
        {
          "output_type": "display_data",
          "data": {
            "text/plain": [
              "<Figure size 432x288 with 1 Axes>"
            ],
            "image/png": "[encoded data removed]"
          },
          "metadata": {
            "needs_background": "light"
          }
        }
      ]
    },
    {
      "cell_type": "code",
      "execution_count": 118,
      "metadata": {
        "pycharm": {
          "name": "#%%\n"
        },
        "id": "QN5Cl3C_6-fC"
      },
      "outputs": [],
      "source": [
        "# save trained model\n",
        "model.save('3layer_25.h5')\n",
        "\n",
        "# redefine the model in order to test with one sample at a time (batch_size = 1)\n",
        "new_model = Sequential()\n",
        "new_model.add(\n",
        "    LSTM(\n",
        "        hidden_layers[0],\n",
        "        batch_input_shape=(1, timesteps, input_dim),\n",
        "        stateful=False)\n",
        ")\n",
        "for layer in model.layers[1:]:\n",
        "    new_model.add(layer)\n",
        "\n",
        "# copy weights\n",
        "old_weights = model.get_weights()\n",
        "new_model.set_weights(old_weights)"
      ]
    },
    {
      "cell_type": "code",
      "execution_count": 119,
      "metadata": {
        "pycharm": {
          "name": "#%%\n"
        },
        "id": "C7RNfGQQ6-fC"
      },
      "outputs": [],
      "source": [
        "def smape(A, F):\n",
        "    return 100/len(A) * np.sum(np.abs(F - A) / (np.abs(A) + np.abs(F)))"
      ]
    },
    {
      "cell_type": "code",
      "execution_count": 120,
      "metadata": {
        "pycharm": {
          "name": "#%%\n"
        },
        "id": "3T5Nqzyg6-gL",
        "colab": {
          "base_uri": "https://localhost:8080/"
        },
        "outputId": "9f55212c-aee6-4403-c3ad-1e3577f5f3d2"
      },
      "outputs": [
        {
          "output_type": "stream",
          "name": "stdout",
          "text": [
            "Forecasting Training Data\n",
            "Train RMSE: 34.24789\n",
            "Train MAE: 23.96830\n",
            "Train SMAPE: 37.31344\n"
          ]
        }
      ],
      "source": [
        "import tqdm\n",
        "\n",
        "# forecast the entire training dataset to build up state for forecasting\n",
        "print('Forecasting Training Data')   \n",
        "predictions_train = list()\n",
        "for i in tqdm.tqdm(range(len(y_train))):\n",
        "    # make one-step forecast\n",
        "    X = x_train[i]\n",
        "    y= y_train[i]\n",
        "    yhat = forecast_lstm(new_model, 1, X)\n",
        "    # invert scaling\n",
        "    yhat = invert_scale(scaler, X, yhat)\n",
        "    # invert differencing\n",
        "    yhat = inverse_difference(raw_values, yhat, len(raw_values)-i)\n",
        "    # store forecast\n",
        "    predictions_train.append(yhat)\n",
        "    expected = raw_values[:,0][ i+1 ] \n",
        "    #print('Month=%d, Predicted=%f, Expected=%f' % (i+1, yhat, expected))\n",
        "\n",
        "# report performance\n",
        "rmse_train = sqrt(mean_squared_error(raw_values[:,0][1:len(train_scaled)+1], predictions_train))\n",
        "print('Train RMSE: %.5f' % rmse_train)\n",
        "# #report performance using RMSPE\n",
        "# RMSPE_train = RMSPE(raw_values[:,0][1:len(train_scaled)+1],predictions_train)\n",
        "# print('Train RMSPE: %.5f' % RMSPE_train)\n",
        "MAE_train = mean_absolute_error(raw_values[:,0][1:len(train_scaled)+1], predictions_train)\n",
        "print('Train MAE: %.5f' % MAE_train)\n",
        "# MAPE_train = MAPE(raw_values[:,0][1:len(train_scaled)+1], predictions_train)\n",
        "# print('Train MAPE: %.5f' % MAPE_train)\n",
        "SMAPE_train = smape(raw_values[:,0][1:len(train_scaled)+1], predictions_train)\n",
        "print('Train SMAPE: %.5f' % SMAPE_train)"
      ]
    },
    {
      "cell_type": "code",
      "execution_count": 121,
      "metadata": {
        "pycharm": {
          "name": "#%%\n"
        },
        "id": "uCFeHH3q6-gM",
        "colab": {
          "base_uri": "https://localhost:8080/"
        },
        "outputId": "fbd2d250-3ca9-4fca-d08b-b5f77c92ad1f"
      },
      "outputs": [
        {
          "output_type": "stream",
          "name": "stdout",
          "text": [
            "Train SMAPE: 37.31344\n"
          ]
        }
      ],
      "source": [
        "SMAPE_train = smape(raw_values[:,0][1:len(train_scaled)+1], predictions_train)\n",
        "print('Train SMAPE: %.5f' % SMAPE_train)"
      ]
    },
    {
      "cell_type": "code",
      "execution_count": 122,
      "metadata": {
        "pycharm": {
          "name": "#%%\n"
        },
        "id": "VOUn9KFz6-gM",
        "colab": {
          "base_uri": "https://localhost:8080/"
        },
        "outputId": "12beac82-2df0-4d73-e236-08a781b7d960"
      },
      "outputs": [
        {
          "output_type": "stream",
          "name": "stdout",
          "text": [
            "Forecasting Testing Data\n",
            "Test RMSE: 30.53288\n",
            "Test MAE: 22.90594\n",
            "Test SMAPE: 34.73650\n"
          ]
        }
      ],
      "source": [
        "# forecast the test data\n",
        "print('Forecasting Testing Data')\n",
        "predictions_test = list()\n",
        "for i in range(len(y_test)):\n",
        "    # make one-step forecast\n",
        "    X = x_test[i]\n",
        "    y= y_test[i]\n",
        "    yhat = forecast_lstm(new_model, 1, X)\n",
        "    # invert scaling\n",
        "    yhat = invert_scale(scaler, X, yhat)\n",
        "    # invert differencing\n",
        "    yhat = inverse_difference(raw_values, yhat, len(test_scaled)+1-i)\n",
        "    # store forecast\n",
        "    predictions_test.append(yhat)\n",
        "    expected = raw_values[:,0][len(train) + i + 1]\n",
        "    #print('Month=%d, Predicted=%f, Expected=%f' % (i+1, yhat, expected))\n",
        "\n",
        "# report performance using RMSE\n",
        "rmse_test = sqrt(mean_squared_error(raw_values[:,0][-len(test_scaled):], predictions_test))\n",
        "print('Test RMSE: %.5f' % rmse_test)\n",
        "#report performance using RMSPE\n",
        "# RMSPE_test = RMSPE(raw_values[:,0][-len(test_scaled):], predictions_test)\n",
        "# print('Test RMSPE: %.5f' % RMSPE_test)\n",
        "MAE_test = mean_absolute_error(raw_values[:,0][-len(test_scaled):], predictions_test)\n",
        "print('Test MAE: %.5f' % MAE_test)\n",
        "# MAPE_test = MAPE(raw_values[:,0][-len(test_scaled):], predictions_test)\n",
        "# print('Test MAPE: %.5f' % MAPE_test)\n",
        "SMAPE_test = smape(raw_values[:,0][-len(test_scaled):], predictions_test)\n",
        "print('Test SMAPE: %.5f' % SMAPE_test)"
      ]
    },
    {
      "cell_type": "code",
      "execution_count": 123,
      "metadata": {
        "pycharm": {
          "name": "#%%\n"
        },
        "id": "atq8bR136-gP",
        "colab": {
          "base_uri": "https://localhost:8080/",
          "height": 281
        },
        "outputId": "0e6c8cd6-9afd-4284-a03c-0c65e3f36896"
      },
      "outputs": [
        {
          "output_type": "display_data",
          "data": {
            "text/plain": [
              "<Figure size 432x288 with 1 Axes>"
            ],
            "image/png": "[encoded data removed]"
          },
          "metadata": {
            "needs_background": "light"
          }
        }
      ],
      "source": [
        "# line plot of observed vs predicted\n",
        "fig, ax = plt.subplots(1)\n",
        "ax.plot(raw_values[:,0][-80:],'mo-', label='original',linewidth = 2 )\n",
        "ax.plot(predictions_test[-80:] ,'co-', label='predictions',linewidth = 2)\n",
        "#ax.axvline(x=len(train_scaled)+1,color='k', linestyle='--')\n",
        "ax.legend(loc='upper right')\n",
        "ax.set_title('PM2.5 hourly concentration prediction from 28/12/2014 to 31/12/2014')\n",
        "ax.set_ylabel('PM2.5 concentration')\n",
        "plt.show()"
      ]
    },
    {
      "cell_type": "code",
      "execution_count": 123,
      "outputs": [],
      "source": [],
      "metadata": {
        "pycharm": {
          "name": "#%%\n"
        },
        "id": "5RH4u31d6-gQ"
      }
    }
  ],
  "metadata": {
    "kernelspec": {
      "display_name": "Python 3",
      "name": "python3"
    },
    "language_info": {
      "name": "python"
    },
    "colab": {
      "provenance": [],
      "collapsed_sections": [],
      "include_colab_link": true
    },
    "accelerator": "GPU"
  },
  "nbformat": 4,
  "nbformat_minor": 0
}