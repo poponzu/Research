{
  "nbformat": 4,
  "nbformat_minor": 0,
  "metadata": {
    "colab": {
      "provenance": [],
      "collapsed_sections": [],
      "authorship_tag": "ABX9TyNs4yXB2+cNDHCy5+U/4ttO",
      "include_colab_link": true
    },
    "kernelspec": {
      "name": "python3",
      "display_name": "Python 3"
    },
    "language_info": {
      "name": "python"
    }
  },
  "cells": [
    {
      "cell_type": "markdown",
      "metadata": {
        "id": "view-in-github",
        "colab_type": "text"
      },
      "source": [
        "<a href=\"https://colab.research.google.com/github/poponzu/Research/blob/master/%5Btest%E6%90%8D%E5%A4%B1%E8%BF%BD%E5%8A%A0%5D%5B15%E7%89%B9%E5%BE%B4%E9%87%8F%5DLSTM%E8%A4%87%E6%95%B0%E5%85%A5%E5%8A%9B.ipynb\" target=\"_parent\"><img src=\"https://colab.research.google.com/assets/colab-badge.svg\" alt=\"Open In Colab\"/></a>"
      ]
    },
    {
      "cell_type": "markdown",
      "source": [
        "#  <span style=\"color: red\">実行前にデバッグモードであるかどうか、train_start, test_start, data_endの値, 学習回数epochsを確認！</span>"
      ],
      "metadata": {
        "id": "jYTnKPsNDy3n"
      }
    },
    {
      "cell_type": "code",
      "source": [
        "# debug = 1はデバック（動作確認用)\n",
        "debug = 0"
      ],
      "metadata": {
        "id": "9mPK9YdWHwpv"
      },
      "execution_count": 284,
      "outputs": []
    },
    {
      "cell_type": "code",
      "source": [
        "# データの範囲指定\n",
        "if debug:\n",
        "  train_start = 2000\n",
        "  test_start = 2490\n",
        "  data_end = 2500\n",
        "else: \n",
        "  # train_start = 2000\n",
        "  train_start = 0\n",
        "  # test_start = 6500\n",
        "  test_start = 10512+2629\n",
        "  # data_end = 7000\n",
        "  data_end = 17379\n",
        "\n",
        "# 学習回数\n",
        "if debug:\n",
        "  epochs = 2\n",
        "else:\n",
        "  epochs = 25"
      ],
      "metadata": {
        "id": "-KnqDKQVDwZn"
      },
      "execution_count": 285,
      "outputs": []
    },
    {
      "cell_type": "code",
      "source": [
        "10512+2629+4238"
      ],
      "metadata": {
        "colab": {
          "base_uri": "https://localhost:8080/"
        },
        "id": "NGYxcjbGa-8J",
        "outputId": "441be908-86b5-4138-90d1-463e3b4b204c"
      },
      "execution_count": 286,
      "outputs": [
        {
          "output_type": "execute_result",
          "data": {
            "text/plain": [
              "17379"
            ]
          },
          "metadata": {},
          "execution_count": 286
        }
      ]
    },
    {
      "cell_type": "markdown",
      "source": [
        "## このノートブックのLSTMモデルは[これ](https://qiita.com/tsubauaaa/items/8411a22465811ec2ee11#%E5%AD%A6%E7%BF%92%E3%83%87%E3%83%BC%E3%82%BF%E3%81%AE%E3%82%B7%E3%83%BC%E3%82%B1%E3%83%B3%E3%82%B9%E3%83%87%E3%83%BC%E3%82%BF%E3%82%92%E5%8F%96%E5%BE%97)を参考に作成した！"
      ],
      "metadata": {
        "id": "_rJYzFRMBtz6"
      }
    },
    {
      "cell_type": "code",
      "source": [
        "!pip install torchmetrics"
      ],
      "metadata": {
        "colab": {
          "base_uri": "https://localhost:8080/"
        },
        "id": "EzVAje5jN9rL",
        "outputId": "59a0c50d-47bb-4fdb-a1d4-5e3f7013a311"
      },
      "execution_count": 287,
      "outputs": [
        {
          "output_type": "stream",
          "name": "stdout",
          "text": [
            "Looking in indexes: https://pypi.org/simple, https://us-python.pkg.dev/colab-wheels/public/simple/\n",
            "Requirement already satisfied: torchmetrics in /usr/local/lib/python3.7/dist-packages (0.10.0)\n",
            "Requirement already satisfied: typing-extensions in /usr/local/lib/python3.7/dist-packages (from torchmetrics) (4.1.1)\n",
            "Requirement already satisfied: torch>=1.3.1 in /usr/local/lib/python3.7/dist-packages (from torchmetrics) (1.12.1+cu113)\n",
            "Requirement already satisfied: numpy>=1.17.2 in /usr/local/lib/python3.7/dist-packages (from torchmetrics) (1.21.6)\n",
            "Requirement already satisfied: packaging in /usr/local/lib/python3.7/dist-packages (from torchmetrics) (21.3)\n",
            "Requirement already satisfied: pyparsing!=3.0.5,>=2.0.2 in /usr/local/lib/python3.7/dist-packages (from packaging->torchmetrics) (3.0.9)\n"
          ]
        }
      ]
    },
    {
      "cell_type": "code",
      "execution_count": 288,
      "metadata": {
        "id": "dTSKdjD64564"
      },
      "outputs": [],
      "source": [
        "import torch\n",
        "import torch.nn as nn\n",
        "import torch.optim as optim\n",
        "import matplotlib.pyplot as plt\n",
        "import pandas as pd\n",
        "import numpy as np\n",
        "from torchmetrics.functional import mean_absolute_error\n",
        "import random\n",
        "import os\n",
        "%matplotlib inline"
      ]
    },
    {
      "cell_type": "code",
      "source": [
        "# deviceの作成\n",
        "# device = 'cuda' if torch.cuda.is_available else 'cpu'\n",
        "device = 'cpu'"
      ],
      "metadata": {
        "id": "tM0qBpfR5A-q"
      },
      "execution_count": 289,
      "outputs": []
    },
    {
      "cell_type": "code",
      "source": [
        "device"
      ],
      "metadata": {
        "colab": {
          "base_uri": "https://localhost:8080/",
          "height": 35
        },
        "id": "pA-ydPLu5Ez_",
        "outputId": "ae090930-eb8b-43a1-fe14-eb888439d275"
      },
      "execution_count": 290,
      "outputs": [
        {
          "output_type": "execute_result",
          "data": {
            "text/plain": [
              "'cpu'"
            ],
            "application/vnd.google.colaboratory.intrinsic+json": {
              "type": "string"
            }
          },
          "metadata": {},
          "execution_count": 290
        }
      ]
    },
    {
      "cell_type": "code",
      "source": [
        "# Google Driveをマウントする\n",
        "from google.colab import drive\n",
        "drive.mount('/content/drive')"
      ],
      "metadata": {
        "colab": {
          "base_uri": "https://localhost:8080/"
        },
        "id": "jimRcnEy5IbA",
        "outputId": "9f6e05b4-d478-4efb-f759-87e35a7fdf28"
      },
      "execution_count": 291,
      "outputs": [
        {
          "output_type": "stream",
          "name": "stdout",
          "text": [
            "Drive already mounted at /content/drive; to attempt to forcibly remount, call drive.mount(\"/content/drive\", force_remount=True).\n"
          ]
        }
      ]
    },
    {
      "cell_type": "code",
      "source": [
        "def seed_everything(seed=42):\n",
        "    print('Setting Random Seed')\n",
        "    random.seed(seed)\n",
        "    os.environ['PYTHONHASHSEED'] = str(seed)\n",
        "    np.random.seed(seed)\n",
        "    torch.manual_seed(seed)\n",
        "    torch.cuda.manual_seed(seed)\n",
        "    torch.backends.cudnn.deterministic = True\n",
        "\n",
        "seed_everything(42)"
      ],
      "metadata": {
        "colab": {
          "base_uri": "https://localhost:8080/"
        },
        "id": "_2-73HKTOZ0A",
        "outputId": "68a18cfd-0064-4650-83f9-74161546bf72"
      },
      "execution_count": 292,
      "outputs": [
        {
          "output_type": "stream",
          "name": "stdout",
          "text": [
            "Setting Random Seed\n"
          ]
        }
      ]
    },
    {
      "cell_type": "code",
      "source": [
        "data = pd.read_csv(\"/content/drive/MyDrive/Colab Notebooks/LSTM-AE/Bike_sharing_predict/Bike-Sharing-Dataset/hour.csv\")"
      ],
      "metadata": {
        "id": "wybsq_ic5MdX"
      },
      "execution_count": 293,
      "outputs": []
    },
    {
      "cell_type": "code",
      "source": [
        "data.head()"
      ],
      "metadata": {
        "colab": {
          "base_uri": "https://localhost:8080/",
          "height": 206
        },
        "id": "DBNaR-nq5lko",
        "outputId": "10d38c4b-8580-4736-863f-2ef06c6ad58c"
      },
      "execution_count": 294,
      "outputs": [
        {
          "output_type": "execute_result",
          "data": {
            "text/plain": [
              "   instant      dteday  season  yr  mnth  hr  holiday  weekday  workingday  \\\n",
              "0        1  2011-01-01       1   0     1   0        0        6           0   \n",
              "1        2  2011-01-01       1   0     1   1        0        6           0   \n",
              "2        3  2011-01-01       1   0     1   2        0        6           0   \n",
              "3        4  2011-01-01       1   0     1   3        0        6           0   \n",
              "4        5  2011-01-01       1   0     1   4        0        6           0   \n",
              "\n",
              "   weathersit  temp   atemp   hum  windspeed  casual  registered  cnt  \n",
              "0           1  0.24  0.2879  0.81        0.0       3          13   16  \n",
              "1           1  0.22  0.2727  0.80        0.0       8          32   40  \n",
              "2           1  0.22  0.2727  0.80        0.0       5          27   32  \n",
              "3           1  0.24  0.2879  0.75        0.0       3          10   13  \n",
              "4           1  0.24  0.2879  0.75        0.0       0           1    1  "
            ],
            "text/html": [
              "\n",
              "  <div id=\"df-b6844330-36ef-4cd6-bfd0-cb92f052515c\">\n",
              "    <div class=\"colab-df-container\">\n",
              "      <div>\n",
              "<style scoped>\n",
              "    .dataframe tbody tr th:only-of-type {\n",
              "        vertical-align: middle;\n",
              "    }\n",
              "\n",
              "    .dataframe tbody tr th {\n",
              "        vertical-align: top;\n",
              "    }\n",
              "\n",
              "    .dataframe thead th {\n",
              "        text-align: right;\n",
              "    }\n",
              "</style>\n",
              "<table border=\"1\" class=\"dataframe\">\n",
              "  <thead>\n",
              "    <tr style=\"text-align: right;\">\n",
              "      <th></th>\n",
              "      <th>instant</th>\n",
              "      <th>dteday</th>\n",
              "      <th>season</th>\n",
              "      <th>yr</th>\n",
              "      <th>mnth</th>\n",
              "      <th>hr</th>\n",
              "      <th>holiday</th>\n",
              "      <th>weekday</th>\n",
              "      <th>workingday</th>\n",
              "      <th>weathersit</th>\n",
              "      <th>temp</th>\n",
              "      <th>atemp</th>\n",
              "      <th>hum</th>\n",
              "      <th>windspeed</th>\n",
              "      <th>casual</th>\n",
              "      <th>registered</th>\n",
              "      <th>cnt</th>\n",
              "    </tr>\n",
              "  </thead>\n",
              "  <tbody>\n",
              "    <tr>\n",
              "      <th>0</th>\n",
              "      <td>1</td>\n",
              "      <td>2011-01-01</td>\n",
              "      <td>1</td>\n",
              "      <td>0</td>\n",
              "      <td>1</td>\n",
              "      <td>0</td>\n",
              "      <td>0</td>\n",
              "      <td>6</td>\n",
              "      <td>0</td>\n",
              "      <td>1</td>\n",
              "      <td>0.24</td>\n",
              "      <td>0.2879</td>\n",
              "      <td>0.81</td>\n",
              "      <td>0.0</td>\n",
              "      <td>3</td>\n",
              "      <td>13</td>\n",
              "      <td>16</td>\n",
              "    </tr>\n",
              "    <tr>\n",
              "      <th>1</th>\n",
              "      <td>2</td>\n",
              "      <td>2011-01-01</td>\n",
              "      <td>1</td>\n",
              "      <td>0</td>\n",
              "      <td>1</td>\n",
              "      <td>1</td>\n",
              "      <td>0</td>\n",
              "      <td>6</td>\n",
              "      <td>0</td>\n",
              "      <td>1</td>\n",
              "      <td>0.22</td>\n",
              "      <td>0.2727</td>\n",
              "      <td>0.80</td>\n",
              "      <td>0.0</td>\n",
              "      <td>8</td>\n",
              "      <td>32</td>\n",
              "      <td>40</td>\n",
              "    </tr>\n",
              "    <tr>\n",
              "      <th>2</th>\n",
              "      <td>3</td>\n",
              "      <td>2011-01-01</td>\n",
              "      <td>1</td>\n",
              "      <td>0</td>\n",
              "      <td>1</td>\n",
              "      <td>2</td>\n",
              "      <td>0</td>\n",
              "      <td>6</td>\n",
              "      <td>0</td>\n",
              "      <td>1</td>\n",
              "      <td>0.22</td>\n",
              "      <td>0.2727</td>\n",
              "      <td>0.80</td>\n",
              "      <td>0.0</td>\n",
              "      <td>5</td>\n",
              "      <td>27</td>\n",
              "      <td>32</td>\n",
              "    </tr>\n",
              "    <tr>\n",
              "      <th>3</th>\n",
              "      <td>4</td>\n",
              "      <td>2011-01-01</td>\n",
              "      <td>1</td>\n",
              "      <td>0</td>\n",
              "      <td>1</td>\n",
              "      <td>3</td>\n",
              "      <td>0</td>\n",
              "      <td>6</td>\n",
              "      <td>0</td>\n",
              "      <td>1</td>\n",
              "      <td>0.24</td>\n",
              "      <td>0.2879</td>\n",
              "      <td>0.75</td>\n",
              "      <td>0.0</td>\n",
              "      <td>3</td>\n",
              "      <td>10</td>\n",
              "      <td>13</td>\n",
              "    </tr>\n",
              "    <tr>\n",
              "      <th>4</th>\n",
              "      <td>5</td>\n",
              "      <td>2011-01-01</td>\n",
              "      <td>1</td>\n",
              "      <td>0</td>\n",
              "      <td>1</td>\n",
              "      <td>4</td>\n",
              "      <td>0</td>\n",
              "      <td>6</td>\n",
              "      <td>0</td>\n",
              "      <td>1</td>\n",
              "      <td>0.24</td>\n",
              "      <td>0.2879</td>\n",
              "      <td>0.75</td>\n",
              "      <td>0.0</td>\n",
              "      <td>0</td>\n",
              "      <td>1</td>\n",
              "      <td>1</td>\n",
              "    </tr>\n",
              "  </tbody>\n",
              "</table>\n",
              "</div>\n",
              "      <button class=\"colab-df-convert\" onclick=\"convertToInteractive('df-b6844330-36ef-4cd6-bfd0-cb92f052515c')\"\n",
              "              title=\"Convert this dataframe to an interactive table.\"\n",
              "              style=\"display:none;\">\n",
              "        \n",
              "  <svg xmlns=\"http://www.w3.org/2000/svg\" height=\"24px\"viewBox=\"0 0 24 24\"\n",
              "       width=\"24px\">\n",
              "    <path d=\"M0 0h24v24H0V0z\" fill=\"none\"/>\n",
              "    <path d=\"M18.56 5.44l.94 2.06.94-2.06 2.06-.94-2.06-.94-.94-2.06-.94 2.06-2.06.94zm-11 1L8.5 8.5l.94-2.06 2.06-.94-2.06-.94L8.5 2.5l-.94 2.06-2.06.94zm10 10l.94 2.06.94-2.06 2.06-.94-2.06-.94-.94-2.06-.94 2.06-2.06.94z\"/><path d=\"M17.41 7.96l-1.37-1.37c-.4-.4-.92-.59-1.43-.59-.52 0-1.04.2-1.43.59L10.3 9.45l-7.72 7.72c-.78.78-.78 2.05 0 2.83L4 21.41c.39.39.9.59 1.41.59.51 0 1.02-.2 1.41-.59l7.78-7.78 2.81-2.81c.8-.78.8-2.07 0-2.86zM5.41 20L4 18.59l7.72-7.72 1.47 1.35L5.41 20z\"/>\n",
              "  </svg>\n",
              "      </button>\n",
              "      \n",
              "  <style>\n",
              "    .colab-df-container {\n",
              "      display:flex;\n",
              "      flex-wrap:wrap;\n",
              "      gap: 12px;\n",
              "    }\n",
              "\n",
              "    .colab-df-convert {\n",
              "      background-color: #E8F0FE;\n",
              "      border: none;\n",
              "      border-radius: 50%;\n",
              "      cursor: pointer;\n",
              "      display: none;\n",
              "      fill: #1967D2;\n",
              "      height: 32px;\n",
              "      padding: 0 0 0 0;\n",
              "      width: 32px;\n",
              "    }\n",
              "\n",
              "    .colab-df-convert:hover {\n",
              "      background-color: #E2EBFA;\n",
              "      box-shadow: 0px 1px 2px rgba(60, 64, 67, 0.3), 0px 1px 3px 1px rgba(60, 64, 67, 0.15);\n",
              "      fill: #174EA6;\n",
              "    }\n",
              "\n",
              "    [theme=dark] .colab-df-convert {\n",
              "      background-color: #3B4455;\n",
              "      fill: #D2E3FC;\n",
              "    }\n",
              "\n",
              "    [theme=dark] .colab-df-convert:hover {\n",
              "      background-color: #434B5C;\n",
              "      box-shadow: 0px 1px 3px 1px rgba(0, 0, 0, 0.15);\n",
              "      filter: drop-shadow(0px 1px 2px rgba(0, 0, 0, 0.3));\n",
              "      fill: #FFFFFF;\n",
              "    }\n",
              "  </style>\n",
              "\n",
              "      <script>\n",
              "        const buttonEl =\n",
              "          document.querySelector('#df-b6844330-36ef-4cd6-bfd0-cb92f052515c button.colab-df-convert');\n",
              "        buttonEl.style.display =\n",
              "          google.colab.kernel.accessAllowed ? 'block' : 'none';\n",
              "\n",
              "        async function convertToInteractive(key) {\n",
              "          const element = document.querySelector('#df-b6844330-36ef-4cd6-bfd0-cb92f052515c');\n",
              "          const dataTable =\n",
              "            await google.colab.kernel.invokeFunction('convertToInteractive',\n",
              "                                                     [key], {});\n",
              "          if (!dataTable) return;\n",
              "\n",
              "          const docLinkHtml = 'Like what you see? Visit the ' +\n",
              "            '<a target=\"_blank\" href=https://colab.research.google.com/notebooks/data_table.ipynb>data table notebook</a>'\n",
              "            + ' to learn more about interactive tables.';\n",
              "          element.innerHTML = '';\n",
              "          dataTable['output_type'] = 'display_data';\n",
              "          await google.colab.output.renderOutput(dataTable, element);\n",
              "          const docLink = document.createElement('div');\n",
              "          docLink.innerHTML = docLinkHtml;\n",
              "          element.appendChild(docLink);\n",
              "        }\n",
              "      </script>\n",
              "    </div>\n",
              "  </div>\n",
              "  "
            ]
          },
          "metadata": {},
          "execution_count": 294
        }
      ]
    },
    {
      "cell_type": "code",
      "source": [
        "len_data = data.shape[0]"
      ],
      "metadata": {
        "id": "X-6o4tTD5yDO"
      },
      "execution_count": 295,
      "outputs": []
    },
    {
      "cell_type": "markdown",
      "source": [
        "# 使用する特徴量を指定する"
      ],
      "metadata": {
        "id": "bkqR9EpBERsC"
      }
    },
    {
      "cell_type": "code",
      "source": [
        "Bike_data = data[['cnt','season', 'yr', 'mnth', 'hr', 'holiday', 'weekday',\n",
        "       'workingday', 'weathersit', 'temp', 'atemp', 'hum', 'windspeed',\n",
        "       'casual', 'registered']]"
      ],
      "metadata": {
        "id": "rbYM1GMb6HbD"
      },
      "execution_count": 296,
      "outputs": []
    },
    {
      "cell_type": "markdown",
      "source": [
        "# 特徴量を時系列にグラフ表示"
      ],
      "metadata": {
        "id": "3akVeEFW7cmh"
      }
    },
    {
      "cell_type": "code",
      "source": [
        "# fig, (axL, axM, axR) = plt.subplots(ncols=3, figsize=(20,5))\n",
        "\n",
        "# axL.plot(Bike_data['cnt'], linewidth=2)\n",
        "# axL.set_title('Number of Bike sharing cnt')\n",
        "# axL.set_xlabel('2012/1/1-2013/12/31')\n",
        "# axL.set_ylabel('cnt')\n",
        "# axL.grid(True)\n",
        "# axL.vlines(x=2000, ymin=0, ymax=1000, colors='red', linestyles='dotted')\n",
        "# axL.vlines(x=6500, ymin=0, ymax=1000, colors='black', linestyles='dotted')\n",
        "# axL.vlines(x=7000, ymin=0, ymax=1000, colors='red', linestyles='dotted')\n",
        "\n",
        "\n",
        "# axM.plot(Bike_data['temp'], linewidth=2)\n",
        "# axM.set_title('tempeture')\n",
        "# axM.set_xlabel('2012/1/1-2013/12/31')\n",
        "# axM.set_ylabel('temp')\n",
        "# axM.grid(True)\n",
        "# axM.vlines(x=2000, ymin=0, ymax=1, colors='red', linestyles='dotted')\n",
        "# axM.vlines(x=6500, ymin=0, ymax=1, colors='black', linestyles='dotted')\n",
        "# axM.vlines(x=7000, ymin=0, ymax=1, colors='red', linestyles='dotted')\n",
        "\n",
        "# axR.plot(Bike_data['registered'], linewidth=2)\n",
        "# axR.set_title('Number of registered')\n",
        "# axR.set_xlabel('2012/1/1-2013/12/31')\n",
        "# axR.set_ylabel('registered')\n",
        "# axR.grid(True)\n",
        "# axR.vlines(x=2000, ymin=0, ymax=800, colors='red', linestyles='dotted')\n",
        "# axR.vlines(x=6500, ymin=0, ymax=800, colors='black', linestyles='dotted')\n",
        "# axR.vlines(x=7000, ymin=0, ymax=800, colors='red', linestyles='dotted')\n",
        "\n",
        "# fig.show()"
      ],
      "metadata": {
        "id": "8Qsgqrcg6XSZ"
      },
      "execution_count": 297,
      "outputs": []
    },
    {
      "cell_type": "markdown",
      "source": [
        "# 軽量化のためデータ量を調節"
      ],
      "metadata": {
        "id": "f5lx9ki7ErF4"
      }
    },
    {
      "cell_type": "code",
      "source": [
        "Bike_data = Bike_data[train_start:data_end]"
      ],
      "metadata": {
        "id": "8qx3Wis2c4cK"
      },
      "execution_count": 298,
      "outputs": []
    },
    {
      "cell_type": "code",
      "source": [
        "Bike_data = Bike_data.values.astype(float)\n",
        "Bike_data.shape"
      ],
      "metadata": {
        "colab": {
          "base_uri": "https://localhost:8080/"
        },
        "id": "i_-EJw6K63Nz",
        "outputId": "946a7414-133f-47ba-d338-47e6f9a44703"
      },
      "execution_count": 299,
      "outputs": [
        {
          "output_type": "execute_result",
          "data": {
            "text/plain": [
              "(17379, 15)"
            ]
          },
          "metadata": {},
          "execution_count": 299
        }
      ]
    },
    {
      "cell_type": "markdown",
      "source": [
        "# 学習データとテストデータに分割する"
      ],
      "metadata": {
        "id": "V2Ma2T9p8Gp3"
      }
    },
    {
      "cell_type": "code",
      "source": [
        "test_data_size = data_end - test_start\n",
        "\n",
        "train_data = Bike_data[:-test_data_size]\n",
        "test_data = Bike_data[-test_data_size:]"
      ],
      "metadata": {
        "id": "CmjnSWXi8qw3"
      },
      "execution_count": 300,
      "outputs": []
    },
    {
      "cell_type": "code",
      "source": [
        "#train_dataの正規化\n",
        "# データセットの正規化を行う。最小値0と最大値1の範囲で行う。\n",
        "from sklearn.preprocessing import MinMaxScaler\n",
        "\n",
        "scaler = MinMaxScaler(feature_range=(0, 1))\n",
        "train_data_normalized = scaler.fit_transform(train_data)"
      ],
      "metadata": {
        "id": "mHEbH2u48-bt"
      },
      "execution_count": 301,
      "outputs": []
    },
    {
      "cell_type": "code",
      "source": [
        "# Tensor型に変換\n",
        "train_data_normalized = torch.FloatTensor(train_data_normalized)"
      ],
      "metadata": {
        "id": "YZufpe8O9GKl"
      },
      "execution_count": 302,
      "outputs": []
    },
    {
      "cell_type": "code",
      "source": [
        "# シーケンスに沿ったデータを作成する関数\n",
        "def make_sequence_data(input_data, num_sequence):\n",
        "    # シーケンスデータとラベルデータの器\n",
        "    data = []\n",
        "    # 全体のデータ数取得\n",
        "    num_data = len(input_data)\n",
        "    # 全体からシーケンス分引いた数までループする\n",
        "    for i in range(num_data - num_sequence):\n",
        "        # 1個ずらして、シーケンス分のデータを取得していく\n",
        "        seq_data = input_data[i:i+num_sequence]\n",
        "        # シーケンスの次の要素のデータ(ラベルデータとして1個目の陽性者数のみ)を取得していく\n",
        "        target_data = input_data[:,0][i+num_sequence:i+num_sequence+1]\n",
        "        # シーケンスデータとラベルデータをタプルとして取得していく\n",
        "        data.append((seq_data, target_data))\n",
        "\n",
        "    return data"
      ],
      "metadata": {
        "id": "gWlTDQ0k9H-g"
      },
      "execution_count": 303,
      "outputs": []
    },
    {
      "cell_type": "code",
      "source": [
        "# シーケンス長は24データとする\n",
        "# 24時間分のデータから次の1日後のデータを予測する\n",
        "# 48時間とかにしてもよいかも\n",
        "seq_length = 24\n",
        "# train_seq_data=最初のデータを1個ずらしてシーケンス分のデータ(時系列の学習データ群)、train_target=train_seq_dataの次のデータ(ラベルデータ)\n",
        "train_seq_data = make_sequence_data(train_data_normalized, seq_length)"
      ],
      "metadata": {
        "id": "PYf59jGT9SOu"
      },
      "execution_count": 304,
      "outputs": []
    },
    {
      "cell_type": "code",
      "source": [
        "train_data_normalized[:3]"
      ],
      "metadata": {
        "colab": {
          "base_uri": "https://localhost:8080/"
        },
        "id": "U5gpKkNC-Eau",
        "outputId": "ccf4cf98-27fb-4ba8-9a2c-e78c15fc06fe"
      },
      "execution_count": 305,
      "outputs": [
        {
          "output_type": "execute_result",
          "data": {
            "text/plain": [
              "tensor([[0.0157, 0.0000, 0.0000, 0.0000, 0.0000, 0.0000, 1.0000, 0.0000, 0.0000,\n",
              "         0.2292, 0.2879, 0.8100, 0.0000, 0.0082, 0.0163],\n",
              "        [0.0408, 0.0000, 0.0000, 0.0000, 0.0435, 0.0000, 1.0000, 0.0000, 0.0000,\n",
              "         0.2083, 0.2727, 0.8000, 0.0000, 0.0218, 0.0402],\n",
              "        [0.0324, 0.0000, 0.0000, 0.0000, 0.0870, 0.0000, 1.0000, 0.0000, 0.0000,\n",
              "         0.2083, 0.2727, 0.8000, 0.0000, 0.0136, 0.0339]])"
            ]
          },
          "metadata": {},
          "execution_count": 305
        }
      ]
    },
    {
      "cell_type": "code",
      "source": [
        "# train_seq_data[:3]"
      ],
      "metadata": {
        "id": "tKZ8MFYC92S4"
      },
      "execution_count": 306,
      "outputs": []
    },
    {
      "cell_type": "code",
      "source": [
        "class LSTM(nn.Module):\n",
        "    def __init__(self, input_size=15, hidden_layer_size=100, output_size=1, num_layers=2):\n",
        "        super().__init__()\n",
        "        self.hidden_layer_size = hidden_layer_size\n",
        "\n",
        "        self.lstm = nn.LSTM(input_size=input_size, hidden_size=hidden_layer_size, num_layers=num_layers, batch_first=True, dropout=0.1)\n",
        "\n",
        "        self.linear = nn.Linear(in_features=hidden_layer_size, out_features=output_size)\n",
        "\n",
        "    def forward(self, x):\n",
        "        # LSTMのinputは(batch_size, seq_len, input_size)にする\n",
        "        # LSTMのoutputは(batch_size, seq_len, hidden_layer_size)となる\n",
        "        # hidden stateとcell stateにはNoneを渡して0ベクトルを渡す\n",
        "        lstm_out, (hn, cn) = self.lstm(x, None)\n",
        "        # Linearのinputは(N,∗,in_features)にする\n",
        "        # lstm_out(batch_size, seq_len, hidden_layer_size)のseq_len方向の最後の値をLinearに入力する\n",
        "        prediction = self.linear(lstm_out[:, -1, :])\n",
        "        return prediction"
      ],
      "metadata": {
        "id": "07NlRr0194sl"
      },
      "execution_count": 307,
      "outputs": []
    },
    {
      "cell_type": "code",
      "source": [
        "device"
      ],
      "metadata": {
        "colab": {
          "base_uri": "https://localhost:8080/",
          "height": 35
        },
        "id": "zDI8IpdQA5dI",
        "outputId": "7b156562-b07a-4e96-d273-ef56c2c602d1"
      },
      "execution_count": 308,
      "outputs": [
        {
          "output_type": "execute_result",
          "data": {
            "text/plain": [
              "'cpu'"
            ],
            "application/vnd.google.colaboratory.intrinsic+json": {
              "type": "string"
            }
          },
          "metadata": {},
          "execution_count": 308
        }
      ]
    },
    {
      "cell_type": "code",
      "source": [
        "device = 'cpu'"
      ],
      "metadata": {
        "id": "OLRcCiKzBGZG"
      },
      "execution_count": 309,
      "outputs": []
    },
    {
      "cell_type": "code",
      "source": [
        "model = LSTM()\n",
        "model.to(device)"
      ],
      "metadata": {
        "colab": {
          "base_uri": "https://localhost:8080/"
        },
        "id": "X4XrplUK-iaU",
        "outputId": "2fed0430-867d-4b05-cc56-9f2e728efd49"
      },
      "execution_count": 310,
      "outputs": [
        {
          "output_type": "execute_result",
          "data": {
            "text/plain": [
              "LSTM(\n",
              "  (lstm): LSTM(15, 100, num_layers=2, batch_first=True, dropout=0.1)\n",
              "  (linear): Linear(in_features=100, out_features=1, bias=True)\n",
              ")"
            ]
          },
          "metadata": {},
          "execution_count": 310
        }
      ]
    },
    {
      "cell_type": "code",
      "source": [
        "# 損失関数と最適化関数を定義\n",
        "criterion = nn.MSELoss()\n",
        "optimizer = optim.AdamW(model.parameters(), lr=0.001)"
      ],
      "metadata": {
        "id": "61EOB6jK-sbH"
      },
      "execution_count": 311,
      "outputs": []
    },
    {
      "cell_type": "markdown",
      "source": [
        "# testの損失も追加する"
      ],
      "metadata": {
        "id": "NEmvWLIjKDcb"
      }
    },
    {
      "cell_type": "code",
      "source": [
        "# 予測する日数\n",
        "pred_days = test_data_size\n",
        "# テストデータの正規化を行う。最小値0と最大値1の範囲で行ってTensor型に変換する。\n",
        "test_data_normalized = scaler.fit_transform(test_data)\n",
        "test_data_normalized = torch.FloatTensor(test_data_normalized)\n",
        "# 予測するためのデータの最初のseq_length分はtrain_dataを使う\n",
        "test_inputs = train_data_normalized[-seq_length:].tolist()\n",
        "\n",
        "# t_dataの用意\n",
        "t_data = pd.read_csv(\"/content/drive/MyDrive/Colab Notebooks/LSTM-AE/Bike_sharing_predict/Bike-Sharing-Dataset/hour.csv\")\n",
        "t_data = t_data[\"cnt\"][test_start:data_end]\n",
        "t_data = t_data.values.astype(np.float32)\n",
        "t_data = torch.from_numpy(t_data)"
      ],
      "metadata": {
        "id": "lPK7nqQUKf7U"
      },
      "execution_count": 312,
      "outputs": []
    },
    {
      "cell_type": "code",
      "source": [
        "import tqdm\n",
        "\n",
        "train_losses = []\n",
        "test_losses = []\n",
        "\n",
        "for epoch in tqdm.tqdm(range(epochs)):\n",
        "    model.train()\n",
        "    for seq, labels in train_seq_data:\n",
        "        # seq, labelsのshapeは(seq_length, 特徴量)なのでLSTMに渡すために(batch, seq_length, 特徴量)にする。(batch=1)\n",
        "        seq, labels = torch.unsqueeze(seq, 0), torch.unsqueeze(labels, 0)\n",
        "        seq, labels = seq.to(device), labels.to(device)\n",
        "        optimizer.zero_grad()\n",
        "        y_pred = model(seq)\n",
        "        single_loss = criterion(y_pred, labels)\n",
        "        single_loss.backward()\n",
        "        optimizer.step()\n",
        "\n",
        "    train_losses.append(single_loss.item())\n",
        "    # print(f'epoch: {i}, train_loss : {single_loss.item()}')\n",
        "\n",
        "    # testデータに対する予測の損失計算\n",
        "    # モデルを評価モードとする\n",
        "    model.eval()\n",
        "    # 予測値を入れるリスト\n",
        "    test_outputs = []\n",
        "    for i in range(pred_days):\n",
        "        seq = torch.FloatTensor(test_inputs[-seq_length:])\n",
        "        seq = torch.unsqueeze(seq, 0)\n",
        "        seq = seq.to(device)\n",
        "        with torch.no_grad():\n",
        "            test_inputs.append(test_data_normalized.tolist()[i])\n",
        "            test_outputs.append(model(seq).item())\n",
        "\n",
        "    np_test_outputs = np.array(test_outputs).reshape(-1,1)\n",
        "    # 列方向に同じ値を追加して(?, 15)にする\n",
        "    np_test_outputs2 = np.hstack((np_test_outputs, np_test_outputs))\n",
        "    np_test_outputs3 = np.hstack((np_test_outputs2, np_test_outputs))\n",
        "    np_test_outputs4 = np.hstack((np_test_outputs3, np_test_outputs))\n",
        "    np_test_outputs5 = np.hstack((np_test_outputs4, np_test_outputs))\n",
        "    np_test_outputs6 = np.hstack((np_test_outputs5, np_test_outputs))\n",
        "    np_test_outputs7 = np.hstack((np_test_outputs6, np_test_outputs))\n",
        "    np_test_outputs8 = np.hstack((np_test_outputs7, np_test_outputs))\n",
        "    np_test_outputs9 = np.hstack((np_test_outputs8, np_test_outputs))\n",
        "    np_test_outputs10 = np.hstack((np_test_outputs9, np_test_outputs))\n",
        "    np_test_outputs11 = np.hstack((np_test_outputs10, np_test_outputs))\n",
        "    np_test_outputs12 = np.hstack((np_test_outputs11, np_test_outputs))\n",
        "    np_test_outputs13 = np.hstack((np_test_outputs12, np_test_outputs))\n",
        "    np_test_outputs14 = np.hstack((np_test_outputs13, np_test_outputs))\n",
        "    np_test_outputs15 = np.hstack((np_test_outputs14, np_test_outputs))\n",
        "\n",
        "    actual_predictions = scaler.inverse_transform(np_test_outputs15)\n",
        "\n",
        "\n",
        "    predictions = torch.from_numpy(actual_predictions[:,0])\n",
        "    test_criterion = nn.MSELoss()\n",
        "    test_loss = test_criterion(t_data, predictions)\n",
        "    print(f'epoch: {epoch}, train_loss : {single_loss.item()}, test_loss : {test_loss}')\n",
        "    test_losses.append(test_loss)"
      ],
      "metadata": {
        "colab": {
          "base_uri": "https://localhost:8080/"
        },
        "id": "qid2VQsE-uXY",
        "outputId": "fc1c8bba-7557-4c65-ab06-e004873f5698"
      },
      "execution_count": 313,
      "outputs": [
        {
          "output_type": "stream",
          "name": "stderr",
          "text": [
            "  4%|▍         | 1/25 [03:11<1:16:47, 191.99s/it]"
          ]
        },
        {
          "output_type": "stream",
          "name": "stdout",
          "text": [
            "epoch: 0, train_loss : 0.00010736547119449824, test_loss : 6228.165961278974\n"
          ]
        },
        {
          "output_type": "stream",
          "name": "stderr",
          "text": [
            "\r  8%|▊         | 2/25 [06:15<1:11:42, 187.07s/it]"
          ]
        },
        {
          "output_type": "stream",
          "name": "stdout",
          "text": [
            "epoch: 1, train_loss : 0.0031073661521077156, test_loss : 5004.973146653054\n"
          ]
        },
        {
          "output_type": "stream",
          "name": "stderr",
          "text": [
            "\r 12%|█▏        | 3/25 [09:26<1:09:11, 188.71s/it]"
          ]
        },
        {
          "output_type": "stream",
          "name": "stdout",
          "text": [
            "epoch: 2, train_loss : 0.005945491138845682, test_loss : 5127.0242646768975\n"
          ]
        },
        {
          "output_type": "stream",
          "name": "stderr",
          "text": [
            "\r 16%|█▌        | 4/25 [12:41<1:06:57, 191.30s/it]"
          ]
        },
        {
          "output_type": "stream",
          "name": "stdout",
          "text": [
            "epoch: 3, train_loss : 0.003179259365424514, test_loss : 5623.622784402685\n"
          ]
        },
        {
          "output_type": "stream",
          "name": "stderr",
          "text": [
            "\r 20%|██        | 5/25 [15:56<1:04:10, 192.54s/it]"
          ]
        },
        {
          "output_type": "stream",
          "name": "stdout",
          "text": [
            "epoch: 4, train_loss : 0.0032104903366416693, test_loss : 6278.766206165094\n"
          ]
        },
        {
          "output_type": "stream",
          "name": "stderr",
          "text": [
            "\r 24%|██▍       | 6/25 [19:10<1:01:06, 192.97s/it]"
          ]
        },
        {
          "output_type": "stream",
          "name": "stdout",
          "text": [
            "epoch: 5, train_loss : 2.0091272745048627e-05, test_loss : 5589.644085228475\n"
          ]
        },
        {
          "output_type": "stream",
          "name": "stderr",
          "text": [
            "\r 28%|██▊       | 7/25 [22:23<57:53, 192.95s/it]  "
          ]
        },
        {
          "output_type": "stream",
          "name": "stdout",
          "text": [
            "epoch: 6, train_loss : 0.005123405251652002, test_loss : 6062.930269657777\n"
          ]
        },
        {
          "output_type": "stream",
          "name": "stderr",
          "text": [
            "\r 32%|███▏      | 8/25 [25:34<54:31, 192.42s/it]"
          ]
        },
        {
          "output_type": "stream",
          "name": "stdout",
          "text": [
            "epoch: 7, train_loss : 0.002762544434517622, test_loss : 5713.54432267769\n"
          ]
        },
        {
          "output_type": "stream",
          "name": "stderr",
          "text": [
            "\r 36%|███▌      | 9/25 [28:44<51:08, 191.76s/it]"
          ]
        },
        {
          "output_type": "stream",
          "name": "stdout",
          "text": [
            "epoch: 8, train_loss : 0.0035099617671221495, test_loss : 4809.716813204405\n"
          ]
        },
        {
          "output_type": "stream",
          "name": "stderr",
          "text": [
            "\r 40%|████      | 10/25 [31:53<47:43, 190.91s/it]"
          ]
        },
        {
          "output_type": "stream",
          "name": "stdout",
          "text": [
            "epoch: 9, train_loss : 0.0040321652777493, test_loss : 5461.2609988816375\n"
          ]
        },
        {
          "output_type": "stream",
          "name": "stderr",
          "text": [
            "\r 44%|████▍     | 11/25 [35:02<44:26, 190.44s/it]"
          ]
        },
        {
          "output_type": "stream",
          "name": "stdout",
          "text": [
            "epoch: 10, train_loss : 0.0006100510363467038, test_loss : 5322.198487068002\n"
          ]
        },
        {
          "output_type": "stream",
          "name": "stderr",
          "text": [
            "\r 48%|████▊     | 12/25 [38:11<41:09, 189.98s/it]"
          ]
        },
        {
          "output_type": "stream",
          "name": "stdout",
          "text": [
            "epoch: 11, train_loss : 0.009514881297945976, test_loss : 4849.8088975861\n"
          ]
        },
        {
          "output_type": "stream",
          "name": "stderr",
          "text": [
            "\r 52%|█████▏    | 13/25 [41:22<38:02, 190.24s/it]"
          ]
        },
        {
          "output_type": "stream",
          "name": "stdout",
          "text": [
            "epoch: 12, train_loss : 0.0014278409071266651, test_loss : 4609.6954468208705\n"
          ]
        },
        {
          "output_type": "stream",
          "name": "stderr",
          "text": [
            "\r 56%|█████▌    | 14/25 [44:32<34:50, 190.02s/it]"
          ]
        },
        {
          "output_type": "stream",
          "name": "stdout",
          "text": [
            "epoch: 13, train_loss : 0.0068428716622292995, test_loss : 4407.000911396775\n"
          ]
        },
        {
          "output_type": "stream",
          "name": "stderr",
          "text": [
            "\r 60%|██████    | 15/25 [47:42<31:39, 189.96s/it]"
          ]
        },
        {
          "output_type": "stream",
          "name": "stdout",
          "text": [
            "epoch: 14, train_loss : 0.008200123906135559, test_loss : 4536.773070439773\n"
          ]
        },
        {
          "output_type": "stream",
          "name": "stderr",
          "text": [
            "\r 64%|██████▍   | 16/25 [50:50<28:25, 189.53s/it]"
          ]
        },
        {
          "output_type": "stream",
          "name": "stdout",
          "text": [
            "epoch: 15, train_loss : 0.0022149309515953064, test_loss : 5412.613998740295\n"
          ]
        },
        {
          "output_type": "stream",
          "name": "stderr",
          "text": [
            "\r 68%|██████▊   | 17/25 [53:56<25:07, 188.39s/it]"
          ]
        },
        {
          "output_type": "stream",
          "name": "stdout",
          "text": [
            "epoch: 16, train_loss : 0.002580557717010379, test_loss : 5259.729077484803\n"
          ]
        },
        {
          "output_type": "stream",
          "name": "stderr",
          "text": [
            "\r 72%|███████▏  | 18/25 [57:00<21:50, 187.22s/it]"
          ]
        },
        {
          "output_type": "stream",
          "name": "stdout",
          "text": [
            "epoch: 17, train_loss : 0.0015273367753252387, test_loss : 5237.79836731262\n"
          ]
        },
        {
          "output_type": "stream",
          "name": "stderr",
          "text": [
            "\r 76%|███████▌  | 19/25 [1:00:03<18:35, 185.99s/it]"
          ]
        },
        {
          "output_type": "stream",
          "name": "stdout",
          "text": [
            "epoch: 18, train_loss : 0.003898788010701537, test_loss : 4180.30763741657\n"
          ]
        },
        {
          "output_type": "stream",
          "name": "stderr",
          "text": [
            "\r 80%|████████  | 20/25 [1:03:07<15:26, 185.36s/it]"
          ]
        },
        {
          "output_type": "stream",
          "name": "stdout",
          "text": [
            "epoch: 19, train_loss : 0.01025679986923933, test_loss : 4775.674581329239\n"
          ]
        },
        {
          "output_type": "stream",
          "name": "stderr",
          "text": [
            "\r 84%|████████▍ | 21/25 [1:06:13<12:21, 185.35s/it]"
          ]
        },
        {
          "output_type": "stream",
          "name": "stdout",
          "text": [
            "epoch: 20, train_loss : 0.011240007355809212, test_loss : 4866.003360655015\n"
          ]
        },
        {
          "output_type": "stream",
          "name": "stderr",
          "text": [
            "\r 88%|████████▊ | 22/25 [1:09:19<09:16, 185.52s/it]"
          ]
        },
        {
          "output_type": "stream",
          "name": "stdout",
          "text": [
            "epoch: 21, train_loss : 0.009810923598706722, test_loss : 4597.807905267408\n"
          ]
        },
        {
          "output_type": "stream",
          "name": "stderr",
          "text": [
            "\r 92%|█████████▏| 23/25 [1:12:23<06:10, 185.29s/it]"
          ]
        },
        {
          "output_type": "stream",
          "name": "stdout",
          "text": [
            "epoch: 22, train_loss : 0.01615987718105316, test_loss : 4832.171761112764\n"
          ]
        },
        {
          "output_type": "stream",
          "name": "stderr",
          "text": [
            "\r 96%|█████████▌| 24/25 [1:15:29<03:05, 185.54s/it]"
          ]
        },
        {
          "output_type": "stream",
          "name": "stdout",
          "text": [
            "epoch: 23, train_loss : 0.030357519164681435, test_loss : 3989.180256508873\n"
          ]
        },
        {
          "output_type": "stream",
          "name": "stderr",
          "text": [
            "100%|██████████| 25/25 [1:18:34<00:00, 188.60s/it]"
          ]
        },
        {
          "output_type": "stream",
          "name": "stdout",
          "text": [
            "epoch: 24, train_loss : 0.006658843718469143, test_loss : 4347.864549744812\n"
          ]
        },
        {
          "output_type": "stream",
          "name": "stderr",
          "text": [
            "\n"
          ]
        }
      ]
    },
    {
      "cell_type": "code",
      "source": [
        "#trainデータに対する予測の損失をグラフ表示\n",
        "plt.title('train_loss')\n",
        "plt.plot(train_losses)"
      ],
      "metadata": {
        "colab": {
          "base_uri": "https://localhost:8080/",
          "height": 298
        },
        "id": "2sa7X0VgJ_bq",
        "outputId": "e19b1141-9894-420c-a7ef-bb97867d7f7e"
      },
      "execution_count": 314,
      "outputs": [
        {
          "output_type": "execute_result",
          "data": {
            "text/plain": [
              "[<matplotlib.lines.Line2D at 0x7f65d3288b90>]"
            ]
          },
          "metadata": {},
          "execution_count": 314
        },
        {
          "output_type": "display_data",
          "data": {
            "text/plain": [
              "<Figure size 432x288 with 1 Axes>"
            ],
            "image/png": "[encoded data removed]"
          },
          "metadata": {
            "needs_background": "light"
          }
        }
      ]
    },
    {
      "cell_type": "code",
      "source": [
        "# testデータに対する予測の損失をグラフ表示\n",
        "plt.title('test_loss')\n",
        "plt.plot(test_losses)"
      ],
      "metadata": {
        "colab": {
          "base_uri": "https://localhost:8080/",
          "height": 298
        },
        "id": "1_-HEzyXL5r4",
        "outputId": "900bfe74-c164-4ba7-909c-602399b0af55"
      },
      "execution_count": 315,
      "outputs": [
        {
          "output_type": "execute_result",
          "data": {
            "text/plain": [
              "[<matplotlib.lines.Line2D at 0x7f65d2e3ead0>]"
            ]
          },
          "metadata": {},
          "execution_count": 315
        },
        {
          "output_type": "display_data",
          "data": {
            "text/plain": [
              "<Figure size 432x288 with 1 Axes>"
            ],
            "image/png": "[encoded data removed]"
          },
          "metadata": {
            "needs_background": "light"
          }
        }
      ]
    },
    {
      "cell_type": "code",
      "source": [
        "# 予測する日数\n",
        "pred_days = test_data_size\n",
        "# テストデータの正規化を行う。最小値0と最大値1の範囲で行ってTensor型に変換する。\n",
        "test_data_normalized = scaler.fit_transform(test_data)\n",
        "test_data_normalized = torch.FloatTensor(test_data_normalized)\n",
        "# 予測するためのデータの最初のseq_length分はtrain_dataを使う\n",
        "test_inputs = train_data_normalized[-seq_length:].tolist()"
      ],
      "metadata": {
        "id": "YKsDmNQh-22C"
      },
      "execution_count": 316,
      "outputs": []
    },
    {
      "cell_type": "code",
      "source": [
        "seq_length"
      ],
      "metadata": {
        "colab": {
          "base_uri": "https://localhost:8080/"
        },
        "id": "HbdgimHq_bfH",
        "outputId": "cd27161a-07b8-4982-9ef8-1cecb5d7c05e"
      },
      "execution_count": 317,
      "outputs": [
        {
          "output_type": "execute_result",
          "data": {
            "text/plain": [
              "24"
            ]
          },
          "metadata": {},
          "execution_count": 317
        }
      ]
    },
    {
      "cell_type": "code",
      "source": [
        "# モデルを評価モードとする\n",
        "model.eval()\n",
        "# 予測値を入れるリスト\n",
        "test_outputs = []\n",
        "for i in tqdm.tqdm(range(pred_days)):\n",
        "    seq = torch.FloatTensor(test_inputs[-seq_length:])\n",
        "    seq = torch.unsqueeze(seq, 0)\n",
        "    seq = seq.to(device)\n",
        "    with torch.no_grad():\n",
        "        test_inputs.append(test_data_normalized.tolist()[i])\n",
        "        test_outputs.append(model(seq).item())"
      ],
      "metadata": {
        "id": "GADIqnr3_9xx",
        "colab": {
          "base_uri": "https://localhost:8080/"
        },
        "outputId": "930522f5-a956-40d2-cc0f-e691969b33d8"
      },
      "execution_count": 318,
      "outputs": [
        {
          "output_type": "stream",
          "name": "stderr",
          "text": [
            "100%|██████████| 4238/4238 [00:26<00:00, 160.52it/s]\n"
          ]
        }
      ]
    },
    {
      "cell_type": "markdown",
      "source": [
        "#  出力結果を入力の列に使った特徴量の次元に合わせてここは変更する必要あり。(関数化したいけど、あとで）"
      ],
      "metadata": {
        "id": "lcZIxlhdGBCs"
      }
    },
    {
      "cell_type": "code",
      "source": [
        "np_test_outputs = np.array(test_outputs).reshape(-1,1)\n",
        "# 列方向に同じ値を追加して(-1, 15)にする\n",
        "np_test_outputs2 = np.hstack((np_test_outputs, np_test_outputs))\n",
        "np_test_outputs3 = np.hstack((np_test_outputs2, np_test_outputs))\n",
        "np_test_outputs4 = np.hstack((np_test_outputs3, np_test_outputs))\n",
        "np_test_outputs5 = np.hstack((np_test_outputs4, np_test_outputs))\n",
        "np_test_outputs6 = np.hstack((np_test_outputs5, np_test_outputs))\n",
        "np_test_outputs7 = np.hstack((np_test_outputs6, np_test_outputs))\n",
        "np_test_outputs8 = np.hstack((np_test_outputs7, np_test_outputs))\n",
        "np_test_outputs9 = np.hstack((np_test_outputs8, np_test_outputs))\n",
        "np_test_outputs10 = np.hstack((np_test_outputs9, np_test_outputs))\n",
        "np_test_outputs11 = np.hstack((np_test_outputs10, np_test_outputs))\n",
        "np_test_outputs12 = np.hstack((np_test_outputs11, np_test_outputs))\n",
        "np_test_outputs13 = np.hstack((np_test_outputs12, np_test_outputs))\n",
        "np_test_outputs14 = np.hstack((np_test_outputs13, np_test_outputs))\n",
        "np_test_outputs15 = np.hstack((np_test_outputs14, np_test_outputs))\n",
        "\n",
        "actual_predictions = scaler.inverse_transform(np_test_outputs15)"
      ],
      "metadata": {
        "id": "clWBEvLGAQwX"
      },
      "execution_count": 319,
      "outputs": []
    },
    {
      "cell_type": "code",
      "source": [
        "# 関数化を試みるも面倒(10/5時点)\n",
        "def stack(outputs, dim):\n",
        "  np_outputs1 = np.array(outputs).reshape(-1,1)"
      ],
      "metadata": {
        "id": "Vhaph3NMGRu5"
      },
      "execution_count": 320,
      "outputs": []
    },
    {
      "cell_type": "code",
      "source": [
        "test_data_size"
      ],
      "metadata": {
        "colab": {
          "base_uri": "https://localhost:8080/"
        },
        "id": "8AY-URKad38_",
        "outputId": "4d02dda7-62bd-4c5f-d1f4-7d812446bab8"
      },
      "execution_count": 321,
      "outputs": [
        {
          "output_type": "execute_result",
          "data": {
            "text/plain": [
              "4238"
            ]
          },
          "metadata": {},
          "execution_count": 321
        }
      ]
    },
    {
      "cell_type": "code",
      "source": [
        "# 予測値のx軸の値の設定\n",
        "x = np.arange(test_start, data_end, 1)\n",
        "print(x,test_data_size)"
      ],
      "metadata": {
        "colab": {
          "base_uri": "https://localhost:8080/"
        },
        "id": "4FG1_LkPAjkj",
        "outputId": "a0f581a3-275c-43ad-8b9f-4858738ab03d"
      },
      "execution_count": 322,
      "outputs": [
        {
          "output_type": "stream",
          "name": "stdout",
          "text": [
            "[13141 13142 13143 ... 17376 17377 17378] 4238\n"
          ]
        }
      ]
    },
    {
      "cell_type": "markdown",
      "source": [
        "# 予測結果と実際の値を同じ図に図示する"
      ],
      "metadata": {
        "id": "L45ScoaIHYcP"
      }
    },
    {
      "cell_type": "code",
      "source": [
        "fig_size = plt.rcParams['figure.figsize']\n",
        "fig_size[0] = 10\n",
        "fig_size[1] = 5\n",
        "plt.rcParams['figure.figsize'] = fig_size"
      ],
      "metadata": {
        "id": "Ak9wcMcxAoN_"
      },
      "execution_count": 323,
      "outputs": []
    },
    {
      "cell_type": "code",
      "source": [
        "plt.title('Number of cnt')\n",
        "plt.ylabel('cnt')\n",
        "plt.grid(True)\n",
        "plt.autoscale(axis='x', tight=True)\n",
        "plt.plot(data['cnt'], label='Ground Truth')\n",
        "plt.plot(x, actual_predictions[:,0], label='Prediction')\n",
        "plt.xlabel('2011/1/1 - 2012/12/31')\n",
        "plt.legend()\n",
        "plt.vlines(x=train_start, ymin=0, ymax=1000, colors='red', linestyles='dotted')\n",
        "plt.vlines(x=test_start, ymin=0, ymax=1000, colors='black', linestyles='dotted')\n",
        "plt.vlines(x=data_end, ymin=0, ymax=1000, colors='red', linestyles='dotted')\n",
        "plt.show()"
      ],
      "metadata": {
        "colab": {
          "base_uri": "https://localhost:8080/",
          "height": 350
        },
        "id": "rq4z7B-EAqEz",
        "outputId": "71c8cce7-767f-4dcf-f0d6-5f71cf1fb96f"
      },
      "execution_count": 324,
      "outputs": [
        {
          "output_type": "display_data",
          "data": {
            "text/plain": [
              "<Figure size 720x360 with 1 Axes>"
            ],
            "image/png": "[encoded data removed]"
          },
          "metadata": {
            "needs_background": "light"
          }
        }
      ]
    },
    {
      "cell_type": "markdown",
      "source": [
        "# 予測部分拡大ver"
      ],
      "metadata": {
        "id": "xZJB6psRHT6b"
      }
    },
    {
      "cell_type": "code",
      "source": [
        "plt.title('Bike sharing data')\n",
        "plt.ylabel('cnt in 1 hour')\n",
        "plt.grid(True)\n",
        "plt.plot(data[\"cnt\"][test_start:data_end], label='Ground Truth')\n",
        "plt.plot(x,actual_predictions[:,0], label='Prediction')\n",
        "plt.legend()\n",
        "plt.show()"
      ],
      "metadata": {
        "id": "dxT84DACA4GR",
        "colab": {
          "base_uri": "https://localhost:8080/",
          "height": 336
        },
        "outputId": "89b68aa5-8029-49b7-87c1-382d1f9e9f07"
      },
      "execution_count": 325,
      "outputs": [
        {
          "output_type": "display_data",
          "data": {
            "text/plain": [
              "<Figure size 720x360 with 1 Axes>"
            ],
            "image/png": "[encoded data removed]"
          },
          "metadata": {
            "needs_background": "light"
          }
        }
      ]
    },
    {
      "cell_type": "markdown",
      "source": [
        "## 考察\n",
        "# 日毎のデータでもLSTMモデル立ててもいいかも"
      ],
      "metadata": {
        "id": "BHrwKGN3B8sy"
      }
    },
    {
      "cell_type": "markdown",
      "source": [
        "## 損失の値を出す"
      ],
      "metadata": {
        "id": "M3FYVBwPnBrT"
      }
    },
    {
      "cell_type": "code",
      "source": [
        "t_data = pd.read_csv(\"/content/drive/MyDrive/Colab Notebooks/LSTM-AE/Bike_sharing_predict/Bike-Sharing-Dataset/hour.csv\")\n",
        "t_data = t_data[\"cnt\"][test_start:data_end]\n",
        "t_data = t_data.values.astype(np.float32)\n",
        "t_data = torch.from_numpy(t_data)\n",
        "predicitions = torch.from_numpy(actual_predictions[:,0])\n",
        "\n",
        "MSE_criterion = nn.MSELoss()\n",
        "MSE_loss = MSE_criterion(t_data, predictions)\n",
        "\n",
        "MAE_loss =  mean_absolute_error(t_data, predictions)\n",
        "\n",
        "print(f'MSEの値は: {MSE_loss} です')\n",
        "print(f'RMSEの値は: {torch.sqrt(MSE_loss)} です')\n",
        "print(f'MAEの値は: {MAE_loss} です')"
      ],
      "metadata": {
        "id": "E9T11CgxnEY1",
        "colab": {
          "base_uri": "https://localhost:8080/"
        },
        "outputId": "cd9fcb84-f443-47c6-a03c-3b33b178b8b3"
      },
      "execution_count": 326,
      "outputs": [
        {
          "output_type": "stream",
          "name": "stdout",
          "text": [
            "MSEの値は: 4347.864549744812 です\n",
            "RMSEの値は: 65.9383389974665 です\n",
            "MAEの値は: 48.011172949564575 です\n"
          ]
        }
      ]
    },
    {
      "cell_type": "code",
      "source": [
        "len(t_data)"
      ],
      "metadata": {
        "colab": {
          "base_uri": "https://localhost:8080/"
        },
        "id": "IOW-WV5WB4Lx",
        "outputId": "246e3bf4-6ad0-47f6-d847-704f73cbd8a8"
      },
      "execution_count": 327,
      "outputs": [
        {
          "output_type": "execute_result",
          "data": {
            "text/plain": [
              "4238"
            ]
          },
          "metadata": {},
          "execution_count": 327
        }
      ]
    },
    {
      "cell_type": "code",
      "source": [
        "len(predictions)"
      ],
      "metadata": {
        "colab": {
          "base_uri": "https://localhost:8080/"
        },
        "id": "29RqbbKcCcUl",
        "outputId": "f1969d18-1592-47d8-8bae-1f2cbde289f5"
      },
      "execution_count": 328,
      "outputs": [
        {
          "output_type": "execute_result",
          "data": {
            "text/plain": [
              "4238"
            ]
          },
          "metadata": {},
          "execution_count": 328
        }
      ]
    },
    {
      "cell_type": "code",
      "source": [],
      "metadata": {
        "id": "3mRPYXsILHE2"
      },
      "execution_count": 328,
      "outputs": []
    }
  ]
}